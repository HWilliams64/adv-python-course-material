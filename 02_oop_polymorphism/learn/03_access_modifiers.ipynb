{
 "cells": [
  {
   "attachments": {},
   "cell_type": "markdown",
   "metadata": {},
   "source": [
    "# Understanding Access Modifiers in Python\n",
    "\n",
    "<style>\n",
    "html,body        {height: 100%;}\n",
    ".wrapper         {width: 80%; max-width: 1280px; height: 100%; margin: 0 auto; background: rgba(255, 255, 255, .0); padding-bottom: 50px}\n",
    ".h_iframe        {position: relative; padding-top: 56%;}\n",
    ".h_iframe iframe {position: absolute; top: 0; left: 0; width: 100%; height: 100%;}\n",
    "</style>\n",
    "\n",
    "<div class=\"wrapper\">\n",
    "    <div class=\"h_iframe\">\n",
    "        <iframe height=\"2\" width=\"2\" src=\"https://www.youtube.com/embed/jnHQHeq2jgI\" title=\"YouTube video player\" frameborder=\"0\" allow=\"accelerometer; autoplay; clipboard-write; encrypted-media; gyroscope; picture-in-picture; web-share\" allowfullscreen></iframe>\n",
    "    </div>\n",
    "</div>\n",
    "\n",
    "Access modifiers, also known as access specifiers, are foundational elements in object-oriented programming languages. Their primary role is to establish rules for how classes, methods, and variables can be accessed within a program. To put it simply, they help define the boundaries or the 'scope' of a particular piece of data or function. For instance, a class or a method may be accessible from anywhere in the code, or it may be limited to its own class or even a particular method within that class. \n",
    "\n",
    "Access modifiers are integral in safeguarding data integrity and encapsulation in your programs. They prevent unauthorized access and modification of data, ensuring that only approved parts of your code can interact with the data or methods that these modifiers protect.\n",
    "\n",
    "But when it comes to Python, things are a bit different. Python doesn't offer the traditional access modifiers like 'private', 'public', or 'protected' found in languages such as Java or C++. However, Python provides certain conventions, primarily using underscores, to simulate the behavior of access modifiers, albeit in a more flexible and less enforced manner. In the following tutorial, we'll explore how these conventions work.\n",
    "\n",
    "Let's go over the main ones:\n"
   ]
  },
  {
   "attachments": {},
   "cell_type": "markdown",
   "metadata": {},
   "source": [
    "\n",
    "## 1. No Underscore\n",
    "\n",
    "If a variable, method, or class has no leading underscore, it's considered public. This means it can be accessed from within its class, its subclass, and anywhere else. This is the default for most methods and variables in a class.\n",
    "\n",
    "Example:\n"
   ]
  },
  {
   "cell_type": "code",
   "execution_count": null,
   "metadata": {},
   "outputs": [],
   "source": [
    "\n",
    "class MyClass:\n",
    "    def __init__(self):\n",
    "        self.public_var = \"I'm public!\"\n",
    "\n",
    "my_instance = MyClass()\n",
    "print(my_instance.public_var)  # I'm public!\n"
   ]
  },
  {
   "attachments": {},
   "cell_type": "markdown",
   "metadata": {},
   "source": [
    "\n",
    "In this case, `public_var` is accessible from anywhere — inside the class, outside the class, in subclasses, and so on.\n"
   ]
  },
  {
   "attachments": {},
   "cell_type": "markdown",
   "metadata": {},
   "source": [
    "## 2. Single Underscore (`_`)\n",
    "\n",
    "A leading single underscore (like `_var`) is a Python convention that indicates a name is meant for internal use. It's considered a \"weak\" internal use or private variable, method, or class — i.e., it should not be accessed directly. But it's mostly only a convention, and Python doesn't stop you from accessing it directly.\n",
    "\n",
    "Example:\n"
   ]
  },
  {
   "cell_type": "code",
   "execution_count": null,
   "metadata": {},
   "outputs": [],
   "source": [
    "\n",
    "class MyClass:\n",
    "    def __init__(self):\n",
    "        self._internal_var = \"I'm internal!\"\n",
    "\n",
    "my_instance = MyClass()\n",
    "print(my_instance._internal_var)  # I'm internal!\n"
   ]
  },
  {
   "attachments": {},
   "cell_type": "markdown",
   "metadata": {},
   "source": [
    "\n",
    "Though we can access `_internal_var` just like `public_var`, by convention we wouldn't do so outside of its class.\n"
   ]
  },
  {
   "attachments": {},
   "cell_type": "markdown",
   "metadata": {},
   "source": [
    "\n",
    "## 3. Double Underscore (`__`)\n",
    "\n",
    "A double underscore prefix (like `__var`) causes the Python interpreter to rewrite the attribute name in order to avoid naming conflicts in subclasses. This is also known as name mangling. The interpreter changes the name of the variable in a way that makes it harder to create collisions when the class is extended later.\n",
    "\n",
    "Example:\n"
   ]
  },
  {
   "attachments": {},
   "cell_type": "markdown",
   "metadata": {},
   "source": [
    "\n",
    "```python\n",
    "class MyClass:\n",
    "    def __init__(self):\n",
    "        self.__private_var = \"I'm private!\"\n",
    "\n",
    "my_instance = MyClass()\n",
    "print(my_instance.__private_var)  # Raises an AttributeError\n",
    "```\n"
   ]
  },
  {
   "attachments": {},
   "cell_type": "markdown",
   "metadata": {},
   "source": [
    "\n",
    "If you try to access `__private_var` directly, you'll get an error. However, the variable is still accessible using its mangled name:\n"
   ]
  },
  {
   "cell_type": "code",
   "execution_count": null,
   "metadata": {},
   "outputs": [],
   "source": [
    "\n",
    "print(my_instance._MyClass__private_var)  # I'm private!\n"
   ]
  },
  {
   "cell_type": "markdown",
   "metadata": {},
   "source": [
    "\n",
    "The double underscore is a strong suggestion to \"stay away\" — it's meant for things that need to avoid naming conflicts with names defined by subclasses.\n",
    "\n",
    "Remember that Python's philosophy is \"we're all consenting adults here,\" meaning you shouldn't put arbitrary restrictions on accessing parts of a class. These conventions are in place to help avoid errors, not to enforce a strict level of variable access like in Java or C++."
   ]
  }
 ],
 "metadata": {
  "kernelspec": {
   "display_name": ".venv",
   "language": "python",
   "name": "python3"
  },
  "language_info": {
   "name": "python",
   "version": "3.8.10 (default, Nov 14 2022, 12:59:47) \n[GCC 9.4.0]"
  },
  "orig_nbformat": 4,
  "vscode": {
   "interpreter": {
    "hash": "65d994a2586566578e6f5f03c290bfd0b2867c7905a9622796af24a8a04596a2"
   }
  }
 },
 "nbformat": 4,
 "nbformat_minor": 2
}
