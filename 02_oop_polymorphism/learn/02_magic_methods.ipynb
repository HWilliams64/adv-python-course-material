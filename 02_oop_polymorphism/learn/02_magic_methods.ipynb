{
 "cells": [
  {
   "attachments": {},
   "cell_type": "markdown",
   "metadata": {},
   "source": [
    "# Magic Methods\n",
    "\n",
    "Magic methods in Python are special methods that add \"magic\" to your classes. They're also called dunder methods because they begin and end with double underscores (`__`). Magic methods allow your objects to implement, support, and interact with basic language constructs such as:\n",
    "\n",
    "- Looping\n",
    "- Collections\n",
    "- Attribute access\n",
    "- Operator overloading\n",
    "- Function and method invocation\n",
    "- Object creation and destruction\n",
    "- String representation and formatting\n",
    "- Managed contexts (i.e., with blocks)\n",
    "\n",
    "The primary purpose of magic methods is to enable you to define the behavior and emulate the built-in types of Python. For example, you can make your own objects iterable, make them behave like functions, or even mimic numeric types.\n",
    "\n",
    "A key aspect of magic methods is operator overloading, which is the practice of defining what an operator (+, -, *, /, etc.) does in relation to your objects. For example, by defining a `__add__` method in your class, you're telling Python how to handle the `+` operator when it's used with instances of your class.\n",
    "\n",
    "Another significant aspect is controlling the creation and destruction of objects through the `__init__` and `__del__` methods. These allow you to manage resources when an object is created or discarded, like opening or closing file or network connections, or allocating or releasing heavy system resources.\n",
    "\n",
    "In essence, magic methods are a powerful tool that allows you to build your own objects that integrate seamlessly with Python's idiomatic expressions, making your classes more Pythonic and intuitive to use."
   ]
  },
  {
   "attachments": {},
   "cell_type": "markdown",
   "metadata": {},
   "source": [
    "## `__init__`\n",
    "\n",
    "<style>\n",
    "html,body        {height: 100%;}\n",
    ".wrapper         {width: 80%; max-width: 1280px; height: 100%; margin: 0 auto; background: rgba(255, 255, 255, .0); padding-bottom: 50px}\n",
    ".h_iframe        {position: relative; padding-top: 56%;}\n",
    ".h_iframe iframe {position: absolute; top: 0; left: 0; width: 100%; height: 100%;}\n",
    "</style>\n",
    "\n",
    "<div class=\"wrapper\">\n",
    "    <div class=\"h_iframe\">\n",
    "        <iframe height=\"2\" width=\"2\" src=\"https://www.youtube.com/embed/YJV5GjRrjJI\" title=\"YouTube video player\" frameborder=\"0\" allow=\"accelerometer; autoplay; clipboard-write; encrypted-media; gyroscope; picture-in-picture; web-share\" allowfullscreen></iframe>\n",
    "    </div>\n",
    "</div>\n",
    "\n",
    "\n",
    "Called when an object is instantiated from a class. It initializes the state of\n",
    "the object. When creating a new object, you pass the values to the `__init__`\n",
    "method.\n",
    "\n",
    "### What is `__init__`?\n",
    "\n",
    "Firstly, let's demystify what `__init__` is all about. This method is also known as the constructor and is automatically called when we create a new instance (object) of a class. It allows us to set the attributes (state) of an object upon creation. \n",
    "\n",
    "But why is it called `__init__`? Well, in Python, methods with double underscores before and after the name are special methods (often called \"dunder\" methods), and `__init__` stands for \"initialize\". So, in essence, this magic method initializes new objects from a class. \n",
    "\n",
    "### How to Use `__init__`\n",
    "\n",
    "Let's create a simple `Dog` class to see `__init__` in action:"
   ]
  },
  {
   "cell_type": "code",
   "execution_count": null,
   "metadata": {},
   "outputs": [],
   "source": [
    "class Dog:\n",
    "    def __init__(self, name, age):\n",
    "        self.name = name\n",
    "        self.age = age\n"
   ]
  },
  {
   "attachments": {},
   "cell_type": "markdown",
   "metadata": {},
   "source": [
    "In the `Dog` class above, our `__init__` method takes three parameters: `self`, `name`, and `age`. `self` is a reference to the instance being created, while `name` and `age` are the attributes that we'll set for each Dog instance.\n",
    "\n",
    "### Let's Make Some Dogs!\n",
    "\n",
    "Now that we have our class, we can make some dogs:"
   ]
  },
  {
   "cell_type": "code",
   "execution_count": null,
   "metadata": {},
   "outputs": [],
   "source": [
    "dog1 = Dog('Fido', 4)\n",
    "dog2 = Dog('Rex', 2)\n"
   ]
  },
  {
   "attachments": {},
   "cell_type": "markdown",
   "metadata": {},
   "source": [
    "In this example, we're creating two instances of the `Dog` class, `dog1` and `dog2`. The `__init__` method is called automatically each time we create a new `Dog` object. \n",
    "\n",
    "For `dog1`, `self` is a reference to `dog1`, `name` is 'Fido', and `age` is 4. \n",
    "\n",
    "For `dog2`, `self` is a reference to `dog2`, `name` is 'Rex', and `age` is 2.\n",
    "\n",
    "We can now access the attributes of these dogs like so:"
   ]
  },
  {
   "cell_type": "code",
   "execution_count": null,
   "metadata": {},
   "outputs": [],
   "source": [
    "print(f\"{dog1.name} is {dog1.age} years old.\")\n",
    "print(f\"{dog2.name} is {dog2.age} years old.\")\n"
   ]
  },
  {
   "attachments": {},
   "cell_type": "markdown",
   "metadata": {},
   "source": [
    "And that's it! We've successfully used the `__init__` method to create and initialize new `Dog` instances. "
   ]
  },
  {
   "attachments": {},
   "cell_type": "markdown",
   "metadata": {},
   "source": [
    "## `__str__` \n",
    "\n",
    "<style>\n",
    "html,body        {height: 100%;}\n",
    ".wrapper         {width: 80%; max-width: 1280px; height: 100%; margin: 0 auto; background: rgba(255, 255, 255, .0); padding-bottom: 50px}\n",
    ".h_iframe        {position: relative; padding-top: 56%;}\n",
    ".h_iframe iframe {position: absolute; top: 0; left: 0; width: 100%; height: 100%;}\n",
    "</style>\n",
    "\n",
    "<div class=\"wrapper\">\n",
    "    <div class=\"h_iframe\">\n",
    "        <iframe height=\"2\" width=\"2\" src=\"https://www.youtube.com/embed/UnjYCC19Md4\" title=\"YouTube video player\" frameborder=\"0\" allow=\"accelerometer; autoplay; clipboard-write; encrypted-media; gyroscope; picture-in-picture; web-share\" allowfullscreen></iframe>\n",
    "    </div>\n",
    "</div>\n",
    "\n",
    "\n",
    "This method should return a string and is called by the str() built-in function\n",
    "and by the print function. It allows you to define a human-readable string for\n",
    "the object.\n",
    "\n",
    "### Understanding `__str__`\n",
    "\n",
    "The `__str__` method in Python represents the class objects as a string. When we use print() or str() for a class object, Python uses the `__str__` method to determine what to display. By default, you get a rather uninformative message like `<__main__.MyClass object at 0x7f22b341d8b0>`. \n",
    "\n",
    "That's where the magic of the `__str__` method comes in. You can define `__str__` in your class to return a more readable, more descriptive string representation of your object. It's like telling Python how to convert your object into a string format that's friendly for humans to read.\n",
    "\n",
    "### Implementing `__str__`\n",
    "\n",
    "Let's say you've created a class, `Car`, with some attributes:"
   ]
  },
  {
   "cell_type": "code",
   "execution_count": null,
   "metadata": {},
   "outputs": [],
   "source": [
    "class Car:\n",
    "    def __init__(self, make, model, year):\n",
    "        self.make = make\n",
    "        self.model = model\n",
    "        self.year = year\n",
    "\n",
    "\n",
    "my_car = Car('Tesla', 'Model 3', 2019)\n",
    "print(my_car)\n"
   ]
  },
  {
   "attachments": {},
   "cell_type": "markdown",
   "metadata": {},
   "source": [
    "When you print `my_car`, Python calls the `__str__` method to convert the object into a string for printing. But if you run this code now, you'll get an output like `<__main__.Car object at 0x0000028F799B0AF0>`. That's not particularly helpful, is it?\n",
    "\n",
    "Let's add a `__str__` method to the `Car` class:"
   ]
  },
  {
   "cell_type": "code",
   "execution_count": null,
   "metadata": {},
   "outputs": [],
   "source": [
    "class Car:\n",
    "    def __init__(self, make, model, year):\n",
    "        self.make = make\n",
    "        self.model = model\n",
    "        self.year = year\n",
    "\n",
    "    def __str__(self):\n",
    "        return f\"{self.year} {self.make} {self.model}\"\n",
    "\n",
    "\n",
    "my_car = Car('Tesla', 'Model 3', 2019)\n",
    "print(my_car)  # 2019 Tesla Model 3\n"
   ]
  },
  {
   "attachments": {},
   "cell_type": "markdown",
   "metadata": {},
   "source": [
    "Look at that! Now when we print `my_car`, we get a nice readable string that tells us this is a \"2019 Tesla Model 3\". Isn't that much nicer?\n",
    "\n",
    "Remember, the `__str__` method should always return a string. It's meant for providing a human-readable description of the object.\n",
    "\n"
   ]
  },
  {
   "attachments": {},
   "cell_type": "markdown",
   "metadata": {},
   "source": [
    "## `__repr__`\n",
    "\n",
    "<style>\n",
    "html,body        {height: 100%;}\n",
    ".wrapper         {width: 80%; max-width: 1280px; height: 100%; margin: 0 auto; background: rgba(255, 255, 255, .0); padding-bottom: 50px}\n",
    ".h_iframe        {position: relative; padding-top: 56%;}\n",
    ".h_iframe iframe {position: absolute; top: 0; left: 0; width: 100%; height: 100%;}\n",
    "</style>\n",
    "\n",
    "<div class=\"wrapper\">\n",
    "    <div class=\"h_iframe\">\n",
    "        <iframe height=\"2\" width=\"2\" src=\"https://www.youtube.com/embed/TdZnKAGXHTY\" title=\"YouTube video player\" frameborder=\"0\" allow=\"accelerometer; autoplay; clipboard-write; encrypted-media; gyroscope; picture-in-picture; web-share\" allowfullscreen></iframe>\n",
    "    </div>\n",
    "</div>\n",
    "\n",
    "\n",
    "The `__repr__` method in Python is another special or \"magic\" method, similar to `__str__`. The name \"repr\" is short for representation because this method returns a string that represents the object as a developer-friendly, or unambiguous, expression.\n",
    "\n",
    "Here's the key difference between `__str__` and `__repr__`:\n",
    "\n",
    "- `__str__`: Meant to return a string representation for end-users. It's a readable, human-friendly format for the object's contents.\n",
    "- `__repr__`: Meant to return a string representation for developers. It's a complete and unambiguous representation of the object.\n",
    "\n",
    "Ideally, calling `eval()` on the result of an object's `__repr__` method should produce a new object equivalent to the original one. While this isn't always feasible, it's a good rule of thumb when writing `__repr__` methods.\n",
    "\n",
    "Here's an example:"
   ]
  },
  {
   "cell_type": "code",
   "execution_count": null,
   "metadata": {},
   "outputs": [],
   "source": [
    "class Car:\n",
    "    def __init__(self, make, model, year):\n",
    "        self.make = make\n",
    "        self.model = model\n",
    "        self.year = year\n",
    "\n",
    "    def __repr__(self):\n",
    "        return f\"Car('{self.make}', '{self.model}', {self.year})\"\n",
    "\n",
    "\n",
    "my_car = Car('Tesla', 'Model 3', 2019)\n",
    "print(repr(my_car))  # Outputs: Car('Tesla', 'Model 3', 2019)\n"
   ]
  },
  {
   "attachments": {},
   "cell_type": "markdown",
   "metadata": {},
   "source": [
    "In this case, the `__repr__` method returns a string that looks like the expression you'd use to create the `Car` object. If `__repr__` was correctly implemented, you should be able to recreate the object using `eval(repr(my_car))`.\n",
    "\n",
    "If you don't define a `__str__` method in your class, Python will call `__repr__` as a fallback when using `print()` or `str()`. This ensures that you get a string representation of your object in all cases."
   ]
  },
  {
   "attachments": {},
   "cell_type": "markdown",
   "metadata": {},
   "source": [
    "## `__eq__`\n",
    "\n",
    "<style>\n",
    "html,body        {height: 100%;}\n",
    ".wrapper         {width: 80%; max-width: 1280px; height: 100%; margin: 0 auto; background: rgba(255, 255, 255, .0); padding-bottom: 50px}\n",
    ".h_iframe        {position: relative; padding-top: 56%;}\n",
    ".h_iframe iframe {position: absolute; top: 0; left: 0; width: 100%; height: 100%;}\n",
    "</style>\n",
    "\n",
    "<div class=\"wrapper\">\n",
    "    <div class=\"h_iframe\">\n",
    "        <iframe height=\"2\" width=\"2\" src=\"https://www.youtube.com/embed/pNhQWg0eW9M\" title=\"YouTube video player\" frameborder=\"0\" allow=\"accelerometer; autoplay; clipboard-write; encrypted-media; gyroscope; picture-in-picture; web-share\" allowfullscreen></iframe>\n",
    "    </div>\n",
    "</div>\n",
    "\n",
    "\n",
    "The `__eq__` magic method in Python is used to compare two objects for equality. When you use the `==` operator in Python, it calls the `__eq__` method to determine whether two objects are equal.\n",
    "\n",
    "By default, if you don't implement `__eq__`, Python compares the memory addresses of the two objects. This is usually not what you want. Instead, you'd want to compare the actual data or state of the objects.\n",
    "\n",
    "The `__eq__` method should return `True` if the objects are equal and `False` otherwise. The argument to `__eq__` is the other object you're comparing the current object with.\n",
    "\n",
    "Here's an example:"
   ]
  },
  {
   "cell_type": "code",
   "execution_count": null,
   "metadata": {},
   "outputs": [],
   "source": [
    "class Book:\n",
    "    def __init__(self, title, author):\n",
    "        self.title = title\n",
    "        self.author = author\n",
    "\n",
    "    def __eq__(self, other):\n",
    "        if isinstance(other, Book):\n",
    "            return self.title == other.title and self.author == other.author\n",
    "        return False\n",
    "\n",
    "\n",
    "book1 = Book('The Great Gatsby', 'F. Scott Fitzgerald')\n",
    "book2 = Book('The Great Gatsby', 'F. Scott Fitzgerald')\n",
    "book3 = Book('Don Quixote', 'Miguel de Cervantes')\n",
    "\n",
    "print(book1 == book2)  # Outputs: True\n",
    "print(book1 == book3)  # Outputs: False\n"
   ]
  },
  {
   "attachments": {},
   "cell_type": "markdown",
   "metadata": {},
   "source": [
    "In this example, the `__eq__` method compares both the title and author of the books. When we compare `book1` and `book2` using `==`, the `__eq__` method returns `True` because both the title and author match. But when we compare `book1` and `book3`, it returns `False` because the titles and authors are different."
   ]
  },
  {
   "attachments": {},
   "cell_type": "markdown",
   "metadata": {},
   "source": [
    "## `__ne__`\n",
    "\n",
    "<style>\n",
    "html,body        {height: 100%;}\n",
    ".wrapper         {width: 80%; max-width: 1280px; height: 100%; margin: 0 auto; background: rgba(255, 255, 255, .0); padding-bottom: 50px}\n",
    ".h_iframe        {position: relative; padding-top: 56%;}\n",
    ".h_iframe iframe {position: absolute; top: 0; left: 0; width: 100%; height: 100%;}\n",
    "</style>\n",
    "\n",
    "<div class=\"wrapper\">\n",
    "    <div class=\"h_iframe\">\n",
    "        <iframe height=\"2\" width=\"2\" src=\"https://www.youtube.com/embed/_yBqUhff1ZQ\" title=\"YouTube video player\" frameborder=\"0\" allow=\"accelerometer; autoplay; clipboard-write; encrypted-media; gyroscope; picture-in-picture; web-share\" allowfullscreen></iframe>\n",
    "    </div>\n",
    "</div>\n",
    "\n",
    "\n",
    "The `__ne__` magic method in Python is used to compare two objects for inequality. The `__ne__` method is called when you use the `!=` operator. \n",
    "\n",
    "Similar to `__eq__`, if you don't implement `__ne__`, Python compares the memory addresses of the two objects to decide if they're unequal. In many cases, you'd want to customize this behavior based on the actual data or state of the objects.\n",
    "\n",
    "The `__ne__` method should return `True` if the objects are not equal and `False` otherwise. The argument to `__ne__` is the other object you're comparing the current object with.\n",
    "\n",
    "Here's an example:\n",
    "\n",
    "\n"
   ]
  },
  {
   "cell_type": "code",
   "execution_count": null,
   "metadata": {},
   "outputs": [],
   "source": [
    "class Book:\n",
    "    def __init__(self, title, author):\n",
    "        self.title = title\n",
    "        self.author = author\n",
    "\n",
    "    def __ne__(self, other):\n",
    "        if isinstance(other, Book):\n",
    "            return self.title != other.title or self.author != other.author\n",
    "        return True\n",
    "\n",
    "\n",
    "book1 = Book('1984', 'George Orwell')\n",
    "book2 = Book('1984', 'George Orwell')\n",
    "book3 = Book('Brave New World', 'Aldous Huxley')\n",
    "\n",
    "print(book1 != book2)  # Outputs: False\n",
    "print(book1 != book3)  # Outputs: True\n"
   ]
  },
  {
   "attachments": {},
   "cell_type": "markdown",
   "metadata": {},
   "source": [
    "\n",
    "\n",
    "In this example, the `__ne__` method checks both the title and author of the books. When we compare `book1` and `book2` using `!=`, the `__ne__` method returns `False` because the books are actually equal. But when we compare `book1` and `book3`, it returns `True` because they are indeed different.\n",
    "\n",
    "It's important to note that since Python 3.0, if the `__ne__` method is not implemented, Python will automatically assume that `x != y` is equivalent to `not x == y` as a fallback. However, it's still considered good practice to implement the `__ne__` method."
   ]
  },
  {
   "attachments": {},
   "cell_type": "markdown",
   "metadata": {},
   "source": [
    "## `__add__`\n",
    "\n",
    "<style>\n",
    "html,body        {height: 100%;}\n",
    ".wrapper         {width: 80%; max-width: 1280px; height: 100%; margin: 0 auto; background: rgba(255, 255, 255, .0); padding-bottom: 50px}\n",
    ".h_iframe        {position: relative; padding-top: 56%;}\n",
    ".h_iframe iframe {position: absolute; top: 0; left: 0; width: 100%; height: 100%;}\n",
    "</style>\n",
    "\n",
    "<div class=\"wrapper\">\n",
    "    <div class=\"h_iframe\">\n",
    "        <iframe height=\"2\" width=\"2\" src=\"https://www.youtube.com/embed/r_XhBtoObHw\" title=\"YouTube video player\" frameborder=\"0\" allow=\"accelerometer; autoplay; clipboard-write; encrypted-media; gyroscope; picture-in-picture; web-share\" allowfullscreen></iframe>\n",
    "    </div>\n",
    "</div>\n",
    "\n",
    "\n",
    "The `__add__` magic method in Python is used for overloading the `+` operator. That is, it allows you to define custom behavior for the `+` operator when it's used with instances of your class.\n",
    "\n",
    "In other words, when you use the `+` operator to add two objects together, Python calls the `__add__` method. The argument to `__add__` is the object on the right side of the `+` operator. The `self` parameter, as always, refers to the object on the left side of the `+` operator.\n",
    "\n",
    "Here's an example:\n"
   ]
  },
  {
   "cell_type": "code",
   "execution_count": null,
   "metadata": {},
   "outputs": [],
   "source": [
    "class Point:\n",
    "    def __init__(self, x, y):\n",
    "        self.x = x\n",
    "        self.y = y\n",
    "\n",
    "    def __add__(self, other):\n",
    "        if isinstance(other, Point):\n",
    "            return Point(self.x + other.x, self.y + other.y)\n",
    "        else:\n",
    "            raise TypeError(\"You can only add another Point object.\")\n",
    "\n",
    "\n",
    "p1 = Point(1, 2)\n",
    "p2 = Point(3, 4)\n",
    "p3 = p1 + p2\n",
    "print(p3.x, p3.y)  # Outputs: 4 6\n"
   ]
  },
  {
   "cell_type": "markdown",
   "metadata": {},
   "source": [
    "\n",
    "\n",
    "In this example, the `__add__` method returns a new `Point` object that represents the vector addition of the two points. When we try to add `p1` and `p2` with `p1 + p2`, Python calls `p1.__add__(p2)`, which returns a new `Point` object with the x-coordinates and y-coordinates added together.\n",
    "\n",
    "The `__add__` method makes the `+` operator much more intuitive for objects of the `Point` class. Instead of having to manually add the x and y coordinates of two points, we can just use `+`.\n",
    "\n",
    "This is the essence of operator overloading - it lets us use standard operators like `+` with our objects, which can make our code more readable and idiomatic."
   ]
  },
  {
   "attachments": {},
   "cell_type": "markdown",
   "metadata": {},
   "source": [
    "## `__len__`\n",
    "\n",
    "<style>\n",
    "html,body        {height: 100%;}\n",
    ".wrapper         {width: 80%; max-width: 1280px; height: 100%; margin: 0 auto; background: rgba(255, 255, 255, .0); padding-bottom: 50px}\n",
    ".h_iframe        {position: relative; padding-top: 56%;}\n",
    ".h_iframe iframe {position: absolute; top: 0; left: 0; width: 100%; height: 100%;}\n",
    "</style>\n",
    "\n",
    "<div class=\"wrapper\">\n",
    "    <div class=\"h_iframe\">\n",
    "        <iframe height=\"2\" width=\"2\" src=\"https://www.youtube.com/embed/eB7KFpNfW_c\" title=\"YouTube video player\" frameborder=\"0\" allow=\"accelerometer; autoplay; clipboard-write; encrypted-media; gyroscope; picture-in-picture; web-share\" allowfullscreen></iframe>\n",
    "    </div>\n",
    "</div>\n",
    "\n",
    "\n",
    "The `__len__` magic method in Python is used to define the behavior of the `len()` built-in function when applied to instances of your class. This method should return an integer that represents the \"length\" of the object in some way. \n",
    "\n",
    "Here's an example:\n"
   ]
  },
  {
   "cell_type": "code",
   "execution_count": null,
   "metadata": {},
   "outputs": [],
   "source": [
    "class Stack:\n",
    "    def __init__(self):\n",
    "        self.items = []\n",
    "\n",
    "    def push(self, item):\n",
    "        self.items.append(item)\n",
    "\n",
    "    def pop(self):\n",
    "        return self.items.pop()\n",
    "\n",
    "    def __len__(self):\n",
    "        return len(self.items)\n",
    "\n",
    "\n",
    "s = Stack()\n",
    "s.push('Hello')\n",
    "s.push('World')\n",
    "print(len(s))  # Outputs: 2\n"
   ]
  },
  {
   "cell_type": "markdown",
   "metadata": {},
   "source": [
    "\n",
    "\n",
    "In this example, we have a `Stack` class that represents a basic stack data structure. We can push items onto the stack and pop them off. We define the `__len__` method to return the number of items in the stack. So when we call `len(s)`, Python calls `s.__len__()` and returns the number of items on the stack.\n",
    "\n",
    "The `__len__` method allows your objects to use the `len()` function intuitively, similar to built-in types like lists and tuples. However, you need to make sure it makes sense to have a length for your objects. If it doesn't make sense, it's better not to implement `__len__`.\n",
    "\n",
    "Please note that the `__len__` method should return a value that is >= 0. If it doesn't, `len()` will raise a `ValueError`."
   ]
  },
  {
   "attachments": {},
   "cell_type": "markdown",
   "metadata": {},
   "source": [
    "## Other magic methods\n",
    "\n",
    "This magic methods discuessed above is just the surface. Below are a few more:\n",
    "\n",
    "- `__sub__`: Overloads the `-` operator. It allows you to define subtraction between two instances of your class or an instance of your class and another type.\n",
    "\n",
    "- `__mul__`: Overloads the `*` operator. You can use it to define multiplication of your object with another object or value.\n",
    "\n",
    "- `__div__`: Overloads the `/` operator. You can use it to define the division of your object by another object or value.\n",
    "\n",
    "- `__lt__`, `__le__`, `__gt__`, `__ge__`: These methods overload the `<`, `<=`, `>`, `>=` comparison operators, respectively. They can be used to provide custom comparisons between instances of your class.\n",
    "\n",
    "- `__getitem__`, `__setitem__`: These methods are used to implement functionality similar to accessing and setting elements in a list or dictionary using square brackets. They enable you to use the `[]` operator to get or set values in your object.\n",
    "\n",
    "- `__del__`: This method is called when an object is about to be destroyed (although exactly when is not guaranteed). It can be useful for cleaning up resources.\n",
    "\n",
    "- `__iter__`, `__next__`: These methods are used to make an object iterable, i.e., capable of being looped over. The `__iter__` method should return the object itself (usually), and the `__next__` method should return the next value of the iteration.\n",
    "\n",
    "- `__enter__`, `__exit__`: These methods are used to define a managed context. They are executed at the beginning and end of a `with` block, respectively, and allow for proper setup and cleanup of resources.\n",
    "\n",
    "These magic methods allow you to leverage Python's syntactic sugar and to make your classes behave like built-in types, which can lead to more readable, idiomatic code."
   ]
  }
 ],
 "metadata": {
  "kernelspec": {
   "display_name": ".venv",
   "language": "python",
   "name": "python3"
  },
  "language_info": {
   "name": "python",
   "version": "3.8.10 (default, Nov 14 2022, 12:59:47) \n[GCC 9.4.0]"
  },
  "orig_nbformat": 4,
  "vscode": {
   "interpreter": {
    "hash": "65d994a2586566578e6f5f03c290bfd0b2867c7905a9622796af24a8a04596a2"
   }
  }
 },
 "nbformat": 4,
 "nbformat_minor": 2
}
