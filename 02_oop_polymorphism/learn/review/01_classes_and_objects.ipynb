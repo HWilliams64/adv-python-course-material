{
 "cells": [
  {
   "attachments": {},
   "cell_type": "markdown",
   "metadata": {},
   "source": [
    "# Python Classes and Objects\n",
    "\n",
    "In this tutorial, we'll go through Python classes, objects, methods, variables,\n",
    "and some fundamental concepts associated with them.\n",
    "\n",
    "At a high level, a class is a blueprint for creating objects in object-oriented programming. It's a user-defined prototype for an object that defines a set of attributes and methods that characterize any object of the class. \n",
    "\n",
    "The attributes are data members or variables that hold the state of the object, while the methods define what the object can do, i.e., the behavior of the object. \n",
    "\n",
    "You can think of a class as a blueprint for a house. It defines the dimensions, layout, and materials but doesn't exist as a physical entity until it's built. Once you have the blueprint, you can build as many houses as you want from it, and each house (an instance of the class) can have its own specific characteristics (instance variables) like color, decor, etc., while adhering to the blueprint. \n",
    "\n",
    "For example, consider a `Car` class. The class might define attributes like\n",
    "`make`, `model`, and `color`, and methods like `drive`, `brake`, and `park`. You\n",
    "can then create instances (objects) of the `Car` class like `myCar` or\n",
    "`yourCar`, each with its own specific make, model, and color.\n",
    "\n",
    "<style>\n",
    "html,body        {height: 100%;}\n",
    ".wrapper         {width: 80%; max-width: 1280px; height: 100%; margin: 0 auto; background: rgba(255, 255, 255, .0); padding-bottom: 50px}\n",
    ".h_iframe        {position: relative; padding-top: 56%;}\n",
    ".h_iframe iframe {position: absolute; top: 0; left: 0; width: 100%; height: 100%;}\n",
    "</style>\n",
    "\n",
    "<div class=\"wrapper\">\n",
    "    <div class=\"h_iframe\">\n",
    "        <iframe height=\"2\" width=\"2\" src=\"https://www.youtube.com/embed/m_3gQmFOcfA\" title=\"YouTube video player\" frameborder=\"0\" allow=\"accelerometer; autoplay; clipboard-write; encrypted-media; gyroscope; picture-in-picture; web-share\" allowfullscreen></iframe>\n",
    "    </div>\n",
    "</div>"
   ]
  },
  {
   "attachments": {},
   "cell_type": "markdown",
   "metadata": {},
   "source": [
    "## What is a Class?\n",
    "\n",
    "A class is a blueprint for creating objects in programming. It allows you to define properties and behaviors that are common to all objects of a specific kind. For instance, if we're creating a game, we might have a class for 'Player' with properties like 'name', 'score', and behaviors like 'run', 'jump', etc.\n",
    "\n",
    "Here's an example of a simple class:"
   ]
  },
  {
   "cell_type": "code",
   "execution_count": null,
   "metadata": {},
   "outputs": [],
   "source": [
    "class Player:\n",
    "    pass\n"
   ]
  },
  {
   "attachments": {},
   "cell_type": "markdown",
   "metadata": {},
   "source": [
    "The `class` keyword indicates that you're defining a class, followed by the name of the class (`Player` in this case), followed by a colon. `pass` is just a placeholder when there's no other code to execute."
   ]
  },
  {
   "attachments": {},
   "cell_type": "markdown",
   "metadata": {},
   "source": [
    "## What is an Object?\n",
    "\n",
    "An object is an instance of a class. It's a specific realization of the class, with actual values for the properties defined by the class.\n",
    "\n",
    "Let's create an object from our `Player` class:"
   ]
  },
  {
   "cell_type": "code",
   "execution_count": null,
   "metadata": {},
   "outputs": [],
   "source": [
    "player1 = Player()\n"
   ]
  },
  {
   "attachments": {},
   "cell_type": "markdown",
   "metadata": {},
   "source": [
    "Here, `player1` is an object of the `Player` class."
   ]
  },
  {
   "attachments": {},
   "cell_type": "markdown",
   "metadata": {},
   "source": [
    "## Class Methods\n",
    "\n",
    "<style>\n",
    "html,body        {height: 100%;}\n",
    ".wrapper         {width: 80%; max-width: 1280px; height: 100%; margin: 0 auto; background: rgba(255, 255, 255, .0); padding-bottom: 50px}\n",
    ".h_iframe        {position: relative; padding-top: 56%;}\n",
    ".h_iframe iframe {position: absolute; top: 0; left: 0; width: 100%; height: 100%;}\n",
    "</style>\n",
    "\n",
    "<div class=\"wrapper\">\n",
    "    <div class=\"h_iframe\">\n",
    "        <iframe height=\"2\" width=\"2\" src=\"https://www.youtube.com/embed/DpV3A2WOKPs\" title=\"YouTube video player\" frameborder=\"0\" allow=\"accelerometer; autoplay; clipboard-write; encrypted-media; gyroscope; picture-in-picture; web-share\" allowfullscreen></iframe>\n",
    "    </div>\n",
    "</div>\n",
    "\n",
    "A class method is a function defined inside a class, which typically performs\n",
    "actions related to the objects of that class. Method's first argument is always the\n",
    "`self` argument. `self` is a reference to the object instance data, all other\n",
    "arguments come after the `self` argument. We will discuss self more later.\n",
    "\n",
    "Let's add a method to our `Player` class:"
   ]
  },
  {
   "cell_type": "code",
   "execution_count": null,
   "metadata": {},
   "outputs": [],
   "source": [
    "class Player:\n",
    "    def run(self):\n",
    "        print(\"The player is running.\")\n",
    "\n",
    "\n",
    "player1 = Player()\n",
    "player1.run()  # The player is running.\n"
   ]
  },
  {
   "attachments": {},
   "cell_type": "markdown",
   "metadata": {},
   "source": [
    "Here, `run` is a method that prints a message. Notice, when we call the `run`\n",
    "argument we don't need to specify `self`. This is because `self` is implied by\n",
    "the fact that you are working with the `player1` instance of the object. Thus\n",
    "`self` is a reference to the `player1` instance. \n",
    "\n",
    "In other words `self` is always the instance of the object you are working with\n",
    "and you don't need to specify it when you are calling methods.\n"
   ]
  },
  {
   "attachments": {},
   "cell_type": "markdown",
   "metadata": {},
   "source": [
    "## `__init__` Method\n",
    "\n",
    "<style>\n",
    "html,body        {height: 100%;}\n",
    ".wrapper         {width: 80%; max-width: 1280px; height: 100%; margin: 0 auto; background: rgba(255, 255, 255, .0); padding-bottom: 50px}\n",
    ".h_iframe        {position: relative; padding-top: 56%;}\n",
    ".h_iframe iframe {position: absolute; top: 0; left: 0; width: 100%; height: 100%;}\n",
    "</style>\n",
    "\n",
    "<div class=\"wrapper\">\n",
    "    <div class=\"h_iframe\">\n",
    "        <iframe height=\"2\" width=\"2\" src=\"https://www.youtube.com/embed/YJV5GjRrjJI\" title=\"YouTube video player\" frameborder=\"0\" allow=\"accelerometer; autoplay; clipboard-write; encrypted-media; gyroscope; picture-in-picture; web-share\" allowfullscreen></iframe>\n",
    "    </div>\n",
    "</div>\n",
    "\n",
    "The `__init__` method in Python is a special method that gets automatically called when a new object is instantiated from a class. It's also known as a constructor in object-oriented programming concepts. This method is used to initialize the attributes or variables of a class for a specific instance.\n",
    "\n",
    "The name `__init__` is a bit of Python magic: any method surrounded by double underscores like this is a special built-in method with a specific purpose. \n",
    "\n",
    "Here's an example of how to use it:"
   ]
  },
  {
   "cell_type": "code",
   "execution_count": null,
   "metadata": {},
   "outputs": [],
   "source": [
    "class Car:\n",
    "    def __init__(self, brand, model, year):\n",
    "        self.brand = brand\n",
    "        self.model = model\n",
    "        self.year = year\n",
    "\n",
    "\n",
    "my_car = Car('Tesla', 'Model S', 2023)\n",
    "\n",
    "print(my_car.brand, my_car.model, my_car.year)\n"
   ]
  },
  {
   "attachments": {},
   "cell_type": "markdown",
   "metadata": {},
   "source": [
    "In this case, `__init__` initializes `brand`, `model`, and `year` to the values you pass in when you create a new `Car` instance. \n",
    "\n",
    "When you call `Car('Tesla', 'Model S', 2020)`, Python creates a new `Car` object and then calls the `__init__` method on that object, passing in 'Tesla', 'Model S', and 2023 as the arguments. Inside `__init__`, `self` refers to the new object; `self.brand` sets the `brand` attribute of the object to 'Tesla', `self.model` sets the `model` attribute to 'Model S', and `self.year` sets the `year` attribute to 2023.\n",
    "\n",
    "So, `__init__` provides a way to set the initial state of an object."
   ]
  },
  {
   "attachments": {},
   "cell_type": "markdown",
   "metadata": {},
   "source": [
    "## More on `self`\n",
    "\n",
    "<style>\n",
    "html,body        {height: 100%;}\n",
    ".wrapper         {width: 80%; max-width: 1280px; height: 100%; margin: 0 auto; background: rgba(255, 255, 255, .0); padding-bottom: 50px}\n",
    ".h_iframe        {position: relative; padding-top: 56%;}\n",
    ".h_iframe iframe {position: absolute; top: 0; left: 0; width: 100%; height: 100%;}\n",
    "</style>\n",
    "\n",
    "<div class=\"wrapper\">\n",
    "    <div class=\"h_iframe\">\n",
    "        <iframe height=\"2\" width=\"2\" src=\"https://www.youtube.com/embed/rnQqoAK-974\" title=\"YouTube video player\" frameborder=\"0\" allow=\"accelerometer; autoplay; clipboard-write; encrypted-media; gyroscope; picture-in-picture; web-share\" allowfullscreen></iframe>\n",
    "    </div>\n",
    "</div>\n",
    "\n",
    "In Python, `self` is a convention used in instance methods to refer to the instance the method is currently being called on. It's the first parameter in an instance method, and Python automatically binds it to the instance when you call the method on it.\n",
    "\n",
    "Consider the following example:\n",
    "\n"
   ]
  },
  {
   "cell_type": "code",
   "execution_count": null,
   "metadata": {},
   "outputs": [],
   "source": [
    "class Car:\n",
    "    def __init__(self, brand, model, year):\n",
    "        self.brand = brand\n",
    "        self.model = model\n",
    "        self.year = year\n",
    "\n",
    "    def display_info(self):\n",
    "        print(f\"A {self.year} {self.brand} {self.model}.\")\n",
    "\n",
    "\n",
    "my_car = Car('Tesla', 'Model S', 2023)\n",
    "my_other_car = Car('Toyota', 'RAV4', 2021)\n",
    "\n",
    "my_car.display_info()\n",
    "my_other_car.display_info()\n"
   ]
  },
  {
   "attachments": {},
   "cell_type": "markdown",
   "metadata": {},
   "source": [
    "In the `display_info` method, `self` is used to access the attributes of the\n",
    "class. So, when you call this method on an instance of the `Car` class, `self`\n",
    "will refer to that specific instance.\n",
    "\n",
    "In this case, `self` in the `display_info` method is automatically bound to `my_car` when you call `my_car.display_info()`.\n",
    "\n",
    "While `self` is the conventional name for this parameter, you could technically name it whatever you want. However, it's strongly recommended to stick with `self` because it's instantly recognizable to other Python programmers."
   ]
  },
  {
   "attachments": {},
   "cell_type": "markdown",
   "metadata": {},
   "source": [
    "## Getters and Setters\n",
    "\n",
    "<style>\n",
    "html,body        {height: 100%;}\n",
    ".wrapper         {width: 80%; max-width: 1280px; height: 100%; margin: 0 auto; background: rgba(255, 255, 255, .0); padding-bottom: 50px}\n",
    ".h_iframe        {position: relative; padding-top: 56%;}\n",
    ".h_iframe iframe {position: absolute; top: 0; left: 0; width: 100%; height: 100%;}\n",
    "</style>\n",
    "\n",
    "<div class=\"wrapper\">\n",
    "    <div class=\"h_iframe\">\n",
    "        <iframe height=\"2\" width=\"2\" src=\"https://www.youtube.com/embed/lohiTnqXr8I\" title=\"YouTube video player\" frameborder=\"0\" allow=\"accelerometer; autoplay; clipboard-write; encrypted-media; gyroscope; picture-in-picture; web-share\" allowfullscreen></iframe>\n",
    "    </div>\n",
    "</div>\n",
    "\n",
    "Getters and Setters are used to protect your class's variables by controlling how they are accessed and modified. In Python, you can implement getters and setters like so:"
   ]
  },
  {
   "cell_type": "code",
   "execution_count": null,
   "metadata": {},
   "outputs": [],
   "source": [
    "class Player:\n",
    "    def __init__(self, name):\n",
    "        self.name = name\n",
    "\n",
    "    # Getter\n",
    "    def get_name(self):\n",
    "        return self.name\n",
    "\n",
    "    # Setter\n",
    "    def set_name(self, value):\n",
    "        if not isinstance(value, str):\n",
    "            raise ValueError(\"Name must be a string!\")\n",
    "        self.name = value\n",
    "\n",
    "\n",
    "# Creating a Player object\n",
    "player1 = Player(\"John\")\n",
    "\n",
    "# Using getter to access name\n",
    "print(player1.get_name())  # John\n",
    "\n",
    "# Using setter to change name\n",
    "player1.set_name(\"Alice\")\n",
    "print(player1.get_name())  # Alice\n"
   ]
  },
  {
   "attachments": {},
   "cell_type": "markdown",
   "metadata": {},
   "source": [
    "Here, `get_name()` and `set_name()` are the getter and setter methods for the `name` attribute. You can see that the getter just returns the value of the attribute, while the setter validates the input before setting the attribute. The leading underscore in `_name` denotes it as a \"private\" variable, a convention that signifies it should not be accessed directly."
   ]
  },
  {
   "attachments": {},
   "cell_type": "markdown",
   "metadata": {},
   "source": [
    "## Class Variables, Instance Variables, and Local Variables\n",
    "\n",
    "<style>\n",
    "html,body        {height: 100%;}\n",
    ".wrapper         {width: 80%; max-width: 1280px; height: 100%; margin: 0 auto; background: rgba(255, 255, 255, .0); padding-bottom: 50px}\n",
    ".h_iframe        {position: relative; padding-top: 56%;}\n",
    ".h_iframe iframe {position: absolute; top: 0; left: 0; width: 100%; height: 100%;}\n",
    "</style>\n",
    "\n",
    "<div class=\"wrapper\">\n",
    "    <div class=\"h_iframe\">\n",
    "        <iframe height=\"2\" width=\"2\" src=\"https://www.youtube.com/embed/_MTR8r8ksLs\" title=\"YouTube video player\" frameborder=\"0\" allow=\"accelerometer; autoplay; clipboard-write; encrypted-media; gyroscope; picture-in-picture; web-share\" allowfullscreen></iframe>\n",
    "    </div>\n",
    "</div>\n",
    "\n",
    "- **Class Variables**: These are variables that are shared among all instances of a class. They're defined directly within a class but outside any of the class's methods.\n",
    "\n",
    "- **Instance Variables**: These are variables that are unique to each instance. They're defined inside a method and are prefixed with `self`.\n",
    "\n",
    "- **Local Variables**: These are variables that are defined inside a method and aren't prefixed with anything. They can only be used inside the method they're defined in.\n",
    "\n",
    "Let's see an example:"
   ]
  },
  {
   "cell_type": "code",
   "execution_count": null,
   "metadata": {},
   "outputs": [],
   "source": [
    "class Player:\n",
    "    team_name = \"Blue\"  # Class variable\n",
    "\n",
    "    def __init__(self, name):\n",
    "        self.name = name  # Instance variable\n",
    "\n",
    "    def run(self):\n",
    "        speed = 10  # Local variable\n",
    "        print(f\"{self.name}"
   ]
  }
 ],
 "metadata": {
  "kernelspec": {
   "display_name": ".venv",
   "language": "python",
   "name": "python3"
  },
  "language_info": {
   "codemirror_mode": {
    "name": "ipython",
    "version": 3
   },
   "file_extension": ".py",
   "mimetype": "text/x-python",
   "name": "python",
   "nbconvert_exporter": "python",
   "pygments_lexer": "ipython3",
   "version": "3.8.10 (default, Nov 14 2022, 12:59:47) \n[GCC 9.4.0]"
  },
  "orig_nbformat": 4,
  "vscode": {
   "interpreter": {
    "hash": "65d994a2586566578e6f5f03c290bfd0b2867c7905a9622796af24a8a04596a2"
   }
  }
 },
 "nbformat": 4,
 "nbformat_minor": 2
}
