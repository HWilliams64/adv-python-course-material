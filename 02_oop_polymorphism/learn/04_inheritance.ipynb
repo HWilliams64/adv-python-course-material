{
 "cells": [
  {
   "cell_type": "markdown",
   "metadata": {},
   "source": [
    "# Inheritance and Method Overriding in Python\n",
    "\n",
    "Inheritance allows a class to inherit attributes and methods from another class, known as the parent or base class. This is a fundamental aspect of object-oriented programming (OOP) that promotes code reuse and relationship between classes.\n"
   ]
  },
  {
   "cell_type": "markdown",
   "metadata": {},
   "source": [
    "\n",
    "### Object Inheritance\n",
    "\n",
    "<style>\n",
    "html,body        {height: 100%;}\n",
    ".wrapper         {width: 80%; max-width: 1280px; height: 100%; margin: 0 auto; background: rgba(255, 255, 255, .0); padding-bottom: 50px}\n",
    ".h_iframe        {position: relative; padding-top: 56%;}\n",
    ".h_iframe iframe {position: absolute; top: 0; left: 0; width: 100%; height: 100%;}\n",
    "</style>\n",
    "\n",
    "<div class=\"wrapper\">\n",
    "    <div class=\"h_iframe\">\n",
    "        <iframe height=\"2\" width=\"2\" src=\"https://www.youtube.com/embed/vZTp4tzm2_8\" title=\"YouTube video player\" frameborder=\"0\" allow=\"accelerometer; autoplay; clipboard-write; encrypted-media; gyroscope; picture-in-picture; web-share\" allowfullscreen></iframe>\n",
    "    </div>\n",
    "</div>\n",
    "\n",
    "Inheritance enables new classes to take on the properties and behaviors of existing classes. The new class, called a child or subclass, can inherit methods and attributes from the parent class, while also introducing its own.\n"
   ]
  },
  {
   "cell_type": "code",
   "execution_count": null,
   "metadata": {},
   "outputs": [],
   "source": [
    "\n",
    "class Athlete:\n",
    "    def __init__(self, name, sport):\n",
    "        self.name = name\n",
    "        self.sport = sport\n",
    "        self.energy = 1\n",
    "    \n",
    "    def train(self):\n",
    "        if self.energy < 0:\n",
    "            raise RuntimeError(f\"{self.name} is too tired to train!\")\n",
    "\n",
    "        self.energy -= .25\n",
    "        print(f\"{self.name} is training in {self.sport}\")\n",
    "    \n",
    "    def sleep(self):\n",
    "        self.energy = 1\n",
    "\n",
    "\n",
    "athlete_player = Athlete(\"LeBron\", \"Basketball\")\n",
    "athlete_player.train()\n"
   ]
  },
  {
   "cell_type": "markdown",
   "metadata": {},
   "source": [
    "\n",
    "- **Athlete class**: Represents a general athlete, with a name and sport.\n",
    "- **`train` method**: Prints a message about the athlete's training.\n"
   ]
  },
  {
   "cell_type": "markdown",
   "metadata": {},
   "source": [
    "\n",
    "### Method Overriding\n",
    "\n",
    "Method overriding occurs when a child class defines a method that already exists in the parent class. This allows the child class to provide a specific implementation of the method.\n"
   ]
  },
  {
   "cell_type": "markdown",
   "metadata": {},
   "source": [
    "\n",
    "### Using `super()` to Extend Functionality\n",
    "\n",
    "The `super()` function is used to call methods from the parent class. This can be useful when overriding methods, but still wanting to include the parent class's method behavior.\n"
   ]
  },
  {
   "cell_type": "markdown",
   "metadata": {},
   "source": [
    "\n",
    "### Soccer and Football Classes (Examples of Inheritance and Method Overriding)\n"
   ]
  },
  {
   "cell_type": "code",
   "execution_count": null,
   "metadata": {},
   "outputs": [],
   "source": [
    "class Soccer(Athlete):\n",
    "    def train(self):\n",
    "        super().train()  # Call the parent method\n",
    "        print(f\"{self.name} practices dribbling and shooting\")\n",
    "\n",
    "class Football(Athlete):\n",
    "    def train(self):\n",
    "        super().train()  # Call the parent method\n",
    "        print(f\"{self.name} practices passing and tackling\")\n"
   ]
  },
  {
   "cell_type": "markdown",
   "metadata": {},
   "source": [
    "\n",
    "- **Soccer and Football classes**: Inherit from `Athlete`.\n",
    "- **Overridden `train` method**: Calls the `train` method from `Athlete` using `super()`, then adds sport-specific training.\n"
   ]
  },
  {
   "cell_type": "markdown",
   "metadata": {},
   "source": [
    "\n",
    "### Example Usage\n",
    "\n",
    "*Make sure you run the code cell above before running this code cell.*"
   ]
  },
  {
   "cell_type": "code",
   "execution_count": null,
   "metadata": {},
   "outputs": [],
   "source": [
    "soccer_player = Soccer(\"Lionel\", \"Soccer\")\n",
    "football_player = Football(\"Patrick\", \"Football\")\n",
    "\n",
    "soccer_player.train()\n",
    "\n",
    "football_player.train()\n",
    "\n",
    "# Overtrain the athlete\n",
    "for _ in range(5):\n",
    "    soccer_player.train()\n",
    "\n"
   ]
  },
  {
   "cell_type": "markdown",
   "metadata": {},
   "source": [
    "\n",
    "- **Creating instances of Soccer and Football**: Demonstrates how they use both the inherited `train` method from `Athlete` and their overridden implementations.\n"
   ]
  },
  {
   "cell_type": "markdown",
   "metadata": {},
   "source": [
    "\n",
    "### Try it out\n",
    "\n",
    "Experiment by creating your own subclasses of `Athlete` for different sports. Override the `train` method to include training specifics for your chosen sport. Use `super()` to incorporate the general training behavior from the `Athlete` class.\n"
   ]
  },
  {
   "cell_type": "code",
   "execution_count": null,
   "metadata": {},
   "outputs": [],
   "source": [
    "\n",
    "# Try creating a Basketball class as an exercise.\n",
    "\n"
   ]
  },
  {
   "cell_type": "markdown",
   "metadata": {},
   "source": [
    "\n",
    "This notebook structure walks through inheritance and method overriding, with clear examples and encourages hands-on experimentation with the concepts."
   ]
  },
  {
   "cell_type": "markdown",
   "metadata": {},
   "source": [
    "## Overriding the `__init__` Method and Using `super()`\n",
    "\n",
    "In Python, the `__init__` method is a special method for initializing newly created objects. Overriding this method in subclasses allows for custom initialization. However, it's essential to ensure that the parent class is also properly initialized. This is where `super()` comes into play, allowing the child class to call the parent class's `__init__` method.\n"
   ]
  },
  {
   "cell_type": "markdown",
   "metadata": {},
   "source": [
    "\n",
    "### Overriding `__init__` in Subclasses\n",
    "\n",
    "When you override the `__init__` method in a subclass, you can add additional parameters or implement custom initialization logic. However, to maintain the integrity of the inheritance hierarchy, it's crucial to call the `__init__` method of the parent class. This ensures that all the initialization steps defined in the parent class are executed.\n"
   ]
  },
  {
   "cell_type": "markdown",
   "metadata": {},
   "source": [
    "\n",
    "### Example: Athlete and Specific Sports Classes\n"
   ]
  },
  {
   "cell_type": "code",
   "execution_count": null,
   "metadata": {},
   "outputs": [],
   "source": [
    "class Athlete:\n",
    "    def __init__(self, name, sport, age, position):\n",
    "        self.name = name\n",
    "        self.sport = sport\n",
    "        self.age = age\n",
    "        self.position = position\n",
    "    \n",
    "    def train(self):\n",
    "        print(f\"{self.name} is training in {self.sport}, age {self.age}\")\n",
    "\n",
    "class Soccer(Athlete):\n",
    "    def __init__(self, name, age, position):\n",
    "        accepted_positions = (\n",
    "            \"CM\", \"FB\", \"CB\", \"GK\", \"CM\", \"LM\", \"SS\", \"CF\", \"LW\"\n",
    "        )\n",
    "        if position not in accepted_positions:\n",
    "            raise ValueError(\"Position must be one of: \"+\", \".join(accepted_positions))\n",
    "        super().__init__(name, \"Soccer\", age, position)\n",
    "    \n",
    "    def train(self):\n",
    "        super().train()\n",
    "        print(f\"{self.name} practices dribbling and shooting as a {self.position}\")\n",
    "\n",
    "class Football(Athlete):\n",
    "    def __init__(self, name, age, position):\n",
    "        accepted_positions = (\n",
    "            \"QB\", \"RB\", \"WR\", \"TE\", \"K\", \"OL\", \"DL\", \"LB\", \"CB\", \"S\"\n",
    "        )\n",
    "        if position not in accepted_positions:\n",
    "            raise ValueError(\"Position must be one of: \"+\", \".join(accepted_positions))\n",
    "        super().__init__(name, \"Football\", age, position)\n",
    "    \n",
    "    def train(self):\n",
    "        super().train()\n",
    "        print(f\"{self.name} practices passing and tackling as a {self.position}\")\n",
    "\n",
    "\n",
    "Soccer('Neymar', 31, \"QB\") # Wrong position type lets see what happens\n"
   ]
  },
  {
   "cell_type": "markdown",
   "metadata": {},
   "source": [
    "\n",
    "- **Athlete class**: Defines the base properties and methods for an athlete, including `__init__` and `train`.\n",
    "- **Soccer and Football subclasses**: Override the `__init__` method to include sport-specific position validation and call the parent class's `__init__` using `super()` to ensure proper initialization.\n"
   ]
  },
  {
   "cell_type": "markdown",
   "metadata": {},
   "source": [
    "\n",
    "### Key Points\n",
    "\n",
    "- **Custom Initialization**: The subclasses define their own `__init__` methods to implement custom initialization logic, such as validating positions specific to each sport.\n",
    "- **Using `super()`**: This function is used to call the parent class's `__init__` method, ensuring that the base class properties are initialized correctly.\n",
    "- **Maintaining Inheritance Integrity**: By using `super()`, subclasses can extend or modify the parent class's behavior without losing the relationship with the parent class.\n"
   ]
  },
  {
   "cell_type": "markdown",
   "metadata": {},
   "source": [
    "\n",
    "### Try it out\n",
    "\n",
    "Create a new subclass of `Athlete` for another sport, such as Basketball, with its own set of accepted positions. Override the `__init__` method to include position validation and call the parent class's `__init__` with `super()`. Implement a custom `train` method to demonstrate the athlete's specific training activities.\n",
    "```"
   ]
  }
 ],
 "metadata": {
  "kernelspec": {
   "display_name": ".venv",
   "language": "python",
   "name": "python3"
  },
  "language_info": {
   "codemirror_mode": {
    "name": "ipython",
    "version": 3
   },
   "file_extension": ".py",
   "mimetype": "text/x-python",
   "name": "python",
   "nbconvert_exporter": "python",
   "pygments_lexer": "ipython3",
   "version": "3.8.10"
  },
  "orig_nbformat": 4
 },
 "nbformat": 4,
 "nbformat_minor": 2
}
