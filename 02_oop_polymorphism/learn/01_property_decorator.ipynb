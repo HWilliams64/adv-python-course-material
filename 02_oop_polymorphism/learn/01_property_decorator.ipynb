{
 "cells": [
  {
   "cell_type": "markdown",
   "metadata": {},
   "source": [
    "# The @property Decorator, Getters and Setters\n"
   ]
  },
  {
   "cell_type": "markdown",
   "metadata": {},
   "source": [
    "\n",
    "## @property Decorator in Python\n",
    "\n",
    "The `@property` decorator is a built-in decorator in Python for the property() function. It is used to define methods in a class that behave like attributes. This allows for the encapsulation of data, providing a way of adding getters, setters, and deleters in object-oriented programming.\n"
   ]
  },
  {
   "cell_type": "markdown",
   "metadata": {},
   "source": [
    "\n",
    "### Defining Getters with @property\n",
    "\n",
    "<style>\n",
    "html,body        {height: 100%;}\n",
    ".wrapper         {width: 80%; max-width: 1280px; height: 100%; margin: 0 auto; background: rgba(255, 255, 255, .0); padding-bottom: 50px}\n",
    ".h_iframe        {position: relative; padding-top: 56%;}\n",
    ".h_iframe iframe {position: absolute; top: 0; left: 0; width: 100%; height: 100%;}\n",
    "</style>\n",
    "\n",
    "<div class=\"wrapper\">\n",
    "    <div class=\"h_iframe\">\n",
    "        <iframe height=\"2\" width=\"2\" src=\"https://www.youtube.com/embed/jJJUESyt1k4\" title=\"YouTube video player\" frameborder=\"0\" allow=\"accelerometer; autoplay; clipboard-write; encrypted-media; gyroscope; picture-in-picture; web-share\" allowfullscreen></iframe>\n",
    "    </div>\n",
    "</div>\n",
    "\n",
    "A getter method allows you to access the value of a property without directly exposing the property's implementation.\n"
   ]
  },
  {
   "cell_type": "code",
   "execution_count": null,
   "metadata": {},
   "outputs": [],
   "source": [
    "\n",
    "class Student:\n",
    "    def __init__(self, name, age):\n",
    "        self._name = name\n",
    "        self._age = age\n",
    "\n",
    "    @property\n",
    "    def name(self):\n",
    "        return self._name\n",
    "\n",
    "    @property\n",
    "    def age(self):\n",
    "        return self._age\n",
    "\n",
    "\n",
    "student = Student('Tony', 18)\n",
    "\n",
    "print(student.name)  # Rather than student.name()\n",
    "\n",
    "print(student.age)  # Rather than student.age()\n"
   ]
  },
  {
   "cell_type": "markdown",
   "metadata": {},
   "source": [
    "\n",
    "- **`_name` and `_age`**: These are private attributes, indicated by the underscore prefix.\n",
    "- **`@property`**: By decorating the `name` and `age` methods with `@property`, they can be accessed like attributes (e.g., `student.name`).\n",
    "\n",
    "**💡 Notice:** Since `name` and `age` are properties they cannot be directly\n",
    "assigned new values like this: \n",
    "\n",
    "```py\n",
    "❌ student.name = 'John'\n",
    "```\n",
    "\n",
    "We must use setter properties to assign new values."
   ]
  },
  {
   "cell_type": "markdown",
   "metadata": {},
   "source": [
    "\n",
    "### Defining Setters with @property\n",
    "\n",
    "<style>\n",
    "html,body        {height: 100%;}\n",
    ".wrapper         {width: 80%; max-width: 1280px; height: 100%; margin: 0 auto; background: rgba(255, 255, 255, .0); padding-bottom: 50px}\n",
    ".h_iframe        {position: relative; padding-top: 56%;}\n",
    ".h_iframe iframe {position: absolute; top: 0; left: 0; width: 100%; height: 100%;}\n",
    "</style>\n",
    "\n",
    "<div class=\"wrapper\">\n",
    "    <div class=\"h_iframe\">\n",
    "        <iframe height=\"2\" width=\"2\" src=\"https://www.youtube.com/embed/Py2TVEQFbEY\" title=\"YouTube video player\" frameborder=\"0\" allow=\"accelerometer; autoplay; clipboard-write; encrypted-media; gyroscope; picture-in-picture; web-share\" allowfullscreen></iframe>\n",
    "    </div>\n",
    "</div>\n",
    "\n",
    "Setters allow you to set the value of a property. To define a setter, you use the `@property_name.setter` decorator.\n"
   ]
  },
  {
   "cell_type": "code",
   "execution_count": null,
   "metadata": {},
   "outputs": [],
   "source": [
    "class Student:\n",
    "    def __init__(self, name, age):\n",
    "        self._name = name\n",
    "        self._age = age\n",
    "\n",
    "    @property\n",
    "    def name(self):\n",
    "        return self._name\n",
    "\n",
    "    @name.setter\n",
    "    def name(self, value):\n",
    "        if not value:\n",
    "            raise ValueError(\"Name cannot be empty\")\n",
    "        self._name = value\n",
    "\n",
    "    @property\n",
    "    def age(self):\n",
    "        return self._age\n",
    "\n",
    "    @age.setter\n",
    "    def age(self, value):\n",
    "        if value < 0:\n",
    "            raise ValueError(\"Age cannot be negative\")\n",
    "        self._age = value\n"
   ]
  },
  {
   "cell_type": "markdown",
   "metadata": {},
   "source": [
    "\n",
    "- **`@name.setter` and `@age.setter`**: These decorators define setter methods for `name` and `age`, allowing validation before setting their values.\n"
   ]
  },
  {
   "cell_type": "markdown",
   "metadata": {},
   "source": [
    "\n",
    "## @cached_property Decorator\n",
    "\n",
    "<style>\n",
    "html,body        {height: 100%;}\n",
    ".wrapper         {width: 80%; max-width: 1280px; height: 100%; margin: 0 auto; background: rgba(255, 255, 255, .0); padding-bottom: 50px}\n",
    ".h_iframe        {position: relative; padding-top: 56%;}\n",
    ".h_iframe iframe {position: absolute; top: 0; left: 0; width: 100%; height: 100%;}\n",
    "</style>\n",
    "\n",
    "<div class=\"wrapper\">\n",
    "    <div class=\"h_iframe\">\n",
    "        <iframe height=\"2\" width=\"2\" src=\"https://www.youtube.com/embed/uSHaJ6iFjcU\" title=\"YouTube video player\" frameborder=\"0\" allow=\"accelerometer; autoplay; clipboard-write; encrypted-media; gyroscope; picture-in-picture; web-share\" allowfullscreen></iframe>\n",
    "    </div>\n",
    "</div>\n",
    "\n",
    "The `@cached_property` decorator is used to cache the result of a method that needs to perform an expensive computational task. The result is cached, and subsequent accesses to this property return the cached result instead of recalculating it.\n"
   ]
  },
  {
   "cell_type": "markdown",
   "metadata": {},
   "source": [
    "\n",
    "### Example of Using @cached_property\n"
   ]
  },
  {
   "cell_type": "code",
   "execution_count": 1,
   "metadata": {},
   "outputs": [
    {
     "name": "stdout",
     "output_type": "stream",
     "text": [
      "Calculating area...\n",
      "314.159\n",
      "314.159\n",
      "314.159\n",
      "Calculating area...\n",
      "78.53975\n",
      "78.53975\n"
     ]
    }
   ],
   "source": [
    "from functools import cached_property\n",
    "\n",
    "class Circle:\n",
    "    def __init__(self, radius):\n",
    "        self.radius = radius\n",
    "\n",
    "    @cached_property\n",
    "    def area(self):\n",
    "        print(\"Calculating area...\")\n",
    "        return 3.14159 * self.radius ** 2\n",
    "\n",
    "circle = Circle(10)\n",
    "print(circle.area)\n",
    "print(circle.area)\n",
    "print(circle.area)\n",
    "\n",
    "other_circle = Circle(5)\n",
    "print(other_circle.area)\n",
    "print(other_circle.area)\n"
   ]
  },
  {
   "cell_type": "markdown",
   "metadata": {},
   "source": [
    "\n",
    "- **`@cached_property`**: Caches the `area` calculation, so it's computed only once.\n",
    "- **Accessing `circle.area`**: The first time it calculates and caches the area. Subsequent accesses return the cached value without recalculating.\n"
   ]
  }
 ],
 "metadata": {
  "kernelspec": {
   "display_name": ".venv",
   "language": "python",
   "name": "python3"
  },
  "language_info": {
   "codemirror_mode": {
    "name": "ipython",
    "version": 3
   },
   "file_extension": ".py",
   "mimetype": "text/x-python",
   "name": "python",
   "nbconvert_exporter": "python",
   "pygments_lexer": "ipython3",
   "version": "3.8.10"
  },
  "orig_nbformat": 4
 },
 "nbformat": 4,
 "nbformat_minor": 2
}
