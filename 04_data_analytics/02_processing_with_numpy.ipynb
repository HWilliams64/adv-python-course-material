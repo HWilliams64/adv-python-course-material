{
 "cells": [
  {
   "cell_type": "markdown",
   "metadata": {},
   "source": [
    "# Introduction to NumPy\n",
    "\n",
    "NumPy is a fundamental package for scientific computing in Python. It provides a high-performance multidimensional array object and tools for working with these arrays. It's widely used for performing mathematical and logical operations on Arrays. Additionally, it provides functionalities for linear algebra, Fourier transform, and random number generation.\n"
   ]
  },
  {
   "cell_type": "markdown",
   "metadata": {},
   "source": [
    "\n",
    "## What is NumPy Used For?\n",
    "\n",
    "- **Mathematical Operations**: NumPy supports a wide range of mathematical operations, making it ideal for tasks in scientific computing, engineering, and related fields.\n",
    "- **Array Processing**: At its core, NumPy is designed to work efficiently with arrays, offering a robust set of functions to manipulate array data.\n",
    "- **Data Analysis**: Though primarily focused on numerical data, NumPy is also used as the foundational package for more complex data analysis operations, often serving as the backend for Pandas operations.\n"
   ]
  },
  {
   "cell_type": "markdown",
   "metadata": {},
   "source": [
    "\n",
    "## The Difference Between NumPy and Pandas\n",
    "\n",
    "- **Data Structures**: NumPy provides the array data structure, which is optimized for numerical operations on data. Pandas, on the other hand, offers the DataFrame and Series data structures, which are built on top of NumPy arrays and provide a richer set of functionalities for handling structured data.\n",
    "- **Use Case**: NumPy is more suited for numerical and mathematical operations, especially those requiring speed and efficiency with array data. Pandas is designed for data manipulation and analysis, offering more functions for reading, writing, and manipulating tabular data.\n",
    "- **Functionality**: While NumPy focuses on basic array operations, Pandas provides a vast range of functionalities, including handling missing data, merging datasets, and time series analysis, making it more suited for data wrangling tasks.\n"
   ]
  },
  {
   "cell_type": "markdown",
   "metadata": {},
   "source": [
    "\n",
    "### NumPy Tutorial\n",
    "\n",
    "Let's revisit and expand upon the introduction to NumPy with our existing tutorial, now with a deeper understanding of its place in the data science and scientific computing ecosystem.\n"
   ]
  },
  {
   "cell_type": "code",
   "execution_count": null,
   "metadata": {
    "vscode": {
     "languageId": "powershell"
    }
   },
   "outputs": [],
   "source": [
    "import numpy as np\n",
    "\n",
    "# Create a simple NumPy array\n",
    "my_array = np.array([1, 2, 3, 4, 5])\n",
    "\n",
    "# Print the created array\n",
    "print(\"Created Array:\", my_array)\n",
    "\n",
    "# Perform array operations\n",
    "array_sum = my_array + 10\n",
    "print(\"Array after adding 10 to each element:\", array_sum)"
   ]
  },
  {
   "cell_type": "markdown",
   "metadata": {},
   "source": [
    "- **Importing NumPy**: We import NumPy with `import numpy as np`, allowing us to use its functionalities.\n",
    "- **Creating an Array**: `np.array()` is used to create a NumPy array. Here, a 1D array with elements from 1 to 5 is created.\n",
    "- **Array Operations**: Demonstrating the ease with which we can perform operations on each element of the array, we add 10 to every element, showcasing NumPy's capability for element-wise operations without explicit loops."
   ]
  },
  {
   "cell_type": "markdown",
   "metadata": {},
   "source": [
    "\n",
    "### Try it out\n",
    "\n",
    "Now, let's try multiplying elements of the array by a specific value, like 2, to further explore NumPy's capabilities.\n"
   ]
  },
  {
   "cell_type": "code",
   "execution_count": null,
   "metadata": {},
   "outputs": [],
   "source": [
    "\n",
    "# Multiply each element by 2\n",
    "array_multiplied = my_array * 2\n",
    "print(\"Array after multiplying each element by 2:\", array_multiplied)"
   ]
  },
  {
   "cell_type": "markdown",
   "metadata": {},
   "source": [
    "\n",
    "- **Exploring NumPy**: This step illustrates the simplicity and efficiency of performing operations across all elements in an array, highlighting why NumPy is a cornerstone in the Python scientific computing stack.\n",
    "\n",
    "Through this tutorial, we've explored what NumPy is, its differences with Pandas, and how to get started with basic array operations, providing a solid foundation for delving deeper into scientific computing with Python."
   ]
  },
  {
   "cell_type": "markdown",
   "metadata": {},
   "source": [
    "## Calculating Averages and Moving Averages\n",
    "\n",
    "NumPy offers a comprehensive set of operations for statistical analysis, including calculating averages and moving averages. Let's dive into examples demonstrating these capabilities.\n"
   ]
  },
  {
   "cell_type": "markdown",
   "metadata": {},
   "source": [
    "\n",
    "### 1. Calculating the Average\n",
    "\n",
    "The average (mean) of a dataset is a central tendency measure that sums all elements in the dataset and divides by the number of elements. NumPy provides the `np.mean()` function for this purpose.\n"
   ]
  },
  {
   "cell_type": "code",
   "execution_count": null,
   "metadata": {},
   "outputs": [],
   "source": [
    "import numpy as np\n",
    "\n",
    "# Create a NumPy array\n",
    "data = np.array([10, 20, 30, 40, 50, 60, 70])\n",
    "\n",
    "# Calculate the average\n",
    "average = np.mean(data)\n",
    "print(\"Average of the array:\", average)\n"
   ]
  },
  {
   "cell_type": "markdown",
   "metadata": {},
   "source": [
    "\n",
    "- **Creating an Array**: We start by creating a NumPy array `data` with some numbers.\n",
    "- **Calculating Average**: Using `np.mean(data)`, we calculate the average of the array elements. In this example, the average would be the sum of all elements divided by the count of elements.\n"
   ]
  },
  {
   "cell_type": "markdown",
   "metadata": {},
   "source": [
    "\n",
    "### 2. Calculating the Moving Average\n",
    "\n",
    "The moving average is a calculation used to analyze data points by creating a\n",
    "series of averages of different subsets of the full data set. It is often used\n",
    "in time series analysis to smooth out short-term fluctuations and highlight\n",
    "longer-term trends or cycles. \n",
    "\n",
    "A moving average is calculated by taking the average of the values last n values\n",
    "known as the \"window\" this is different than the average discussed above which\n",
    "uses the entire sample (all elements) to calculate the average.\n",
    "\n",
    "In the example below we calculate the moving average with a window size of 3 for\n",
    "the last value like this: \n",
    "\n",
    "$$(70 + 60 + 50)/3$$\n",
    "\n",
    "NumPy does not have a built-in function to calculate the moving average\n",
    "directly, but we can use the `np.convolve()` function with a weights array to\n",
    "achieve this.\n"
   ]
  },
  {
   "cell_type": "code",
   "execution_count": null,
   "metadata": {},
   "outputs": [],
   "source": [
    "import numpy as np\n",
    "\n",
    "# Data array\n",
    "data = np.array([10, 20, 30, 40, 50, 60, 70])\n",
    "\n",
    "# Define the window size for the moving average\n",
    "window_size = 3\n",
    "\n",
    "# Create a weights array of ones, divided by the window size\n",
    "weights = np.ones(window_size) / window_size\n",
    "\n",
    "# Calculate the moving average using convolution\n",
    "moving_average = np.convolve(data, weights, mode='valid')\n",
    "print(\"Moving average with window size 3:\", moving_average)\n"
   ]
  },
  {
   "cell_type": "markdown",
   "metadata": {},
   "source": [
    "\n",
    "- **Data Array**: We start with a NumPy array `data`, representing, for example, daily temperatures or stock prices.\n",
    "- **Window Size**: The `window_size` variable determines how many elements will be averaged at a time (3 in this example).\n",
    "- **Weights Array**: We create an array of ones (`np.ones(window_size)`) and\n",
    "  divide by the window size to ensure the sum of weights equals 1. This means\n",
    "  all elements are treated equally in the moving average calculation.\n",
    "- **Calculating Moving Average**: The `np.convolve(data, weights, mode='valid')` function convolves the data array with the weights, calculating the moving average. The `'valid'` mode ensures that we only get the average for complete windows.\n",
    "\n",
    "The moving average smooths the data series and helps in identifying trends over time, making it particularly useful in financial analysis, weather forecasting, and more. These examples highlight just a few of the powerful statistical tools available in NumPy for analyzing and processing numerical data."
   ]
  },
  {
   "cell_type": "markdown",
   "metadata": {},
   "source": [
    "### 3. Calculating Weighted Moving Averages with NumPy\n",
    "\n",
    "A weighted moving average (WMA) is a type of moving average where each data point in the window has a different weight assigned to it, typically giving more importance to recent data points. This method is useful in time series analysis, where more recent events may have a greater impact on the forecast or analysis than older events.\n"
   ]
  },
  {
   "cell_type": "markdown",
   "metadata": {},
   "source": [
    "\n",
    "#### Calculating Weighted Moving Average\n",
    "\n",
    "Unlike the simple moving average, where weights are uniform, the WMA assigns\n",
    "weights that decrease linearly and sum to 1. There isn't a built-in NumPy\n",
    "function specifically for WMAs, but we can still calculate it using a\n",
    "combination of NumPy functions.\n",
    "\n",
    "Below we make use the following weights for the WMA: `[.5, .333, .166]` thus\n",
    "we calculate the WMA of the array in the code cell below like this: \n",
    "\n",
    "\n",
    "$$((70 * .5) + (60 *.333) + (50 *.166))/3$$\n",
    "\n"
   ]
  },
  {
   "cell_type": "code",
   "execution_count": null,
   "metadata": {},
   "outputs": [],
   "source": [
    "import numpy as np\n",
    "\n",
    "# Data array\n",
    "data = np.array([10, 20, 30, 40, 50, 60, 70])\n",
    "\n",
    "# Define the window size for the weighted moving average\n",
    "window_size = 3\n",
    "\n",
    "# Create weights for the WMA: [1, 2, 3] for a window size of 3, then normalize to sum to 1\n",
    "weights = (np.arange(1, window_size + 1) / np.sum(np.arange(1, window_size + 1)))[::-1]\n",
    "\n",
    "# Calculate the weighted moving average using convolution\n",
    "weighted_moving_average = np.convolve(data, weights, mode='valid')\n",
    "print(f\"Weights: {weights}\")\n",
    "print(f\"WMA with window size 3: {weighted_moving_average}\")\n"
   ]
  },
  {
   "cell_type": "markdown",
   "metadata": {},
   "source": [
    "\n",
    "- **Data Array**: Our starting point remains a NumPy array `data` containing the data points.\n",
    "- **Window Size**: We define a `window_size` which indicates the number of elements to consider for each average calculation.\n",
    "- **Creating Weights**: We generate an array of weights that increase linearly and then normalize them so their sum equals 1. For a window size of 3, the weights before normalization would be `[1, 2, 3]`.\n",
    "- **Calculating Weighted Moving Average**: By using `np.convolve(data, weights, mode='valid')`, we calculate the WMA. The convolution operation multiplies each element by its corresponding weight and sums up the results for each window, providing a smoothed, weighted average.\n",
    "\n",
    "The weighted moving average provides a more nuanced view of the data trends, especially when the most recent data points are of greater significance. It's widely used in financial analysis, economic forecasting, and signal processing, where understanding the direction of a trend and the momentum is crucial. This technique enhances our data analysis toolkit by offering a method to smooth data series while prioritizing recent observations."
   ]
  },
  {
   "cell_type": "markdown",
   "metadata": {},
   "source": [
    "## Working with Multi-Dimensional Data in NumPy\n",
    "\n",
    "NumPy excels at handling multi-dimensional arrays, offering a versatile set of operations for manipulating data across multiple dimensions. This capability is crucial for tasks in scientific computing, image processing, and advanced analytics, where data often comes in the form of multi-dimensional matrices.\n"
   ]
  },
  {
   "cell_type": "markdown",
   "metadata": {},
   "source": [
    "\n",
    "### Understanding Multi-Dimensional Arrays\n",
    "\n",
    "A multi-dimensional (or n-dimensional) array in NumPy is an array of arrays. The most common examples include 2D arrays (like matrices in mathematics) and 3D arrays (which can represent 3D geometry or RGB images).\n"
   ]
  },
  {
   "cell_type": "markdown",
   "metadata": {},
   "source": [
    "\n",
    "### Creating and Manipulating Multi-Dimensional Arrays\n",
    "\n",
    "Let's explore how to create and manipulate a 2D array, which you can think of as a grid of values, organized in rows and columns.\n"
   ]
  },
  {
   "cell_type": "code",
   "execution_count": null,
   "metadata": {},
   "outputs": [],
   "source": [
    "import numpy as np\n",
    "\n",
    "# Create a 2D array\n",
    "data_2d = np.array([[1, 2, 3],\n",
    "                    [4, 5, 6],\n",
    "                    [7, 8, 9]])\n",
    "\n",
    "print(\"2D Array:\\n\", data_2d)\n",
    "\n",
    "# Accessing elements\n",
    "print(\"Element at row 1, column 2:\", data_2d[1, 2])\n",
    "\n",
    "# Slicing\n",
    "print(\"First two rows:\\n\", data_2d[:2])\n",
    "print(\"Last column:\\n\", data_2d[:, -1])\n",
    "\n",
    "# Modifying an element\n",
    "data_2d[0, 0] = 10\n",
    "print(\"Modified Array:\\n\", data_2d)\n"
   ]
  },
  {
   "cell_type": "markdown",
   "metadata": {},
   "source": [
    "\n",
    "- **Creating a 2D Array**: We use `np.array()` with a nested list to create a 2D array.\n",
    "- **Accessing Elements**: Elements are accessed using `[row_index, column_index]`. Remember, indexing starts at 0.\n",
    "- **Slicing**: We can select a subset of the array using slicing, similar to 1D arrays but in multiple dimensions.\n",
    "- **Modifying Elements**: Changing the value of an element is straightforward, specifying its row and column indices.\n"
   ]
  },
  {
   "cell_type": "markdown",
   "metadata": {},
   "source": [
    "\n",
    "### Practical Example: Image Data Manipulation\n",
    "\n",
    "A practical application of multi-dimensional arrays in NumPy is image data manipulation. Images can be represented as 3D arrays (height x width x color channels), where each pixel's color is controlled by the values in the depth dimension (typically RGB - Red, Green, Blue).\n"
   ]
  },
  {
   "cell_type": "code",
   "execution_count": null,
   "metadata": {},
   "outputs": [],
   "source": [
    "# Creating a simple 3D array to represent an image\n",
    "# Here we create a 2x2 image with 3 channels (RGB), filled with zeros (black)\n",
    "image_data = np.zeros((2, 2, 3), dtype=np.uint8)\n",
    "\n",
    "# Change color of a pixel\n",
    "# Set the first pixel to red (255, 0, 0)\n",
    "image_data[0, 0] = [255, 0, 0]\n",
    "\n",
    "print(\"Image Data:\\n\", image_data)"
   ]
  },
  {
   "cell_type": "markdown",
   "metadata": {},
   "source": [
    "\n",
    "- **Creating a 3D Array**: `np.zeros()` creates an array filled with zeros. The shape `(2, 2, 3)` represents an image of 2x2 pixels, each with 3 color channels (RGB).\n",
    "- **Modifying Pixel Colors**: By setting an array slice to `[255, 0, 0]`, we change the first pixel's color to red.\n",
    "\n",
    "Working with multi-dimensional data in NumPy allows for sophisticated data manipulation and analysis, applicable across various fields, including image processing, machine learning, and scientific research. Understanding how to create, access, and modify elements in multi-dimensional arrays is foundational for leveraging the full power of NumPy in these advanced applications."
   ]
  }
 ],
 "metadata": {
  "kernelspec": {
   "display_name": ".venv",
   "language": "python",
   "name": "python3"
  },
  "language_info": {
   "codemirror_mode": {
    "name": "ipython",
    "version": 3
   },
   "file_extension": ".py",
   "mimetype": "text/x-python",
   "name": "python",
   "nbconvert_exporter": "python",
   "pygments_lexer": "ipython3",
   "version": "3.8.10"
  },
  "orig_nbformat": 4
 },
 "nbformat": 4,
 "nbformat_minor": 2
}
