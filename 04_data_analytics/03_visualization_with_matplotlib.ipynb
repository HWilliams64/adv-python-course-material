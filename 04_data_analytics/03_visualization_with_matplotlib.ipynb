{
 "cells": [
  {
   "cell_type": "markdown",
   "metadata": {},
   "source": [
    "## Introduction to Matplotlib\n",
    "\n",
    "Matplotlib is a comprehensive library for creating static, animated, and interactive visualizations in Python. It provides an object-oriented API for embedding plots into applications using general-purpose GUI toolkits like Tkinter, wxPython, Qt, or GTK. Essentially, Matplotlib makes it easy to generate plots, histograms, power spectra, bar charts, error charts, scatter plots, and more, with just a few lines of code.\n"
   ]
  },
  {
   "cell_type": "markdown",
   "metadata": {},
   "source": [
    "\n",
    "### What is Matplotlib and What is it Used For?\n",
    "\n",
    "Matplotlib is widely used across many fields for data visualization. Its flexibility and customization options make it a powerful tool for representing data graphically, enhancing comprehension and analysis. Whether you're working in science, finance, or are just curious about data, Matplotlib can help you see the story behind the numbers.\n"
   ]
  },
  {
   "cell_type": "markdown",
   "metadata": {},
   "source": [
    "\n",
    "### Make a Line Graph with Matplotlib and Numpy\n",
    "\n",
    "Let's start with a simple example of creating a line graph, which is one of the simplest and most effective ways to represent data trends over time or comparisons between two datasets.\n"
   ]
  },
  {
   "cell_type": "code",
   "execution_count": null,
   "metadata": {},
   "outputs": [],
   "source": [
    "import matplotlib.pyplot as plt\n",
    "import numpy as np\n",
    "\n",
    "# Sample data\n",
    "x = np.linspace(0, 10, 100)\n",
    "y = np.sin(x)\n",
    "\n",
    "# Create a line plot\n",
    "plt.plot(x, y)\n",
    "\n",
    "# Adding title and labels\n",
    "plt.title(\"Sin Wave\")\n",
    "plt.xlabel(\"x\")\n",
    "plt.ylabel(\"sin(x)\")\n",
    "\n",
    "# Display the plot\n",
    "plt.show()"
   ]
  },
  {
   "cell_type": "markdown",
   "metadata": {},
   "source": [
    "\n",
    "- **Creating the Plot**: We use `plt.plot()` to create a line plot. Here, `x` is a range of numbers between 0 and 10, and `y` is the sin of those numbers.\n",
    "- **Customization**: Adding a title and labels for the x and y-axes makes the plot more informative.\n",
    "- **Displaying the Plot**: `plt.show()` displays the plot. You'll see a sin wave as a result."
   ]
  },
  {
   "cell_type": "markdown",
   "metadata": {},
   "source": [
    "\n",
    "### Make a Bar Graph with Matplotlib Using Pandas DataFrame\n",
    "\n",
    "For this example, we'll dive into creating a bar graph, which is excellent for comparing numerical values across different categories. We'll use a fictional dataset of characters, represented in a CSV file, to demonstrate how to visualize the abilities of these characters in a bar graph."
   ]
  },
  {
   "cell_type": "code",
   "execution_count": null,
   "metadata": {},
   "outputs": [],
   "source": [
    "import matplotlib.pyplot as plt\n",
    "import pandas as pd\n",
    "\n",
    "# Sample data\n",
    "df = pd.read_csv('./fictional-characters.csv')\n",
    "df['fullname'] = df.apply(lambda row: str(row['firstName']) + ' ' + str(row['lastName']), axis=1)\n",
    "\n",
    "# Create a bar graph\n",
    "plt.bar(df['fullname'], df['ability'])\n",
    "\n",
    "# Adding title and labels\n",
    "plt.title(\"Bar Graph Example\")\n",
    "plt.xlabel(\"Characters\")\n",
    "plt.ylabel(\"Ability\")\n",
    "\n",
    "plt.xticks(rotation=45, ha='right')\n",
    "\n",
    "# Display the plot\n",
    "plt.show()\n"
   ]
  },
  {
   "cell_type": "markdown",
   "metadata": {},
   "source": [
    "\n",
    "- **Importing Libraries**: The code starts by importing Matplotlib and Pandas, essential for data manipulation and visualization.\n",
    "    - `matplotlib.pyplot` is imported for plotting functions.\n",
    "    - `pandas` is used for data structure support and CSV file handling.\n",
    "- **Loading and Preparing Data**:\n",
    "    - The dataset `fictional-characters.csv` is loaded into a DataFrame `df` using `pd.read_csv()`.\n",
    "    - A new column `fullname` is created by concatenating `firstName` and `lastName` for each row. This is done using the `df.apply()` method with a lambda function, enhancing readability for character identification.\n",
    "- **Plotting the Bar Graph**:\n",
    "    - `plt.bar()` creates the bar graph, with character full names on the x-axis and their abilities on the y-axis, allowing for a visual comparison of character abilities.\n",
    "- **Customizing the Plot**:\n",
    "    - A title is added to the plot (`\"Bar Graph Example\"`) for context.\n",
    "    - Axis labels are added (`\"Characters\"` for the x-axis and `\"Ability\"` for the y-axis) to clarify the data being compared.\n",
    "    - The x-axis tick labels (character names) are rotated 45 degrees and right-aligned (`ha='right'`) to improve legibility, especially important when dealing with long names or a large number of categories.\n",
    "- **Displaying the Plot**: Finally, `plt.show()` renders the plot in the notebook. This step brings the visualization to life, enabling visual analysis of the characters' abilities.\n",
    "\n",
    "Through these examples, you've seen how Matplotlib can be used to create both line and bar graphs, two fundamental types of data visualizations. These capabilities form the basis for exploring more complex data visualizations and analyses, showcasing Matplotlib's versatility and importance in data science and analytics."
   ]
  },
  {
   "cell_type": "markdown",
   "metadata": {},
   "source": [
    "---\n",
    "\n",
    "## Visualizing Audio Data with NumPy and Matplotlib\n",
    "\n",
    "Visualizing audio data can provide insights into its properties, such as volume changes over time, frequency content, and more. To visualize audio from an MP3 file, we first need to convert it into a format that can be easily processed, typically a NumPy array. Then, we can use Matplotlib to plot the waveform or spectrogram of the audio.\n",
    "\n",
    "This section outlines the steps to visualize audio data from an MP3 file using NumPy and Matplotlib.\n"
   ]
  },
  {
   "cell_type": "markdown",
   "metadata": {},
   "source": [
    "### Preparing the Environment\n",
    "\n",
    "Before we start, ensure you have the necessary libraries installed. You will\n",
    "need `matplotlib`, `numpy`, `pytube`, and `scipy` or `librosa` for audio processing. If\n",
    "you don't have them installed, you can install them using pip:\n"
   ]
  },
  {
   "cell_type": "code",
   "execution_count": null,
   "metadata": {},
   "outputs": [],
   "source": [
    "!pip install matplotlib numpy scipy librosa pytube"
   ]
  },
  {
   "cell_type": "markdown",
   "metadata": {},
   "source": [
    "### Step 1: Download your favorite song from YouTube\n",
    "\n",
    "Go to YouTube find a video of your favorite song and copy and paste the link to\n",
    "the video in to the string value for the `video_link` variable."
   ]
  },
  {
   "cell_type": "code",
   "execution_count": null,
   "metadata": {},
   "outputs": [],
   "source": [
    "from pytube import YouTube\n",
    "import os\n",
    "\n",
    "video_link = 'https://www.youtube.com/watch?v=RqIRp4QE-1k' # <- OutKast - Hey Ya!\n",
    "yt = YouTube(video_link)\n",
    "\n",
    "audio = yt.streams.filter(only_audio=True).first()\n",
    "\n",
    "out_file = audio.download(filename=\"youtube_audio.mp4\")\n"
   ]
  },
  {
   "cell_type": "markdown",
   "metadata": {},
   "source": [
    "- **Import and Fetch**: The script imports necessary libraries (`pytube` and `os`), then uses `pytube` to fetch the YouTube video specified by the `video_link` URL, focusing on the iconic song \"Hey Ya!\" by OutKast.\n",
    "- **Filter Audio Stream**: It filters the available streams of the YouTube video to select only the audio stream, choosing the first (typically the best available) audio-only stream.\n",
    "- **Download Audio**: The selected audio stream is then downloaded and saved locally as `\"youtube_audio.mp4\"`, preserving the audio content in a file."
   ]
  },
  {
   "cell_type": "markdown",
   "metadata": {},
   "source": [
    "\n",
    "### Step 2: Loading the Audio File\n",
    "\n",
    "We'll use `librosa` to load the MP3 file, as it provides a simple interface to load and analyze audio files. `librosa` automatically converts the signal to a NumPy array.\n"
   ]
  },
  {
   "cell_type": "code",
   "execution_count": null,
   "metadata": {},
   "outputs": [],
   "source": [
    "import librosa\n",
    "import numpy as np\n",
    "\n",
    "# Load the audio file\n",
    "filename = \"./youtube_audio.mp4\"\n",
    "audio, sr = librosa.load(filename, sr=None)\n",
    "\n",
    "print(\"Audio shape:\", audio.shape)\n",
    "print(\"Sampling rate:\", sr)\n"
   ]
  },
  {
   "cell_type": "markdown",
   "metadata": {},
   "source": [
    "\n",
    "- **Loading Audio**: `librosa.load()` reads the MP3 file, returning the audio signal as a NumPy array (`audio`) and the sampling rate (`sr`). The `sr=None` argument loads the audio in its original sampling rate.\n"
   ]
  },
  {
   "cell_type": "markdown",
   "metadata": {},
   "source": [
    "\n",
    "### Step 2: Visualizing the Waveform\n",
    "\n",
    "Now, let's plot the waveform of the audio file using Matplotlib.\n"
   ]
  },
  {
   "cell_type": "code",
   "execution_count": null,
   "metadata": {},
   "outputs": [],
   "source": [
    "import numpy as np\n",
    "import matplotlib.pyplot as plt\n",
    "\n",
    "# Calculate the number of samples for 30 seconds\n",
    "samples_for_30_sec = int(30 * sr)\n",
    "\n",
    "# Adjust the plotting code to only include the first 30 seconds\n",
    "plt.figure(figsize=(10, 4))\n",
    "plt.plot(np.linspace(0, 30, num=samples_for_30_sec), audio[:samples_for_30_sec])\n",
    "plt.title('Audio Waveform (First 30 Seconds)')\n",
    "plt.xlabel('Time (seconds)')\n",
    "plt.ylabel('Amplitude')\n",
    "plt.show()\n"
   ]
  },
  {
   "cell_type": "markdown",
   "metadata": {},
   "source": [
    "\n",
    "- **Creating the Plot**: `plt.plot()` is used to draw the waveform, with time on the x-axis and amplitude on the y-axis. We use `np.linspace()` to create a time axis that matches the length of the audio array.\n",
    "- **Customizing the Plot**: We set the figure size, add a title, and label the axes to make the plot informative.\n"
   ]
  },
  {
   "cell_type": "markdown",
   "metadata": {},
   "source": [
    "\n",
    "### Step 3: Visualizing the Spectrogram\n",
    "\n",
    "A spectrogram represents the frequency content of the audio over time, offering a different perspective from the waveform.\n"
   ]
  },
  {
   "cell_type": "code",
   "execution_count": null,
   "metadata": {},
   "outputs": [],
   "source": [
    "\n",
    "import librosa.display\n",
    "\n",
    "# Compute the spectrogram\n",
    "S = np.abs(librosa.stft(audio))\n",
    "\n",
    "# Display the spectrogram\n",
    "plt.figure(figsize=(10, 4))\n",
    "librosa.display.specshow(librosa.amplitude_to_db(S, ref=np.max),\n",
    "                         sr=sr, x_axis='time', y_axis='log')\n",
    "plt.colorbar(format='%+2.0f dB')\n",
    "plt.title('Spectrogram')\n",
    "plt.show()"
   ]
  },
  {
   "cell_type": "markdown",
   "metadata": {},
   "source": [
    "\n",
    "- **Computing the Spectrogram**: `librosa.stft()` computes the short-time Fourier transform, which is then converted to a spectrogram using `np.abs()`.\n",
    "- **Displaying the Spectrogram**: `librosa.display.specshow()` is tailored for displaying spectrograms with appropriate axes labels. The conversion to decibels with `librosa.amplitude_to_db()` helps in visualizing a wide range of intensities.\n",
    "\n",
    "Through these steps, you've learned how to load audio data, visualize its waveform, and display its spectrogram using NumPy and Matplotlib. This process is invaluable for audio analysis, allowing for an in-depth understanding of audio characteristics and features."
   ]
  }
 ],
 "metadata": {
  "kernelspec": {
   "display_name": ".venv",
   "language": "python",
   "name": "python3"
  },
  "language_info": {
   "codemirror_mode": {
    "name": "ipython",
    "version": 3
   },
   "file_extension": ".py",
   "mimetype": "text/x-python",
   "name": "python",
   "nbconvert_exporter": "python",
   "pygments_lexer": "ipython3",
   "version": "3.8.10"
  },
  "orig_nbformat": 4
 },
 "nbformat": 4,
 "nbformat_minor": 2
}
