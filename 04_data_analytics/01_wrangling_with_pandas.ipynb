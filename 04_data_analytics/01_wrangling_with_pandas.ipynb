{
 "cells": [
  {
   "cell_type": "markdown",
   "metadata": {},
   "source": [
    "# Introduction to Pandas and Handling CSV Files\n",
    "\n",
    "Pandas is a powerful Python library used for data manipulation and analysis,\n",
    "o,ffering data structures and operations for manipulating numerical tables and\n",
    "time series.\n",
    "\n",
    "Before we get started make sure you run the code cell below to ensure panda's is\n",
    "installed in your Workspace.\n"
   ]
  },
  {
   "cell_type": "code",
   "execution_count": null,
   "metadata": {},
   "outputs": [],
   "source": [
    "!pip install pandas"
   ]
  },
  {
   "cell_type": "markdown",
   "metadata": {},
   "source": [
    "\n",
    "## What is Pandas?\n",
    "\n",
    "Pandas provides two key data structures: `DataFrame` and `Series`, with the former being a 2-dimensional labeled data structure with columns of potentially different types, and the latter a 1-dimensional labeled array.\n"
   ]
  },
  {
   "cell_type": "code",
   "execution_count": null,
   "metadata": {},
   "outputs": [],
   "source": [
    "import pandas as pd\n",
    "\n",
    "# Example of creating a simple DataFrame\n",
    "data = {'Name': ['John', 'Anna', 'Peter', 'Linda'],\n",
    "        'Age': [28, 34, 29, 32]}\n",
    "df = pd.DataFrame(data)\n",
    "\n",
    "print(df)"
   ]
  },
  {
   "cell_type": "markdown",
   "metadata": {},
   "source": [
    "\n",
    "- **DataFrame creation**: Here, we create a DataFrame from a dictionary. This structure is useful for representing real-world data in a tabular format.\n",
    "- **Printing DataFrame**: By printing the DataFrame, we can see its tabular structure with rows and columns.\n"
   ]
  },
  {
   "cell_type": "markdown",
   "metadata": {},
   "source": [
    "## What is a CSV File?\n",
    "\n",
    "A CSV (Comma-Separated Values) file is a type of plain text file that uses\n",
    "specific structuring to arrange tabular data. Because it's a plain text file, it\n",
    "can contain only actual text data—in other words, printable ASCII or Unicode\n",
    "characters. \n",
    "\n",
    "Often the data you will work with in a machine learning project is stored in a CSV file.\n"
   ]
  },
  {
   "cell_type": "markdown",
   "metadata": {},
   "source": [
    "\n",
    "## How to Load a CSV File\n",
    "\n",
    "To load a CSV file into a Pandas DataFrame, we use the `pd.read_csv()` function, providing it with the path to the file.\n"
   ]
  },
  {
   "cell_type": "code",
   "execution_count": null,
   "metadata": {},
   "outputs": [],
   "source": [
    "# Load a CSV file\n",
    "df = pd.read_csv('./fictional-characters.csv')\n",
    "\n",
    "print(df)"
   ]
  },
  {
   "cell_type": "markdown",
   "metadata": {},
   "source": [
    "- **Loading CSV**: The `pd.read_csv()` function reads a CSV file and converts it into a DataFrame.\n",
    "- **Displaying the loaded DataFrame**: By printing the DataFrame, we see the data that was in the CSV file in a structured format."
   ]
  },
  {
   "cell_type": "markdown",
   "metadata": {},
   "source": [
    "\n",
    "## How to Look at the CSV File with `head()` and `info()`\n",
    "\n",
    "- **Using `head()`**: This function returns the first N rows of the DataFrame, which is useful for quickly testing if your DataFrame has the right type of data.\n",
    "- **Using `info()`**: This method provides a concise summary of the DataFrame, including the number of non-null entries in each column.\n"
   ]
  },
  {
   "cell_type": "code",
   "execution_count": null,
   "metadata": {},
   "outputs": [],
   "source": [
    "# Display the first 5 rows of the DataFrame\n",
    "print(df.head())\n",
    "\n",
    "# Get a concise summary of the DataFrame\n",
    "print(df.info())"
   ]
  },
  {
   "cell_type": "markdown",
   "metadata": {},
   "source": [
    "\n",
    "- **Inspecting the DataFrame**: `head()` helps us quickly peek at the data, while `info()` gives us a summary, including data types and missing values.\n"
   ]
  },
  {
   "cell_type": "markdown",
   "metadata": {},
   "source": [
    "\n",
    "## Explore Different Data Wrangling Exercises\n",
    "\n",
    "Data wrangling, also known as data munging, involves cleaning, structuring, and enriching raw data into a desired format for better decision making in less time.\n"
   ]
  },
  {
   "cell_type": "markdown",
   "metadata": {},
   "source": [
    "\n",
    "### Filtering Data: \n",
    "\n",
    "Select rows based on column values.\n"
   ]
  },
  {
   "cell_type": "code",
   "execution_count": null,
   "metadata": {},
   "outputs": [],
   "source": [
    "\n",
    "# Filter rows where the character's age is greater than 100\n",
    "older_than_30 = df[df['age'] > 30]\n",
    "print(older_than_30)\n"
   ]
  },
  {
   "cell_type": "markdown",
   "metadata": {},
   "source": [
    "### Handling Missing Data: \n",
    "\n",
    "You might have noticed Yoda's age is missing. Below we identify and fill missing\n",
    "age values with the mean of all the ages."
   ]
  },
  {
   "cell_type": "code",
   "execution_count": null,
   "metadata": {},
   "outputs": [],
   "source": [
    "# Fill missing values in 'age' column with the mean age\n",
    "df['age'].fillna(df['age'].mean(), inplace=True)\n",
    "print(df)\n"
   ]
  },
  {
   "cell_type": "markdown",
   "metadata": {},
   "source": [
    "\n",
    "### Adding Columns: \n",
    "\n",
    "Compute new columns based on existing ones."
   ]
  },
  {
   "cell_type": "code",
   "execution_count": null,
   "metadata": {},
   "outputs": [],
   "source": [
    "# Add a new column 'AgeNextYear'\n",
    "df['AgeNextYear'] = df['age'] + 1\n",
    "print(df)\n"
   ]
  },
  {
   "cell_type": "markdown",
   "metadata": {},
   "source": [
    "\n",
    "### 5. **Grouping and Aggregating**: \n",
    "\n",
    "Group data and calculate aggregate statistics. Below we are grouping all the\n",
    "characters by their home planet then calculating the average age of each\n",
    "characters from the same home planet. As you will see the average age of\n",
    "characters from earth is 134.6 years old.\n"
   ]
  },
  {
   "cell_type": "code",
   "execution_count": null,
   "metadata": {},
   "outputs": [],
   "source": [
    "\n",
    "# Group by 'Name' and calculate mean age\n",
    "grouped = df.groupby('planet')['age'].mean()\n",
    "print(grouped)"
   ]
  },
  {
   "cell_type": "markdown",
   "metadata": {},
   "source": [
    "\n",
    "- **Practical Examples**: These examples demonstrate how to manipulate and analyze data using Pandas, including filtering, adding new data, handling missing values, and aggregating data. \n",
    "\n",
    "These steps offer a starting point for data analysis with Pandas, providing tools to load, view, and wrangle data from CSV files effectively."
   ]
  }
 ],
 "metadata": {
  "kernelspec": {
   "display_name": ".venv",
   "language": "python",
   "name": "python3"
  },
  "language_info": {
   "codemirror_mode": {
    "name": "ipython",
    "version": 3
   },
   "file_extension": ".py",
   "mimetype": "text/x-python",
   "name": "python",
   "nbconvert_exporter": "python",
   "pygments_lexer": "ipython3",
   "version": "3.8.10"
  },
  "orig_nbformat": 4
 },
 "nbformat": 4,
 "nbformat_minor": 2
}
