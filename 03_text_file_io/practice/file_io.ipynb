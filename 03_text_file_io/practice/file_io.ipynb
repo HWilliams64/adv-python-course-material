{
 "cells": [
  {
   "cell_type": "markdown",
   "metadata": {
    "collapsed": false
   },
   "source": [
    "# Reading Quiz: File IO\n",
    "\n",
    "In the reading we learned about the following:\n",
    "1. What a file is\n",
    "2. How to read from a text file\n",
    "3. How to write to a text file\n",
    "\n",
    "We will use this reading quiz to review what we've learned so far."
   ]
  },
  {
   "cell_type": "markdown",
   "metadata": {
    "collapsed": false
   },
   "source": [
    "## Open a file\n",
    "\n",
    "Using the file [sw_episode_iv.txt](./res/sw_episode_iv.txt) (The movie script\n",
    "for Star Wars Episode IV) to create code that prints the total number of times\n",
    "the character name 'C3PO' has a line in the movie (C3PO is referred to as\n",
    "`THREEPIO` in the script file). Use the print() function to print the total\n",
    "number of lines the character has."
   ]
  },
  {
   "cell_type": "code",
   "execution_count": null,
   "metadata": {
    "collapsed": true
   },
   "outputs": [],
   "source": [
    "# Super sweet code goes here"
   ]
  },
  {
   "cell_type": "markdown",
   "metadata": {
    "collapsed": false
   },
   "source": [
    "## Add to a file\n",
    "\n",
    "Create a script that reads this file then saves all the text from this file in reverse to a new file named\n",
    "'file_io_reverse.ipynb'. **Be careful not to override the original file.**\n",
    "\n",
    "If you mistakenly overwrite this original file you can find another copy [here]()\n",
    "\n",
    "The resulting output will most likely start with the following text.\n",
    "\n",
    "```\n",
    "}\n",
    "0 :\"ronim_tamrofbn\"\n",
    ",4 :\"tamrofbn\"\n",
    ",}\n",
    "}\n",
    "\"6.7.2\" :\"noisrev\"\n",
    ",\"2nohtypi\" :\"rexel_stnemgyp\"\n",
    ",\"nohtyp\" :\"retropxe_trevnocbn\"\n",
    ",\"nohtyp\" :\"eman\"\n",
    ",\"nohtyp-x/txet\" :\"epytemim\"\n",
    ",\"yp.\" :\"noisnetxe_elif\"\n",
    ",}\n",
    "...\n",
    "```"
   ]
  },
  {
   "cell_type": "code",
   "execution_count": null,
   "metadata": {
    "collapsed": false,
    "pycharm": {
     "name": "#%%\n"
    }
   },
   "outputs": [],
   "source": [
    "# Your best code goes here"
   ]
  }
 ],
 "metadata": {
  "kernelspec": {
   "display_name": "Python 3",
   "language": "python",
   "name": "python3"
  },
  "language_info": {
   "codemirror_mode": {
    "name": "ipython",
    "version": 2
   },
   "file_extension": ".py",
   "mimetype": "text/x-python",
   "name": "python",
   "nbconvert_exporter": "python",
   "pygments_lexer": "ipython2",
   "version": "2.7.6"
  }
 },
 "nbformat": 4,
 "nbformat_minor": 0
}
