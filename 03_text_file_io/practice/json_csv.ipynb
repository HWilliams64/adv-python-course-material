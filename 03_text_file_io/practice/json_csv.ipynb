{
 "cells": [
  {
   "cell_type": "markdown",
   "metadata": {
    "collapsed": false
   },
   "source": [
    "# Reading Quiz: JSON and CSV\n",
    "\n",
    "In the reading we learned about the following:\n",
    "1. What JSON is and how to use it to save data.\n",
    "\n",
    "We will use this reading quiz to review what we've learned so far."
   ]
  },
  {
   "cell_type": "markdown",
   "metadata": {
    "collapsed": false
   },
   "source": [
    "## Check JSON File\n",
    "\n",
    "Fill in the empty function below with the proper code. The function will receive\n",
    "a file path as a string, the parameter named `json_path` is the file path. The file\n",
    "path points to a JSON file. The function should count the number of times the\n",
    "parameter `value` is found as in the JSON object as a value in the file."
   ]
  },
  {
   "cell_type": "code",
   "execution_count": null,
   "metadata": {
    "collapsed": true
   },
   "outputs": [],
   "source": [
    "def json_count(json_path:str, value:str) -> int:\n",
    "    # Put your code here\n",
    "    pass\n",
    "\n",
    "\n",
    "json_count('./res/test.json', 'five')\n"
   ]
  }
 ],
 "metadata": {
  "kernelspec": {
   "display_name": "Python 3",
   "language": "python",
   "name": "python3"
  },
  "language_info": {
   "codemirror_mode": {
    "name": "ipython",
    "version": 2
   },
   "file_extension": ".py",
   "mimetype": "text/x-python",
   "name": "python",
   "nbconvert_exporter": "python",
   "pygments_lexer": "ipython2",
   "version": "2.7.6"
  }
 },
 "nbformat": 4,
 "nbformat_minor": 0
}
