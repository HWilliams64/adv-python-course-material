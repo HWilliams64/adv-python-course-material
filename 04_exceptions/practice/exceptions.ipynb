{
 "cells": [
  {
   "cell_type": "markdown",
   "metadata": {},
   "source": [
    "# Reading Quiz: Exceptions and Exception Handling\n",
    "These questions pertain to the _Exceptions_ reading. Answer the questions by editing this file in JupyterLab, and submit the .ipynb file to Canvas."
   ]
  },
  {
   "cell_type": "markdown",
   "metadata": {},
   "source": [
    "### Question 1: Understanding Exceptions\n",
    "The code below raises a Python exception. Answer some questions about the exception in the cells following the code."
   ]
  },
  {
   "cell_type": "code",
   "execution_count": null,
   "metadata": {},
   "outputs": [],
   "source": [
    "card1 = 'K'\n",
    "card2 = '7'\n",
    "print(f'Your cards are worth a total of {int(card1)+int(card2)} points.')"
   ]
  },
  {
   "cell_type": "markdown",
   "metadata": {},
   "source": [
    "**Question 1a (1 point)**. What kind of exception is raised by the code above?"
   ]
  },
  {
   "cell_type": "markdown",
   "metadata": {},
   "source": [
    "**Answer for 1a** The code raises a(n) .............................. exception."
   ]
  },
  {
   "cell_type": "markdown",
   "metadata": {},
   "source": [
    "**Question 1b (1 point).** What is the error message associated with the exception?"
   ]
  },
  {
   "cell_type": "markdown",
   "metadata": {},
   "source": [
    "**Answer for 1b** The error message is .............................."
   ]
  },
  {
   "cell_type": "markdown",
   "metadata": {},
   "source": [
    "**Question 1c (1 point).** What does the error message mean? What is it trying to tell us?"
   ]
  },
  {
   "cell_type": "markdown",
   "metadata": {},
   "source": [
    "**Answer for 1c** _Replace this placeholder text with your interpretation of the error message, stated in your own words..._"
   ]
  },
  {
   "cell_type": "markdown",
   "metadata": {},
   "source": [
    "### Question 2: Handling an Exception\n",
    "The code below raises an exception. Answer some questions about the exception in the cells following the code."
   ]
  },
  {
   "cell_type": "code",
   "execution_count": null,
   "metadata": {},
   "outputs": [],
   "source": [
    "list1 = [10, 20, 30, 40, 50, 60]\n",
    "list2 = [1, 3, 5, 7, 9, 11]\n",
    "list3 = []\n",
    "\n",
    "print(f'The average of list1 is {sum(list1)/len(list1)}.')\n",
    "print(f'The average of list2 is {sum(list2)/len(list2)}.')\n",
    "print(f'The average of list3 is {sum(list3)/len(list3)}.')"
   ]
  },
  {
   "cell_type": "markdown",
   "metadata": {},
   "source": [
    "**Question 2a (1 point).** If you were to make the code above safer so that it would handle all exceptions for _any possible value_ of list1, list2, or list3, which line or lines would you put in the _try_ block?"
   ]
  },
  {
   "cell_type": "markdown",
   "metadata": {},
   "source": [
    "**Answer for 1a** I would put inside a _try_ block the code on this(these) line number(s): ............................"
   ]
  },
  {
   "cell_type": "markdown",
   "metadata": {},
   "source": [
    "**Question 2b (1 point).** In the cell below, write a revised version of the code that uses try/except to handle exceptions. Your code should handle all exceptions even if the value of list1, list2, or list3 is changed. In handling exceptions, you don't need to account for different kinds of exceptions; handle any exception by printing the generic error message _Something went wrong._"
   ]
  },
  {
   "cell_type": "code",
   "execution_count": 9,
   "metadata": {},
   "outputs": [],
   "source": [
    "# Revised code goes in this cell..."
   ]
  }
 ],
 "metadata": {
  "kernelspec": {
   "display_name": "Python 3",
   "language": "python",
   "name": "python3"
  },
  "language_info": {
   "codemirror_mode": {
    "name": "ipython",
    "version": 3
   },
   "file_extension": ".py",
   "mimetype": "text/x-python",
   "name": "python",
   "nbconvert_exporter": "python",
   "pygments_lexer": "ipython3",
   "version": "3.7.6"
  }
 },
 "nbformat": 4,
 "nbformat_minor": 4
}
