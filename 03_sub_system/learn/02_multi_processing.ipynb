{
 "cells": [
  {
   "cell_type": "markdown",
   "metadata": {},
   "source": [
    "# Multi-Processing in Python\n"
   ]
  },
  {
   "cell_type": "markdown",
   "metadata": {},
   "source": [
    "\n",
    "## Introduction to Multi-Processing\n",
    "\n",
    "Multi-processing refers to the ability of a system to support more than one processor at the same time. In Python, the `multiprocessing` module allows you to create processes that can run tasks in parallel. This can significantly improve the performance of your program, especially for CPU-bound tasks that can be divided into independent subtasks.\n"
   ]
  },
  {
   "cell_type": "markdown",
   "metadata": {},
   "source": [
    "\n",
    "### Why Use Multi-Processing?\n",
    "\n",
    "Multi-processing is used to achieve parallelism. This means tasks can be executed simultaneously on multiple cores, making your program run faster by taking advantage of the full computing power available. It's particularly beneficial for tasks that are CPU-intensive and can be divided into smaller, independent tasks.\n"
   ]
  },
  {
   "cell_type": "markdown",
   "metadata": {},
   "source": [
    "\n",
    "### Threads vs. Processes: Pros and Cons\n",
    "\n",
    "The key difference between multi-processing and threading lies in how they operate within the system:\n",
    "\n",
    "- **Threads** of the same process run in a shared memory space, but each **process** in multi-processing runs in its own memory space.\n",
    "- Threads are lighter-weight and have less overhead than processes. However, because they share the same memory space, threading can lead to issues like race conditions if not managed correctly.\n",
    "- Multi-processing avoids these issues by giving each process its own memory space, but it comes with a higher memory and CPU overhead due to the need to duplicate the memory space for each process.\n",
    "\n",
    "Understanding the difference between threads and processes is crucial when deciding how to implement concurrency in your Python applications. Here's a comparison in the form of a pros and cons table:\n",
    "\n",
    "| Feature           | Threads                                                                 | Processes                                                               |\n",
    "|-------------------|-------------------------------------------------------------------------|-------------------------------------------------------------------------|\n",
    "| **Memory Space**  | Share the same memory space of the parent process.                     | Have their own separate memory space.                                   |\n",
    "| **Creation**      | Lighter weight and faster to create and destroy.                        | Heavier and slower to start and stop due to the need for more resources.|\n",
    "| **Communication** | Easier to communicate through shared memory but requires synchronization. | Communication requires IPC (Inter-Process Communication) mechanisms like pipes or queues, which can be more complex but safer. |\n",
    "| **Overhead**      | Lower because they share resources like memory with the parent process. | Higher because each process needs its own memory and resources.         |\n",
    "| **Use Case**      | Best for I/O-bound and light CPU-bound tasks.                          | Best for CPU-intensive tasks that can be easily parallelized.           |\n",
    "| **Safety**        | Prone to issues like race conditions due to shared memory.              | Safer in terms of memory corruption as each process has its own memory. |\n",
    "| **Efficiency**    | Can be more efficient for quick tasks and I/O operations.               | More efficient for long-running, CPU-intensive tasks.                   |\n",
    "\n",
    "This table highlights the fundamental differences and considerations when choosing between threads and processes for concurrent execution in Python applications. Threads offer a lightweight, shared-memory model for fast communication and lower overhead but require careful management to avoid common concurrency issues. Processes, on the other hand, provide a more isolated and safer environment, ideal for CPU-heavy operations but at the cost of higher resource consumption and more complex communication needs.\n",
    "\n"
   ]
  },
  {
   "cell_type": "markdown",
   "metadata": {},
   "source": [
    "\n",
    "### Example\n",
    "\n",
    "This code snippet demonstrates the use of Python's `multiprocessing` module to create and run a separate process. The `say_hello` function, designed to print a greeting along with the current timestamp, is executed in parallel to the main program. By starting the process and then joining it, we ensure the main program waits for the process to complete before proceeding."
   ]
  },
  {
   "cell_type": "code",
   "execution_count": null,
   "metadata": {},
   "outputs": [],
   "source": [
    "from multiprocessing import Process\n",
    "import time\n",
    "import datetime\n",
    "\n",
    "def say_hello():\n",
    "    time.sleep(1)\n",
    "    print(f\"Hello from process: {datetime.datetime.now()}\")\n",
    "\n",
    "\n",
    "# Create a process\n",
    "process = Process(target=say_hello)\n",
    "\n",
    "# Start the process\n",
    "process.start()\n",
    "\n",
    "print(f\"Hello from main process: {datetime.datetime.now()}\")\n",
    "\n",
    "# Wait for the process to finish\n",
    "process.join()\n",
    "\n",
    "print(\"Process complete.\")\n"
   ]
  },
  {
   "cell_type": "markdown",
   "metadata": {},
   "source": [
    "\n",
    "- This code snippet uses the `multiprocessing` module to create a new process that runs the `say_hello` function.\n",
    "- Unlike threads, processes have their own memory space. This means the `say_hello` function runs independently of the main program.\n",
    "- `process.start()` begins the execution of the process, similar to `thread.start()` for threads.\n",
    "- The main program continues to run concurrently, demonstrating the parallel execution of processes.\n",
    "- `process.join()` waits for the process to complete before moving on, ensuring that the main program only finishes after all processes have completed.\n",
    "\n",
    "This example demonstrates the basics of multi-processing in Python. By using processes instead of threads, Python programs can achieve true parallelism, leveraging multiple CPU cores for concurrent execution of tasks. Multi-processing is particularly useful for CPU-bound tasks that can be easily divided into independent subtasks, allowing each process to execute on its own core.\n",
    "```"
   ]
  },
  {
   "cell_type": "markdown",
   "metadata": {},
   "source": [
    "## Real Word Example \n",
    "\n",
    "In this example, we will perform some image processing tasks. We will download a\n",
    "few large images from the internet, convert them to grayscale, blur the images,\n",
    "and then scale them down to thumbnail size. The downloading is an I/O-bound\n",
    "activity, and the image manipulations are pretty CPU-intensive activities. We\n",
    "will run three examples: one without threads or multiprocessing, one using\n",
    "threads, and the other with multiprocessing, and compare the results in terms of\n",
    "total time.\n",
    "\n",
    "👆 Press the play button next to the code below to run it. Nothing will happen but\n",
    "it will initialize the `download_and_process_image()` function and `IMAGE_URLS`\n",
    "variable so it can be used by the cells below.\n"
   ]
  },
  {
   "cell_type": "code",
   "execution_count": null,
   "metadata": {},
   "outputs": [],
   "source": [
    "from PIL import Image, ImageFilter\n",
    "import requests\n",
    "from PIL import Image\n",
    "from io import BytesIO\n",
    "from PIL import Image, ImageFilter\n",
    "import os\n",
    "\n",
    "\n",
    "# URLs for ultra high res images from NASA\n",
    "IMAGE_URLS = [\n",
    "    \"https://mars.nasa.gov/system/downloadable_items/48800_PIA26242-Ingenuitys_View_of_Sand_Dunes_During_Flight_70.jpg\",\n",
    "    \"https://mars.nasa.gov/system/downloadable_items/48811_ZCAM_SOL1052_R0_ZCAM05175_INGENUITY_MDI_E01.png\",\n",
    "    \"https://mars.nasa.gov/system/downloadable_items/48730_PIA26205-FigC.png\",\n",
    "    \"https://mars.nasa.gov/system/downloadable_items/48642_PIA26202.jpg\",\n",
    "    \"https://mars.nasa.gov/system/downloadable_items/48431_PIA25968-FigA.jpg\",\n",
    "    \"https://mars.nasa.gov/system/downloadable_items/48217_PIA25830-FigureA.jpg\",\n",
    "    \"https://stsci-opo.org/STScI-01HN3AEK5XYSQEC92Y37V1AGYV.tif\",\n",
    "    \"https://stsci-opo.org/STScI-01EVVGKMPMHDMK28W6VHFAB2FN.png\",\n",
    "    \"https://stsci-opo.org/STScI-01FVYYAGQT81SXBGNJX96BF7RB.tif\",\n",
    "    \"https://stsci-opo.org/STScI-01EVT0H99TZK40KGNK18M6EK9E.tif\",\n",
    "    \"https://stsci-opo.org/STScI-01EVT0GQ9ZABZZZ90G19AR2SHQ.tif\",\n",
    "    \"https://stsci-opo.org/STScI-01EVT0WKMTHPCZ68YEG0Y9WPFG.tif\",\n",
    "    \"https://stsci-opo.org/STScI-01EVVBGGRWCXT9WM0EF5XXAXPK.tif\",\n",
    "    \"https://stsci-opo.org/STScI-01EVVH0Z1XVJ2T61FQ5XRYV9HK.tif\",\n",
    "    \"https://stsci-opo.org/STScI-01EVVH2H1HX8AV52T63T7Z20CA.tif\"\n",
    "    ]\n",
    "\n",
    "def download_and_process_image(url):\n",
    "    # Download the image\n",
    "    print(f\"Downloading {url}\")\n",
    "    response = requests.get(url)\n",
    "    img = Image.open(BytesIO(response.content))\n",
    "\n",
    "    # Perform CPU-intensive tasks\n",
    "    print(f\"Processing {url}\")\n",
    "    # Convert image to grayscale\n",
    "    img = img.convert(\"L\")\n",
    "    # Apply a blur filter\n",
    "    img = img.filter(ImageFilter.GaussianBlur(10))\n",
    "    # Scale the image to 128x128 pixels\n",
    "    img = img.resize((128, 128), resample=Image.LANCZOS)\n",
    "\n",
    "    # make and output dir for the images\n",
    "    os.makedirs(\"processed-images\", exist_ok=True)\n",
    "\n",
    "    # Save the processed image as PNG\n",
    "    img_name = f\"./processed-images/processed_{url.split('/')[-1].split('.')[0]}.png\"\n",
    "    img.save(img_name, 'PNG')\n",
    "    print(f\"Saved {img_name}\")\n"
   ]
  },
  {
   "cell_type": "markdown",
   "metadata": {},
   "source": [
    "This Python script uses the Pillow library to download high-resolution images\n",
    "from specified URLs, processes each image by converting it to grayscale,\n",
    "applying a Gaussian blur, resizing it, and then saving the processed image to\n",
    "disk. \n",
    "\n",
    "<details>\n",
    "\n",
    "<summary>💡 Click here to learn more how this code works:</summary>\n",
    "\n",
    "### Imports\n",
    "```python\n",
    "from PIL import Image, ImageFilter\n",
    "import requests\n",
    "from io import BytesIO\n",
    "```\n",
    "- **PIL (Python Imaging Library)**: This is actually Pillow, a fork of PIL, which is used for opening, manipulating, and saving many different image file formats.\n",
    "- **Image, ImageFilter**: These are imported from PIL for image processing tasks such as applying filters.\n",
    "- **requests**: This module is used to make HTTP requests in Python. It's used here to download images from the internet.\n",
    "- **BytesIO**: This is a class from the `io` module that allows to read and write binary data like that of an image as if it were a file.\n",
    "\n",
    "### Image URLs\n",
    "```python\n",
    "IMAGE_URLS = [...]\n",
    "```\n",
    "This section defines a list of strings, where each string is a URL pointing to an ultra-high-resolution image. These URLs are the source images that will be downloaded and processed.\n",
    "\n",
    "### The `download_and_process_image` Function\n",
    "```python\n",
    "def download_and_process_image(url):\n",
    "    ...\n",
    "```\n",
    "This function is defined to handle the downloading and processing of a single image, given its URL. It works as follows:\n",
    "\n",
    "- **Downloading the image**:\n",
    "  - It prints a message indicating the start of the download process for the given URL.\n",
    "  - The `requests.get(url)` function fetches the content from the URL.\n",
    "  - `Image.open(BytesIO(response.content))` converts the binary content fetched from the URL into an image object that can be processed by Pillow.\n",
    "\n",
    "- **Processing the image**:\n",
    "  - A message is printed to indicate the processing of the image.\n",
    "  - `img.convert(\"L\")` converts the image to grayscale (where \"L\" stands for luminance).\n",
    "  - `img.filter(ImageFilter.GaussianBlur(5))` applies a Gaussian blur with a radius of 5 pixels to the image. This is a CPU-intensive task, especially for high-resolution images.\n",
    "  - `img.resize((128, 128), resample=Image.LANCZOS)` resizes the image to 128x128 pixels using the Lanczos resampling filter, which is known for producing high-quality results.\n",
    "\n",
    "- **Saving the processed image**:\n",
    "  - The processed image is saved with a new filename that is constructed by appending \"processed_\" to the original filename extracted from the URL.\n",
    "  - A message is printed to indicate the saving of the processed image.\n",
    "\n",
    "This function encapsulates the entire workflow for handling a single image: download, process, and save. The actual execution of this function for each URL in `IMAGE_URLS` would need to be done separately, likely in a loop or through a map function, although this part is not shown in the provided code snippet.\n",
    "\n",
    "</details>"
   ]
  },
  {
   "cell_type": "markdown",
   "metadata": {},
   "source": [
    "### Single Thread\n",
    "\n",
    "In the example below, we will use a traditional single thread to process the\n",
    "images one by one. You will notice that it takes roughly 10-14 seconds to\n",
    "complete. \n",
    "\n",
    "🔑 Make sure you run the code cell above before running the code cell below."
   ]
  },
  {
   "cell_type": "code",
   "execution_count": null,
   "metadata": {},
   "outputs": [],
   "source": [
    "import time\n",
    "start_time = time.time()\n",
    "\n",
    "for url in IMAGE_URLS:\n",
    "    download_and_process_image(url)\n",
    "\n",
    "end_time = time.time()\n",
    "print(f\"Process completed in {end_time - start_time} seconds.\")"
   ]
  },
  {
   "cell_type": "markdown",
   "metadata": {},
   "source": [
    "## Multi-Thread\n",
    "\n",
    "In the example below, we will distribute our work across multiple threads in an\n",
    "attempt to reduce the total processing time. Each image will be processed in a\n",
    "separate thread. Notice how the entire process is much faster and it takes\n",
    "roughly 7-10 seconds!\n",
    "\n",
    "🔑 Make sure you run the code cell with the function\n",
    "`download_and_process_image()` above before running the code cell below. "
   ]
  },
  {
   "cell_type": "code",
   "execution_count": null,
   "metadata": {},
   "outputs": [],
   "source": [
    "import time\n",
    "import threading\n",
    "\n",
    "start_time = time.time()\n",
    "\n",
    "threads = []\n",
    "for url in IMAGE_URLS:\n",
    "\n",
    "    thread = threading.Thread(target=download_and_process_image, args=(url,))\n",
    "    thread.start()\n",
    "    threads.append(thread)\n",
    "\n",
    "# Wait\n",
    "for thread in threads:\n",
    "    thread.join()\n",
    "\n",
    "end_time = time.time()\n",
    "print(f\"Process completed in {end_time - start_time} seconds.\")"
   ]
  },
  {
   "cell_type": "markdown",
   "metadata": {},
   "source": [
    "## Multi-Processing\n",
    "\n",
    "In the example below, we will distribute our work across multiple processes in an\n",
    "attempt to reduce the total processing time. Each image will be processed in a\n",
    "separate process with its own CPU and memory space. Notice how the entire\n",
    "process is much faster and it takes roughly 6-8 seconds!\n",
    "\n",
    "🔑 Make sure you run the code cell with the function\n",
    "`download_and_process_image()` above before running the code cell below. "
   ]
  },
  {
   "cell_type": "code",
   "execution_count": null,
   "metadata": {},
   "outputs": [],
   "source": [
    "import time\n",
    "from multiprocessing import Process\n",
    "\n",
    "start_time = time.time()\n",
    "\n",
    "processes = []\n",
    "for url in IMAGE_URLS:\n",
    "\n",
    "    process = Process(target=download_and_process_image, args=(url,))\n",
    "    process.start()\n",
    "    processes.append(process)\n",
    "\n",
    "# Wait for all the threads to finish\n",
    "for process in processes:\n",
    "    process.join()\n",
    "\n",
    "end_time = time.time()\n",
    "print(f\"Process completed in {end_time - start_time} seconds.\")\n"
   ]
  },
  {
   "cell_type": "markdown",
   "metadata": {},
   "source": [
    "## Collecting Results from Processes Using a Manager in Python's multiprocessing\n",
    "\n",
    "When working with Python's `multiprocessing` module for parallel processing, sharing data between processes can be challenging due to each process running in its own memory space. Python provides a `Manager` object in the `multiprocessing` module, which allows us to create shared data structures that can be accessed and modified by all processes.\n"
   ]
  },
  {
   "cell_type": "markdown",
   "metadata": {},
   "source": [
    "\n",
    "### Understanding the Manager\n",
    "\n",
    "A `Manager` is a special object provided by the `multiprocessing` module that controls a server process. This server process holds Python objects and allows other processes to manipulate them using proxies. It's a powerful feature for:\n",
    "\n",
    "- Sharing data between processes, which is otherwise isolated.\n",
    "- Implementing synchronization mechanisms to avoid data corruption, ensuring thread-safe operations.\n",
    "\n",
    "Managers support various types of shared objects like lists, dictionaries, and more, including a `Value` container for single values.\n"
   ]
  },
  {
   "cell_type": "markdown",
   "metadata": {},
   "source": [
    "\n",
    "### The Example Explained\n",
    "\n",
    "This example demonstrates using a `Manager` to share a list and a numeric value between multiple processes to identify prime numbers within a range.\n"
   ]
  },
  {
   "cell_type": "code",
   "execution_count": null,
   "metadata": {},
   "outputs": [],
   "source": [
    "from multiprocessing import Process, Manager\n",
    "import multiprocessing\n",
    "\n",
    "def is_prime(num):\n",
    "    \"\"\"Check if a number is prime.\"\"\"\n",
    "    if num > 1:\n",
    "        for i in range(2, int(num / 2) + 1):\n",
    "            if (num % i) == 0:\n",
    "                return False\n",
    "        return True\n",
    "    else:\n",
    "        return False\n",
    "\n",
    "def wrapper(num, prime_numbers, prime_count):\n",
    "    \"\"\"Wrapper function to check for prime and store it if it is.\"\"\"\n",
    "    if is_prime(num):\n",
    "        prime_numbers.append(num)\n",
    "        prime_count.value += 1\n",
    "\n",
    "manager = Manager()\n",
    "\n",
    "# Using a Manager to create a shared list and value\n",
    "prime_numbers = manager.list()\n",
    "prime_count = manager.Value('i', 0)  # 'i' indicates an integer\n",
    "\n",
    "processes = []\n",
    "for i in range(9000, 10000):\n",
    "    # Each process will call the wrapper function with shared objects\n",
    "    process = Process(target=wrapper, args=(i, prime_numbers, prime_count))\n",
    "    processes.append(process)\n",
    "    process.start()\n",
    "\n",
    "# Wait for all processes to complete\n",
    "for process in processes:\n",
    "    process.join()\n",
    "\n",
    "# Accessing the shared data\n",
    "print(f\"Prime numbers: {list(prime_numbers)}\")\n",
    "print(f\"Total prime numbers found: {prime_count.value}\")\n"
   ]
  },
  {
   "cell_type": "markdown",
   "metadata": {},
   "source": [
    "### Key Components\n",
    "\n",
    "- **Manager Object:** Created using `Manager()` context manager, which starts a managed server process that holds the shared objects (`prime_numbers` list and `prime_count` value).\n",
    "- **Shared Objects:** `prime_numbers` is a shared list to store prime numbers, and `prime_count` is a shared `Value` used to count the number of primes found. The `'i'` in `manager.Value('i', 0)` specifies the data type as integer.\n",
    "- **Wrapper Function:** Accepts a number, the shared list, and the shared value. It checks if the number is prime and, if so, appends it to the list and increments the count.\n",
    "- **Process Creation and Management:** Creates a process for each number in the specified range, passing the shared objects as arguments. Starts each process and waits for all to complete with `join`.\n",
    "\n",
    "### Importance of the Manager\n",
    "\n",
    "The `Manager` plays a crucial role in this example by enabling:\n",
    "- **Data Sharing Across Processes:** It allows the creation of shared data structures accessible by multiple processes, crucial for collecting and aggregating results from parallel computations.\n",
    "- **Synchronization:** Provides mechanisms (like locks) to ensure data consistency and thread-safe operations when shared objects are accessed by multiple processes concurrently.\n",
    "\n",
    "By using a `Manager`, this example effectively showcases how multiprocessing in Python can be used for parallel computations while safely sharing data and results between processes."
   ]
  }
 ],
 "metadata": {
  "kernelspec": {
   "display_name": ".venv",
   "language": "python",
   "name": "python3"
  },
  "language_info": {
   "codemirror_mode": {
    "name": "ipython",
    "version": 3
   },
   "file_extension": ".py",
   "mimetype": "text/x-python",
   "name": "python",
   "nbconvert_exporter": "python",
   "pygments_lexer": "ipython3",
   "version": "3.8.10"
  },
  "orig_nbformat": 4
 },
 "nbformat": 4,
 "nbformat_minor": 2
}
