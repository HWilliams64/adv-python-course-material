{
 "cells": [
  {
   "cell_type": "markdown",
   "metadata": {},
   "source": [
    "# Subprocessing in Python\n",
    "\n",
    "Subprocessing in Python is a powerful feature that allows your script to spawn new processes, connect to their input/output/error pipes, and obtain their return codes. This feature is provided by the `subprocess` module, which is especially useful for running external commands and interacting with other programs from your Python code."
   ]
  },
  {
   "cell_type": "markdown",
   "metadata": {},
   "source": [
    "## When to Use Subprocessing\n",
    "\n",
    "- **Running External Commands:** If you need to execute a shell command or an external executable file from within your Python script.\n",
    "- **Interacting with Other Programs:** When your application requires interaction with programs external to your Python environment, such as reading from or writing to their standard input and output streams.\n",
    "- **Parallel Processing:** Subprocessing can be used for parallel processing where tasks are distributed across multiple processes to utilize CPU resources efficiently.\n"
   ]
  },
  {
   "cell_type": "markdown",
   "metadata": {},
   "source": [
    "## Example: Using the `run()` Function\n",
    "\n",
    "The `subprocess.run()` function is a versatile tool for running external\n",
    "commands. It blocks until the command completes and returns a `CompletedProcess`\n",
    "instance. \n",
    "\n",
    "Here's a simple example that demonstrates how to use `subprocess.run()` to\n",
    "execute the `echo` command, which is commonly used to display messages on the\n",
    "terminal.\n",
    "\n",
    "💡 The code below is running the following command. Open up your terminal and run\n",
    "the following command in your terminal then run the python code:\n",
    "\n",
    "```sh\n",
    "echo \"Hello from subprocess!\"\n",
    "```\n"
   ]
  },
  {
   "cell_type": "code",
   "execution_count": null,
   "metadata": {},
   "outputs": [],
   "source": [
    "import subprocess\n",
    "\n",
    "# Using subprocess.run() to execute the 'echo' command\n",
    "result = subprocess.run(['echo', 'Hello from subprocess!'], capture_output=True, text=True)\n",
    "\n",
    "# Printing the standard output of the command\n",
    "print(f\"Output: {result.stdout}\")"
   ]
  },
  {
   "cell_type": "markdown",
   "metadata": {},
   "source": [
    "\n",
    "- **`import subprocess`:** This line imports the `subprocess` module, making its functionalities available in your script.\n",
    "- **`subprocess.run(...)`:** Executes the specified command passed as a list of arguments. Here, `['echo', 'Hello from subprocess!']` tells Python to run the `echo` command with a single argument: `Hello from subprocess!`.\n",
    "- **`capture_output=True`:** This argument tells `subprocess.run()` to capture the standard output and standard error of the command.\n",
    "- **`text=True`:** Ensures that the output and errors are returned as strings (instead of bytes).\n",
    "- **`print(f\"Output: {result.stdout}\")`:** Prints the standard output captured from the `echo` command.\n"
   ]
  },
  {
   "cell_type": "markdown",
   "metadata": {},
   "source": [
    "## Shell Commands:\n",
    "\n",
    "Shell commands, when used within the context of Python's subprocess module, are typically passed as a list of strings. This format is chosen for several reasons:\n",
    "\n",
    "1. **Security:** Splitting the command and its arguments into a list helps prevent shell injection attacks. By treating each part of the command and its arguments as separate elements, it's harder for malicious inputs to be executed as part of the command.\n",
    "2. **Clarity and Precision:** Specifying commands as a list of strings allows for clear distinction between the command and its various arguments. This avoids ambiguities that might arise from shell-specific interpretation of spaces and special characters.\n",
    "3. **Compatibility:** This format is directly compatible with the underlying system call requirements, which expect commands and arguments to be distinct elements. It ensures that the intended command is executed with exactly the specified arguments, without unexpected interpretation or expansion by the shell.\n",
    "\n",
    "For example, to run the shell command `ls -l /home`, you would pass it to subprocess.run() as `['ls', '-l', '/home']`. This makes it explicit that `ls` is the command, `-l` is an option, and `/home` is the argument to the `-l` option, eliminating any confusion that might arise if the entire command were passed as a single string."
   ]
  },
  {
   "cell_type": "markdown",
   "metadata": {},
   "source": [
    "## Understanding stdout, stderr, and stdin in Subprocessing\n",
    "\n",
    "When working with subprocesses in Python, it's crucial to understand the concepts of standard output (stdout), standard error (stderr), and standard input (stdin). These are three primary means by which programs communicate with the outside world, and by default, they are connected to the terminal that started the program.\n",
    "\n",
    "### stdout (Standard Output)\n",
    "- **Purpose:** This is where a program writes its output data.\n",
    "- **Use in Subprocessing:** By capturing stdout, you can grab the output of a command executed by `subprocess.run()` or other subprocess functions. This is useful for processing or displaying the output within your Python script.\n",
    "\n",
    "### stderr (Standard Error)\n",
    "- **Purpose:** This is used for outputting error messages and diagnostics, separate from the main output (stdout).\n",
    "- **Use in Subprocessing:** Capturing stderr allows you to handle errors and warnings separately from the main program output. This can be crucial for debugging or when you want to log errors separately.\n",
    "\n",
    "### stdin (Standard Input)\n",
    "- **Purpose:** This is where a program reads its input data.\n",
    "- **Use in Subprocessing:** You can feed data into the stdin of a subprocess, allowing your Python script to interact with the subprocess by sending data to it, similar to how you would input data into a program running in a terminal.\n"
   ]
  },
  {
   "cell_type": "markdown",
   "metadata": {},
   "source": [
    "### Example: Capturing stdout and stderr\n",
    "\n",
    "This code snippet demonstrates how to use Python's `subprocess` module to run a\n",
    "command that generates output to both standard output (stdout) and standard\n",
    "error (stderr). By setting `capture_output=True` and `text=True`, it captures\n",
    "the outputs as text, making it easy to handle within the Python script. Finally,\n",
    "it prints out the captured stdout and stderr, showcasing how to separately\n",
    "handle output and error messages from a subprocess.\n",
    "\n",
    "We are running a mini python application below the application code is similar\n",
    "to writing:\n",
    "\n",
    "```py\n",
    "import sys; \n",
    "print(\"Hello from stdout\"); \n",
    "print(\"Hello from stderr\", file=sys.stderr)\n",
    "```\n"
   ]
  },
  {
   "cell_type": "code",
   "execution_count": null,
   "metadata": {},
   "outputs": [],
   "source": [
    "import subprocess\n",
    "\n",
    "# Execute a command that outputs to both stdout and stderr\n",
    "result = subprocess.run(\n",
    "    ['python', '-c', 'import sys; print(\"Hello from stdout\"); print(\"Hello from stderr\", file=sys.stderr)'],\n",
    "    capture_output=True,\n",
    "    text=True\n",
    ")\n",
    "\n",
    "# Accessing and printing stdout and stderr\n",
    "print(f\"Standard Output:\\n{result.stdout}\")\n",
    "print(f\"Standard Error:\\n{result.stderr}\")\n"
   ]
  },
  {
   "cell_type": "markdown",
   "metadata": {},
   "source": [
    "- **Command Execution:** This command runs a small Python script that prints messages to both stdout and stderr.\n",
    "- **`capture_output=True`:** Captures both stdout and stderr generated by the subprocess.\n",
    "- **`text=True`:** Ensures that the output is treated as text (string format), making it easier to work with in Python.\n",
    "- **Printing stdout and stderr:** Shows how to access and display the output and error messages captured from the subprocess."
   ]
  },
  {
   "cell_type": "markdown",
   "metadata": {},
   "source": [
    "## Sending Input to a Subprocess using stdin\n",
    "\n",
    "Interacting with a subprocess by sending input is a common requirement, especially when dealing with programs that expect user input. Python's `subprocess` module facilitates this interaction by allowing you to pass input directly to the stdin of a subprocess. This capability is particularly useful when automating tasks that require user interaction.\n"
   ]
  },
  {
   "cell_type": "markdown",
   "metadata": {},
   "source": [
    "### Example: Feeding Input to stdin\n",
    "\n",
    "The following example demonstrates how to send multiple lines of input to a\n",
    "subprocess that expects user input twice. This is achieved by using the `input`\n",
    "parameter of `subprocess.run()`, which sends the specified string to the stdin\n",
    "of the subprocess. \n",
    "\n",
    "We are running a mini python application similar to the code below:\n",
    "\n",
    "```py\n",
    "print(\"Input 1:\", input(\"Type something: \"))\n",
    "print(\"Input 2:\", input(\"Type something: \"))\n",
    "```\n"
   ]
  },
  {
   "cell_type": "code",
   "execution_count": null,
   "metadata": {},
   "outputs": [],
   "source": [
    "import subprocess\n",
    "\n",
    "result = subprocess.run(\n",
    "    ['python', '-c', 'print(\"Input 1:\", input(\"Type something: \")); print(\"Input 2:\", input(\"Type something: \"))'],  # This subprocess reads from stdin and prints it\n",
    "    input='Hello\\nWorld',  # The input string to send to the subprocess\n",
    "    capture_output=True,\n",
    "    text=True\n",
    ")\n",
    "\n",
    "# Printing the subprocess's response to the input\n",
    "print(f\"Subprocess Output:\\n{result.stdout}\")"
   ]
  },
  {
   "cell_type": "markdown",
   "metadata": {},
   "source": [
    "\n",
    "\n",
    "- **`input='Hello\\nWorld'`:** This line sends two lines of input to the subprocess. The `\\n` character is used to simulate pressing \"Enter\" after typing \"Hello\", which allows us to send a second input, \"World\".\n",
    "- **`capture_output=True, text=True`:** These parameters ensure that the output is captured and treated as text (instead of bytes), which makes it easier to work with.\n",
    "- **Printing the Output:** After sending the input, the subprocess processes it, and we print its output, showcasing how the inputs were received and handled by the subprocess.\n"
   ]
  }
 ],
 "metadata": {
  "kernelspec": {
   "display_name": ".venv",
   "language": "python",
   "name": "python3"
  },
  "language_info": {
   "codemirror_mode": {
    "name": "ipython",
    "version": 3
   },
   "file_extension": ".py",
   "mimetype": "text/x-python",
   "name": "python",
   "nbconvert_exporter": "python",
   "pygments_lexer": "ipython3",
   "version": "3.8.10"
  },
  "orig_nbformat": 4
 },
 "nbformat": 4,
 "nbformat_minor": 2
}
