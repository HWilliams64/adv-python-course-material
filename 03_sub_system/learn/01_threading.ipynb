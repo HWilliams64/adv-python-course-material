{
 "cells": [
  {
   "cell_type": "markdown",
   "metadata": {},
   "source": [
    "\n",
    "# Threading with the threading Package\n",
    "\n",
    "Threading is a way to run multiple threads (tasks, function calls) at the same time in a single process. In Python, the `threading` package provides a way to create and work with threads. Using threads can make your program perform multiple operations at once, making it more efficient and faster, especially in I/O-bound and network-bound applications."
   ]
  },
  {
   "cell_type": "markdown",
   "metadata": {},
   "source": [
    "## Introduction to Threading in Python\n",
    "\n",
    "Imagine you're at a coffee shop with two friends. One friend is ordering coffee, another is picking up a snack, and you're finding a place to sit. Each of these tasks is happening at the same time; you're not waiting for one to finish before starting the next. In computer programming, we can do something similar using \"threads\". A thread is like a separate task or unit of execution. This means your program can do multiple things at once, like downloading a file while also updating the user interface.\n",
    "\n",
    "In Python, we can use the `threading` package to create and manage threads. Let's look at a simple example to understand how threads work:\n"
   ]
  },
  {
   "cell_type": "code",
   "execution_count": null,
   "metadata": {},
   "outputs": [],
   "source": [
    "import threading\n",
    "import time\n",
    "import datetime\n",
    "\n",
    "def say_hello_delayed():\n",
    "    time.sleep(1)\n",
    "    print(\"Hello from thread\", datetime.datetime.now())\n",
    "\n",
    "# Create a thread that targets the say_hello_delayed function\n",
    "thread = threading.Thread(target=say_hello_delayed)\n",
    "\n",
    "# Print the current time right before starting the thread\n",
    "print(\"Thread started\", datetime.datetime.now())\n",
    "\n",
    "# Start the thread\n",
    "thread.start()\n",
    "\n",
    "# Meanwhile, the main program continues to run and prints this immediately\n",
    "print(\"Hello from main thread\", datetime.datetime.now())\n",
    "\n",
    "# Wait for the thread to complete before moving on\n",
    "thread.join()\n",
    "\n",
    "# Print the time after the thread has completed\n",
    "print(\"Thread complete\", datetime.datetime.now())\n"
   ]
  },
  {
   "cell_type": "markdown",
   "metadata": {},
   "source": [
    "\n",
    "- `import threading` brings the threading module into our script, allowing us to create and work with threads.\n",
    "- `import time` and `import datetime` are used for demonstrating delays and timestamps.\n",
    "- `def say_hello_delayed()` defines a function that waits for 1 second (`time.sleep(1)`) and then prints a message along with the current time.\n",
    "- `threading.Thread(target=say_hello_delayed)` creates a new thread, targeting the `say_hello_delayed` function. This means `say_hello_delayed` will run in its own thread, separate from the main program.\n",
    "- `thread.start()` tells Python to start running the thread. The program continues to run, immediately executing the next line of code.\n",
    "- `print(\"Hello from main thread\", ...)` is executed right after the thread starts, showing that the main program doesn't wait for the thread to complete before moving on.\n",
    "- `thread.join()` is used to wait for the thread to finish. This is like saying, \"Wait here until my friend comes back from ordering coffee.\"\n",
    "- The final print statement shows the time after the thread has completed, demonstrating that the `say_hello_delayed` function ran concurrently with the main program.\n",
    "\n",
    "This example illustrates the basics of threading: you can start a task and continue with other tasks without waiting for the first to finish. Threads are powerful tools for improving the efficiency of your programs, especially when tasks can be performed concurrently.\n",
    "```"
   ]
  },
  {
   "cell_type": "markdown",
   "metadata": {},
   "source": [
    "## Another Example\n",
    "\n",
    "In this example, we'll explore how to run two simple tasks in parallel using Python's `threading` package. We define two functions, `print_numbers` and `print_letters`, which output numbers and letters with delays, respectively. By creating and starting two threads, each function runs concurrently, demonstrating the power of multi-threading to execute tasks simultaneously."
   ]
  },
  {
   "cell_type": "code",
   "execution_count": null,
   "metadata": {},
   "outputs": [],
   "source": [
    "import threading\n",
    "import time\n",
    "\n",
    "def print_numbers():\n",
    "    for i in range(5):\n",
    "        time.sleep(1)\n",
    "        print(f\"Number: {i}\")\n",
    "\n",
    "def print_letters():\n",
    "    for letter in 'abcde':\n",
    "        time.sleep(1.5)\n",
    "        print(f\"Letter: {letter}\")\n",
    "\n",
    "# Creating threads\n",
    "thread1 = threading.Thread(target=print_numbers)\n",
    "thread2 = threading.Thread(target=print_letters)\n",
    "\n",
    "# Starting threads\n",
    "thread1.start()\n",
    "thread2.start()\n",
    "\n",
    "# Joining threads to wait for them to finish\n",
    "thread1.join()\n",
    "thread2.join()\n",
    "\n",
    "print(\"Done with threading example.\")\n"
   ]
  },
  {
   "cell_type": "markdown",
   "metadata": {},
   "source": [
    "\n",
    "- `import threading` imports the threading module, which is necessary to work with threads.\n",
    "- `import time` is used here for simulating work by making the thread sleep.\n",
    "- `def print_numbers()` and `def print_letters()` define two functions that simulate tasks to be run on separate threads.\n",
    "- `threading.Thread(target=print_numbers)` creates a thread object that will run `print_numbers` function when started.\n",
    "- `thread1.start()` starts the execution of the thread; similarly, `thread2.start()` starts the second thread.\n",
    "- `thread1.join()` and `thread2.join()` are used to wait for the threads to finish their execution before moving on. This ensures that \"Done with threading example.\" is printed after all threads have completed their tasks.\n"
   ]
  },
  {
   "cell_type": "markdown",
   "metadata": {},
   "source": [
    "\n",
    "## Benefits and Challenges of Using Threads\n",
    "\n",
    "### Benefits:\n",
    "- **Concurrent Execution:** Allows multiple parts of a program to run concurrently, which can lead to better utilization of resources and faster execution in I/O-bound and network-bound applications.\n",
    "- **Responsiveness:** In applications with a user interface, threading can keep the UI responsive while other threads perform background tasks.\n",
    "\n",
    "### Challenges:\n",
    "- **Complexity:** Managing threads and ensuring data consistency can make the code more complex and harder to debug.\n",
    "- **Concurrency Issues:** Issues like race conditions, deadlocks, and data corruption can arise if threads are not properly managed.\n",
    "- **GIL in Python:** Python's Global Interpreter Lock (GIL) means that even in multi-threaded programs, only one thread can execute Python bytecode at a time. This limits the performance benefits of threading in CPU-bound tasks.\n"
   ]
  },
  {
   "cell_type": "markdown",
   "metadata": {},
   "source": [
    "## Passing Arguments to a Thread's Target Function\n",
    "\n",
    "In Python's threading module, you can pass arguments to the target function of a thread. This allows for more dynamic and flexible thread behavior, enabling threads to perform tasks with specific parameters. Let's look at an example where we pass arguments to a function that runs in a separate thread."
   ]
  },
  {
   "cell_type": "code",
   "execution_count": null,
   "metadata": {},
   "outputs": [],
   "source": [
    "import threading\n",
    "import time\n",
    "\n",
    "# A simple function that takes a name and a delay as arguments\n",
    "\n",
    "def greet(name, delay):\n",
    "    time.sleep(delay)\n",
    "    print(f\"Hello, {name}! This message was delayed by {delay} seconds.\")\n",
    "\n",
    "\n",
    "# Creating a thread and passing arguments to the target function\n",
    "thread = threading.Thread(target=greet, args=(\"Alice\",), kwargs={\"delay\": 1})\n",
    "\n",
    "# Starting the thread\n",
    "thread.start()\n",
    "\n",
    "# Joining the thread to wait for it to finish\n",
    "thread.join()\n",
    "\n",
    "print(\"Greeting complete.\")\n"
   ]
  },
  {
   "cell_type": "markdown",
   "metadata": {},
   "source": [
    "- `def greet(name, delay):` defines a function that takes two parameters: `name` for the person to greet and `delay` for how long to wait before printing the greeting.\n",
    "- `time.sleep(delay)` pauses the function execution for `delay` seconds, simulating a delay before the greeting is displayed.\n",
    "- In the `threading.Thread` constructor, `args=(\"Alice\",)` and `kwargs={\"delay\": 1}` are used to pass the positional and keyword arguments to the `greet` function, respectively. Note the comma after `\"Alice\"` in `args`, making it a tuple, which is required even for a single argument to differentiate it from a regular parameter.\n",
    "- `thread.start()` initiates the thread, causing the `greet` function to execute concurrently with any subsequent code.\n",
    "- `thread.join()` is called to ensure the main program waits for the thread to complete its task before moving on, ensuring \"Greeting complete.\" is printed after the greeting message.\n",
    "\n",
    "This example shows how to pass both positional (`args`) and keyword arguments (`kwargs`) to a function executed in a separate thread, demonstrating threading's flexibility in Python."
   ]
  }
 ],
 "metadata": {
  "kernelspec": {
   "display_name": ".venv",
   "language": "python",
   "name": "python3"
  },
  "language_info": {
   "codemirror_mode": {
    "name": "ipython",
    "version": 3
   },
   "file_extension": ".py",
   "mimetype": "text/x-python",
   "name": "python",
   "nbconvert_exporter": "python",
   "pygments_lexer": "ipython3",
   "version": "3.8.10"
  },
  "orig_nbformat": 4
 },
 "nbformat": 4,
 "nbformat_minor": 2
}
