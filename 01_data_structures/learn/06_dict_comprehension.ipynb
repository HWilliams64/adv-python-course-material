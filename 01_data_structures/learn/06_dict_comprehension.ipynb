{
 "cells": [
  {
   "attachments": {},
   "cell_type": "markdown",
   "metadata": {},
   "source": [
    "# Dictionary Comprehension\n",
    "\n",
    "Dictionary comprehension is a concise way to create dictionaries in Python. It's\n",
    "similar to list comprehension but with an additional requirement of defining a\n",
    "key:value pair.\n",
    "\n",
    "<style>\n",
    "html,body        {height: 100%;}\n",
    ".wrapper         {width: 80%; max-width: 1280px; height: 100%; margin: 0 auto; background: rgba(255, 255, 255, .0); padding-bottom: 50px}\n",
    ".h_iframe        {position: relative; padding-top: 56%;}\n",
    ".h_iframe iframe {position: absolute; top: 0; left: 0; width: 100%; height: 100%;}\n",
    "</style>\n",
    "\n",
    "<div class=\"wrapper\">\n",
    "    <div class=\"h_iframe\">\n",
    "        <iframe height=\"2\" width=\"2\" src=\"https://www.youtube.com/embed/n0CMJ-KERrQ\" title=\"YouTube video player\" frameborder=\"0\" allow=\"accelerometer; autoplay; clipboard-write; encrypted-media; gyroscope; picture-in-picture; web-share\" allowfullscreen></iframe>\n",
    "    </div>\n",
    "</div>\n"
   ]
  },
  {
   "attachments": {},
   "cell_type": "markdown",
   "metadata": {},
   "source": [
    "## Syntax of Dictionary Comprehension\n",
    "\n",
    "The basic syntax of dictionary comprehension in Python is as follows:\n",
    "\n",
    "```python\n",
    "{key_expression : value_expression for item in iterable}\n",
    "```\n",
    "\n",
    "The `key_expression` and `value_expression` are calculated for every item in the iterable. The resulting key-value pairs form the new dictionary."
   ]
  },
  {
   "attachments": {},
   "cell_type": "markdown",
   "metadata": {},
   "source": [
    "## Example of Dictionary Comprehension\n",
    "\n",
    "Let's consider an example where we want to create a dictionary with numbers between 1 and 5 as keys and their squares as values:"
   ]
  },
  {
   "cell_type": "code",
   "execution_count": null,
   "metadata": {},
   "outputs": [],
   "source": [
    "squares = {n: n**2 for n in range(1, 6)}\n",
    "print(squares)  # Output: {1: 1, 2: 4, 3: 9, 4: 16, 5: 25}\n"
   ]
  },
  {
   "attachments": {},
   "cell_type": "markdown",
   "metadata": {},
   "source": [
    "In this example, for each number `n` in the range from 1 to 5 (inclusive), we create a key-value pair with `n` as the key and `n**2` (the square of `n`) as the value."
   ]
  },
  {
   "attachments": {},
   "cell_type": "markdown",
   "metadata": {},
   "source": [
    "## Conditional Logic in Dictionary Comprehension\n",
    "\n",
    "Like list comprehensions, dictionary comprehensions can also incorporate\n",
    "conditional logic. Here's the syntax for a dictionary comprehension with an `if`\n",
    "condition:\n",
    "\n",
    "```python\n",
    "{key_expression : value_expression for item in iterable if condition}\n",
    "```\n",
    "\n",
    "If the `condition` is `True`, the `key_expression : value_expression` pair is added to the dictionary. If `False`, the item is skipped.\n",
    "\n",
    "Here's an example where we create a dictionary with only the even numbers between 1 and 5 and their squares:"
   ]
  },
  {
   "cell_type": "code",
   "execution_count": null,
   "metadata": {},
   "outputs": [],
   "source": [
    "even_squares = {n: n**2 for n in range(1, 6) if n % 2 == 0}\n",
    "print(even_squares)  # Output: {2: 4, 4: 16}\n"
   ]
  },
  {
   "attachments": {},
   "cell_type": "markdown",
   "metadata": {},
   "source": [
    "In this example, the `if` condition is `n % 2 == 0`, which checks if `n` is even. If it is, the key-value pair is added to the `even_squares` dictionary.\n",
    "\n",
    "Dictionary comprehension is a powerful tool in Python, enabling you to create dictionaries in a concise and readable way. By using it, you can often write more efficient and cleaner Python code."
   ]
  }
 ],
 "metadata": {
  "kernelspec": {
   "display_name": ".venv",
   "language": "python",
   "name": "python3"
  },
  "language_info": {
   "name": "python",
   "version": "3.8.10 (default, Nov 14 2022, 12:59:47) \n[GCC 9.4.0]"
  },
  "orig_nbformat": 4,
  "vscode": {
   "interpreter": {
    "hash": "65d994a2586566578e6f5f03c290bfd0b2867c7905a9622796af24a8a04596a2"
   }
  }
 },
 "nbformat": 4,
 "nbformat_minor": 2
}
