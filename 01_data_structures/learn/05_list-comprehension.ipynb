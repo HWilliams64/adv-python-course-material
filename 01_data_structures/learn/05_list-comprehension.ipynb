{
 "cells": [
  {
   "attachments": {},
   "cell_type": "markdown",
   "metadata": {},
   "source": [
    "# List Comprehensions\n",
    "\n",
    "In Python, list comprehension provides a concise way to create lists. It is a syntactic construct that is both powerful and expressive. Let's learn more about it."
   ]
  },
  {
   "attachments": {},
   "cell_type": "markdown",
   "metadata": {},
   "source": [
    "## Syntax of List Comprehension\n",
    "\n",
    "The basic syntax of list comprehension in Python is:\n",
    "\n",
    "```python\n",
    "[expression for item in iterable]\n",
    "```\n",
    "\n",
    "Here `expression` is an output expression producing items for the new list, `item` is a variable that takes each value in the iterable sequence (like a list, tuple, or string), and `iterable` is a sequence, an iterator, or other objects that we can iterate on."
   ]
  },
  {
   "attachments": {},
   "cell_type": "markdown",
   "metadata": {},
   "source": [
    "## Why Use List Comprehension?\n",
    "\n",
    "List comprehensions are used for their readability and performance benefits. They allow you to create new lists where each element is the result of some operation applied to each member of another sequence or iterable.\n",
    "\n",
    "They are more compact, readable, and often faster than traditional `for` loops or `lambda` functions, especially for simple operations that need to be applied to a sequence.\n"
   ]
  },
  {
   "attachments": {},
   "cell_type": "markdown",
   "metadata": {},
   "source": [
    "## How to Make a List Using List Comprehension\n",
    "\n",
    "<style>\n",
    "html,body        {height: 100%;}\n",
    ".wrapper         {width: 80%; max-width: 1280px; height: 100%; margin: 0 auto; background: rgba(255, 255, 255, .0); padding-bottom: 50px}\n",
    ".h_iframe        {position: relative; padding-top: 56%;}\n",
    ".h_iframe iframe {position: absolute; top: 0; left: 0; width: 100%; height: 100%;}\n",
    "</style>\n",
    "\n",
    "<div class=\"wrapper\">\n",
    "    <div class=\"h_iframe\">\n",
    "        <iframe height=\"2\" width=\"2\" src=\"https://www.youtube.com/embed/-bxQLnOfEr8\" title=\"YouTube video player\" frameborder=\"0\" allow=\"accelerometer; autoplay; clipboard-write; encrypted-media; gyroscope; picture-in-picture; web-share\" allowfullscreen></iframe>\n",
    "    </div>\n",
    "</div>\n",
    "\n",
    "Let's create a list that contains the squares of all numbers from 0 to 9."
   ]
  },
  {
   "cell_type": "code",
   "execution_count": null,
   "metadata": {},
   "outputs": [],
   "source": [
    "squares = [n**2 for n in range(10)]\n",
    "print(squares)  # Output: [0, 1, 4, 9, 16, 25, 36, 49, 64, 81]\n"
   ]
  },
  {
   "attachments": {},
   "cell_type": "markdown",
   "metadata": {},
   "source": [
    "In this example, `n**2` is the expression that's calculated for every item in the range from 0 to 9. Each calculated value is then added to the new `squares` list.\n",
    "\n",
    "We can also use list comprehension to create a list based on conditions. For example, let's create a list of even numbers from 0 to 9."
   ]
  },
  {
   "cell_type": "code",
   "execution_count": null,
   "metadata": {},
   "outputs": [],
   "source": [
    "even_numbers = [n for n in range(10) if n % 2 == 0]\n",
    "print(even_numbers)  # Output: [0, 2, 4, 6, 8]\n"
   ]
  },
  {
   "attachments": {},
   "cell_type": "markdown",
   "metadata": {},
   "source": [
    "In this example, `n` is only added to the `even_numbers` list if `n % 2 == 0` (i.e., if `n` is even).\n",
    "\n",
    "List comprehensions can also contain complex expressions and nested functions:"
   ]
  },
  {
   "cell_type": "code",
   "execution_count": null,
   "metadata": {},
   "outputs": [],
   "source": [
    "from math import factorial\n",
    "factorials = [factorial(n) for n in range(10)]\n",
    "print(factorials)  # Output: [1, 1, 2, 6, 24, 120, 720, 5040, 40320, 362880]"
   ]
  },
  {
   "attachments": {},
   "cell_type": "markdown",
   "metadata": {},
   "source": [
    "In this example, `factorial(n)` is calculated for each value of `n` in the range 0 to 9, and each result is added to the `factorials` list.\n",
    "\n",
    "List comprehensions offer a versatile tool for creating and transforming lists in Python. They provide a concise, readable alternative to traditional for loops and temporary variable assignments. Spend some time experimenting with list comprehensions, and you'll likely find them a valuable addition to your Python coding toolkit."
   ]
  },
  {
   "attachments": {},
   "cell_type": "markdown",
   "metadata": {},
   "source": [
    "## Adding Conditional Logic to List Comprehension\n",
    "\n",
    "<style>\n",
    "html,body        {height: 100%;}\n",
    ".wrapper         {width: 80%; max-width: 1280px; height: 100%; margin: 0 auto; background: rgba(255, 255, 255, .0); padding-bottom: 50px}\n",
    ".h_iframe        {position: relative; padding-top: 56%;}\n",
    ".h_iframe iframe {position: absolute; top: 0; left: 0; width: 100%; height: 100%;}\n",
    "</style>\n",
    "\n",
    "<div class=\"wrapper\">\n",
    "    <div class=\"h_iframe\">\n",
    "        <iframe height=\"2\" width=\"2\" src=\"https://www.youtube.com/embed/pHXEOl2kqgw\" title=\"YouTube video player\" frameborder=\"0\" allow=\"accelerometer; autoplay; clipboard-write; encrypted-media; gyroscope; picture-in-picture; web-share\" allowfullscreen></iframe>\n",
    "    </div>\n",
    "</div>\n",
    "\n",
    "List comprehensions in Python are not only great for creating lists out of iterables, they also support conditional logic. We can add `if` statements to list comprehension to selectively transform or filter elements from the source iterable. \n",
    "\n",
    "Here is the syntax for list comprehension with an `if` condition:\n",
    "\n",
    "```python\n",
    "[expression for item in iterable if condition]\n",
    "```\n",
    "\n",
    "Here, `condition` is a statement that gets evaluated for each `item` in the `iterable`. If the `condition` is `True`, the `expression` is calculated and added to the new list. If the `condition` is `False`, the item is skipped and not added to the new list."
   ]
  },
  {
   "attachments": {},
   "cell_type": "markdown",
   "metadata": {},
   "source": [
    "### Examples\n",
    "\n",
    "Let's consider a simple example where we want to create a list of squares for all even numbers between 0 and 9:"
   ]
  },
  {
   "cell_type": "code",
   "execution_count": null,
   "metadata": {},
   "outputs": [],
   "source": [
    "even_squares = [n**2 for n in range(10) if n % 2 == 0]\n",
    "print(even_squares)  # Output: [0, 4, 16, 36, 64]\n"
   ]
  },
  {
   "attachments": {},
   "cell_type": "markdown",
   "metadata": {},
   "source": [
    "In this case, the `if` condition is `n % 2 == 0`, which checks if the number is even. If it is, the square of the number (expression `n**2`) is added to the `even_squares` list.\n",
    "\n",
    "We can also use multiple `if` conditions in a list comprehension. For example, let's create a list of squares for numbers between 0 and 9 that are divisible by both 2 and 3:"
   ]
  },
  {
   "cell_type": "code",
   "execution_count": null,
   "metadata": {},
   "outputs": [],
   "source": [
    "special_squares = [n**2 for n in range(10) if n % 2 == 0 if n % 3 == 0]\n",
    "print(special_squares)  # Output: [0, 36]\n"
   ]
  },
  {
   "attachments": {},
   "cell_type": "markdown",
   "metadata": {},
   "source": [
    "In this case, both conditions must be `True` for the number's square to be included in the `special_squares` list.\n",
    "\n",
    "List comprehensions can also use `if-else` statements. Here is the syntax:\n",
    "\n",
    "```python\n",
    "[expression_if_true if condition else expression_if_false for item in iterable]\n",
    "```\n",
    "\n",
    "For example, let's create a list where we square even numbers and cube odd numbers between 0 and 9:"
   ]
  },
  {
   "cell_type": "code",
   "execution_count": null,
   "metadata": {},
   "outputs": [],
   "source": [
    "mixed_powers = [n**2 if n % 2 == 0 else n**3 for n in range(10)]\n",
    "print(mixed_powers)  # Output: [0, 1, 4, 27, 16, 125, 36, 343, 64, 729]\n"
   ]
  },
  {
   "attachments": {},
   "cell_type": "markdown",
   "metadata": {},
   "source": [
    "In this example, for each number `n`, if `n` is even (condition `n % 2 == 0` is `True`), we calculate `n**2`; otherwise (`else`), we calculate `n**3`.\n",
    "\n",
    "By using conditional logic in list comprehensions, you can create more complex and powerful transformations with concise, readable code."
   ]
  }
 ],
 "metadata": {
  "kernelspec": {
   "display_name": ".venv",
   "language": "python",
   "name": "python3"
  },
  "language_info": {
   "codemirror_mode": {
    "name": "ipython",
    "version": 3
   },
   "file_extension": ".py",
   "mimetype": "text/x-python",
   "name": "python",
   "nbconvert_exporter": "python",
   "pygments_lexer": "ipython3",
   "version": "3.8.10 (default, Nov 14 2022, 12:59:47) \n[GCC 9.4.0]"
  },
  "orig_nbformat": 4,
  "vscode": {
   "interpreter": {
    "hash": "65d994a2586566578e6f5f03c290bfd0b2867c7905a9622796af24a8a04596a2"
   }
  }
 },
 "nbformat": 4,
 "nbformat_minor": 2
}
