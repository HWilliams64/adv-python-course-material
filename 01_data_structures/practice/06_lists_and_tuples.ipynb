{
 "cells": [
  {
   "cell_type": "markdown",
   "metadata": {
    "collapsed": false
   },
   "source": [
    "# Reading Quiz: Lists and Tuples\n",
    "\n",
    "In the reading we learned about the following:\n",
    "1. What the list data structure is and how to manipulate them\n",
    "2. What the tuple data structure is and how to manipulate them\n",
    "\n",
    "**Do not use the input() or print() function for any of the following questions. Instead, you will receive your input\n",
    "as functional argments and return the value using a return statement**\n",
    "\n",
    "We will use this reading quiz to review what we've learned so far."
   ]
  },
  {
   "cell_type": "markdown",
   "metadata": {
    "collapsed": false
   },
   "source": [
    "## Indexing lists/tuples\n",
    "\n",
    "Create a function named `get_nth_value` that accepts two parameters. The first argument is a list or tuple and the\n",
    "second argument is a number greater than or equal to 0. The function should return the value in the list at the\n",
    "index that corresponds to the second argument of the function.\n",
    "\n",
    "### Example:\n",
    "```\n",
    "heros = ['Carol Danvers', 'Reed Richards', 'Steve Rodgers', 'Janet van Dyne', 'Natalia Alianovna Romanoff', 'Tony Stark']\n",
    "\n",
    "hero = get_nth_values(heros, 2)\n",
    "hero == 'Reed Richards'\n",
    "\n",
    "hero = get_nth_values(heros, 4)\n",
    "hero == 'Natalia Alianovna Romanoff'\n",
    "```"
   ]
  },
  {
   "cell_type": "code",
   "execution_count": null,
   "metadata": {
    "collapsed": false,
    "pycharm": {
     "name": "#%%\n"
    }
   },
   "outputs": [],
   "source": [
    "# If its code, put it here"
   ]
  },
  {
   "cell_type": "markdown",
   "metadata": {
    "collapsed": false
   },
   "source": [
    "## Indexing lists/tuples\n",
    "\n",
    "Create a function name `sub_list` that accepts 3 arguments. The function should return a sublist of the elements found\n",
    "within a given list. The first argument is a list, the second argument is the start index in the first argument that the\n",
    "returned sublist will start from. The second argument is the end index - 1 of the first argument the returned sublist\n",
    "will end at.\n",
    "\n",
    "### Example:\n",
    "```\n",
    "heros = ['Carol Danvers', 'Reed Richards', 'Steve Rodgers', 'Janet van Dyne', 'Natalia Alianovna Romanoff', 'Tony Stark']\n",
    "\n",
    "hero = get_nth_values(heros, 2, 5)\n",
    "hero_sublist == ['Steve Rodgers', 'Janet van Dyne', 'Natalia Alianovna Romanoff']\n",
    "\n",
    "hero = get_nth_values(heros, 0, 3)\n",
    "hero_sublist == ['Carol Danvers', 'Reed Richards', 'Steve Rodgers']\n",
    "```"
   ]
  },
  {
   "cell_type": "code",
   "execution_count": null,
   "metadata": {
    "collapsed": false,
    "pycharm": {
     "name": "#%%\n"
    }
   },
   "outputs": [],
   "source": [
    "# Write your sweet lines of technological gold right here"
   ]
  },
  {
   "cell_type": "markdown",
   "metadata": {
    "collapsed": false
   },
   "source": [
    "## Sum List\n",
    "\n",
    "Create a function named `sum_list` that returns the sum of every other number in a given list or tuple. The function\n",
    "will accept a single argument that is a list or tuple containing only numbers. The function should return the\n",
    "summation of every other number in list/tuple.\n",
    "\n",
    "```\n",
    "output = sum_list([1, 2, 3, 4, 5, 6])\n",
    "output == 9\n",
    "\n",
    "output = sum_list([139, 72, 299, 3, 44, 5, 9,6])\n",
    "output == 491\n",
    "```"
   ]
  },
  {
   "cell_type": "code",
   "execution_count": null,
   "metadata": {
    "collapsed": false,
    "pycharm": {
     "name": "#%%\n"
    }
   },
   "outputs": [],
   "source": [
    "# Make the programmatic magic happen here"
   ]
  },
  {
   "cell_type": "markdown",
   "metadata": {
    "collapsed": false,
    "pycharm": {
     "name": "#%% md\n"
    }
   },
   "source": [
    "# Add and Existence Checking\n",
    "\n",
    "Create a function named `add_if_no_exists`, that will add an element to a list if it does not already exist in the\n",
    "list. The function should accept two arguments the first is a list. The second is an element to be added to the list.\n",
    "The function should only add the element to the list if it is not already in the list. If the element is already in\n",
    "the list the function should do nothing."
   ]
  },
  {
   "cell_type": "code",
   "execution_count": null,
   "metadata": {
    "collapsed": false,
    "pycharm": {
     "name": "#%%\n"
    }
   },
   "outputs": [],
   "source": [
    "# Drop your code here"
   ]
  }
 ],
 "metadata": {
  "kernelspec": {
   "display_name": "Python 3",
   "language": "python",
   "name": "python3"
  },
  "language_info": {
   "codemirror_mode": {
    "name": "ipython",
    "version": 2
   },
   "file_extension": ".py",
   "mimetype": "text/x-python",
   "name": "python",
   "nbconvert_exporter": "python",
   "pygments_lexer": "ipython2",
   "version": "2.7.6"
  }
 },
 "nbformat": 4,
 "nbformat_minor": 0
}
