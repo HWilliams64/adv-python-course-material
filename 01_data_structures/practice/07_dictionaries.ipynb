{
 "cells": [
  {
   "cell_type": "markdown",
   "source": [
    "# Reading Quiz 07: Dictionaries\n",
    "\n",
    "In the reading we learned about the following:\n",
    "1. What the dictionary data structure is and how to manipulate them\n",
    "\n",
    "**Do not use the input() or print() function for any of the following questions. Instead, you will receive your input\n",
    "as functional argments and return the value using a return statement**\n",
    "\n",
    "We will use this reading quiz to review what we've learned so far."
   ],
   "metadata": {
    "collapsed": false
   }
  },
  {
   "cell_type": "markdown",
   "source": [
    "## Iterating over Dictionary Values\n",
    "\n",
    "Create a function named `get_larger` that accepts two arguments that are dictionaries. The values in both\n",
    "dictionary arguments are numbers. Return the dictionary with the largest total sum of values.\n",
    "\n",
    "### Example\n",
    "```\n",
    "arg1 = {'1':1, '2':2, '3':3}\n",
    "arg2 = {'4':4, '5':5, '6':6}\n",
    "output = get_larger(arg1, arg2)\n",
    "output == arg2\n",
    " ```"
   ],
   "metadata": {
    "collapsed": false
   }
  },
  {
   "cell_type": "code",
   "execution_count": null,
   "metadata": {
    "collapsed": true
   },
   "outputs": [],
   "source": [
    "# Super sweet code goes here"
   ]
  },
  {
   "cell_type": "markdown",
   "source": [
    "## Find a key\n",
    "\n",
    "Create a function named `find` that accepts three arguments the first argument is a key and the last two arguments are\n",
    "dictionaries. The function needs to return the value associated with the key argument by looking in the first\n",
    "dictionary and if it's not there then looking in the second dictionary. The key is guaranteed to be in either\n",
    "dictionary but not both.\n",
    "\n",
    "```\n",
    "arg1 = {'1':1, '2':2, '3':3}\n",
    "arg2 = {'4':4, '5':5, '6':6}\n",
    "output = get_larger('5', arg1, arg2)\n",
    "output == 5\n",
    " ```"
   ],
   "metadata": {
    "collapsed": false
   }
  },
  {
   "cell_type": "code",
   "execution_count": null,
   "outputs": [],
   "source": [
    "# Your best code goes here"
   ],
   "metadata": {
    "collapsed": false,
    "pycharm": {
     "name": "#%%\n"
    }
   }
  },
  {
   "cell_type": "markdown",
   "source": [
    "## Combine Dictionaries\n",
    "\n",
    "Create a function named `combine` that accepts two arguments that are dictionaries and returns a single dictionary.\n",
    "The returned dictionary should be the combination of the two dictionaries but there should be no duplicate values.\n",
    "The key-value pairs of the first dictionary should take priority over key-value pairs in the second dictionaries.\n",
    "You can be assured that the nether dictionary will have the same keys.\n",
    "\n",
    "```\n",
    "arg1 = {'1a':1, '2a':2, '3a':3}\n",
    "arg2 = {'3b':3, '4a':4, '1b':1}\n",
    "output = combine(arg1, arg2)\n",
    "output == {'1a':1, '2a':2, '3a':3, '4a':4}\n",
    " ```"
   ],
   "metadata": {
    "collapsed": false
   }
  },
  {
   "cell_type": "code",
   "execution_count": null,
   "outputs": [],
   "source": [
    "# Inject your code here"
   ],
   "metadata": {
    "collapsed": false,
    "pycharm": {
     "name": "#%%\n"
    }
   }
  }
 ],
 "metadata": {
  "kernelspec": {
   "display_name": "Python 3",
   "language": "python",
   "name": "python3"
  },
  "language_info": {
   "codemirror_mode": {
    "name": "ipython",
    "version": 2
   },
   "file_extension": ".py",
   "mimetype": "text/x-python",
   "name": "python",
   "nbconvert_exporter": "python",
   "pygments_lexer": "ipython2",
   "version": "2.7.6"
  }
 },
 "nbformat": 4,
 "nbformat_minor": 0
}