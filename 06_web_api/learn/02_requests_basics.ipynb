{
 "cells": [
  {
   "attachments": {},
   "cell_type": "markdown",
   "metadata": {},
   "source": [
    "# Making HTTP Requests with Python's Requests Library\n",
    "\n",
    "Python's `requests` library is a package used for making HTTP requests. It abstracts the complexities of making requests behind a beautiful, simple API, allowing you to send HTTP requests with just a few lines of code. Here's a simple tutorial on how to use it.\n"
   ]
  },
  {
   "attachments": {},
   "cell_type": "markdown",
   "metadata": {},
   "source": [
    "\n",
    "## Installation\n",
    "\n",
    "If you not working in a GT Workspace/IDE you must install the `requests`\n",
    "library, you can do so using pip, the Python package installer. Run the command\n",
    "below in your computer termianl (If you are working in the GT IDE you can skip\n",
    "this step):\n",
    "\n",
    "\n",
    "```sh\n",
    "pip install requests\n",
    "```"
   ]
  },
  {
   "attachments": {},
   "cell_type": "markdown",
   "metadata": {},
   "source": [
    "## Making a GET Request\n",
    "\n",
    "Now that you have `requests` installed, let's start with a basic GET request. Let's fetch a webpage, for example, `http://example.com`.\n"
   ]
  },
  {
   "cell_type": "code",
   "execution_count": null,
   "metadata": {},
   "outputs": [],
   "source": [
    "import requests\n",
    "\n",
    "response = requests.get('http://graderthan.com')\n",
    "\n",
    "print(response.text)"
   ]
  },
  {
   "cell_type": "markdown",
   "metadata": {},
   "source": [
    "\n",
    "In the above script, `requests.get()` is a method that sends a GET request to the specified URL. It returns a `Response` object, which contains the server's response to the request. We then print out the response text using `response.text`.\n"
   ]
  },
  {
   "attachments": {},
   "cell_type": "markdown",
   "metadata": {},
   "source": [
    "\n",
    "## Handling Response Status\n",
    "\n",
    "You can also check the status of your request by examining the `status_code` property of the response:\n"
   ]
  },
  {
   "cell_type": "code",
   "execution_count": null,
   "metadata": {},
   "outputs": [],
   "source": [
    "print(response.status_code)"
   ]
  },
  {
   "cell_type": "markdown",
   "metadata": {},
   "source": [
    "\n",
    "A `200` status code means your request was successful, while a `404` status code indicates that the resource you were looking for was not found.\n",
    "\n",
    "## Adding Query Parameters\n",
    "\n",
    "If you want to add query parameters to your GET request, you can do so by adding them to the URL or by using the `params` parameter of the `get` method.\n",
    "\n",
    "```python\n",
    "payload = {'key1': 'value1', 'key2': 'value2'}\n",
    "response = requests.get('http://httpbin.org/get', params=payload)\n",
    "\n",
    "print(response.url)\n",
    "print(response.text)\n",
    "```\n",
    "\n",
    "## Making a POST Request\n",
    "\n",
    "To send a POST request, you can use the `requests.post()` method:\n",
    "\n",
    "```python\n",
    "payload = {'key1': 'value1', 'key2': 'value2'}\n",
    "response = requests.post('http://httpbin.org/post', data=payload)\n",
    "\n",
    "print(response.text)\n",
    "```\n",
    "\n",
    "## Handling JSON Response\n",
    "\n",
    "Many HTTP APIs will return data in JSON format. The `requests` library provides a built-in JSON decoder:\n",
    "\n",
    "```python\n",
    "response = requests.get('http://httpbin.org/get')\n",
    "data = response.json()\n",
    "\n",
    "print(data)\n",
    "```\n",
    "\n",
    "The `response.json()` method will parse the JSON response into a Python dictionary.\n",
    "\n",
    "This is just the beginning of what you can do with the `requests` library. It also supports other HTTP methods like PUT, DELETE, HEAD, and OPTIONS, and features like custom headers, file uploads, timeouts, handling cookies, and more. Be sure to check out the [official documentation](http://docs.python-requests.org/) for more information.\n"
   ]
  }
 ],
 "metadata": {
  "kernelspec": {
   "display_name": ".venv",
   "language": "python",
   "name": "python3"
  },
  "language_info": {
   "name": "python",
   "version": "3.8.10 (default, Nov 14 2022, 12:59:47) \n[GCC 9.4.0]"
  },
  "orig_nbformat": 4,
  "vscode": {
   "interpreter": {
    "hash": "65d994a2586566578e6f5f03c290bfd0b2867c7905a9622796af24a8a04596a2"
   }
  }
 },
 "nbformat": 4,
 "nbformat_minor": 2
}
