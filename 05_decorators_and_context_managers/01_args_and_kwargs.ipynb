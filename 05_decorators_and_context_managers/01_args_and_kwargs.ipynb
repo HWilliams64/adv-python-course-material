{
 "cells": [
  {
   "cell_type": "markdown",
   "metadata": {},
   "source": [
    "# Understanding *args and **kwargs in Python\n",
    "\n",
    "In Python, `*args` and `**kwargs` are special operators used in function definitions. `*args` is used to pass a variable number of non-keyword arguments to a function, while `**kwargs` allows you to pass a variable number of keyword arguments. These operators make your functions flexible, allowing them to handle a variety of input parameters without needing to define each one individually.\n"
   ]
  },
  {
   "cell_type": "markdown",
   "metadata": {},
   "source": [
    "## The Power of *args\n",
    "\n",
    "`*args` allows a function to accept any number of positional arguments. This means you can pass as many arguments as you wish to the function without explicitly defining each parameter in the function's definition.\n"
   ]
  },
  {
   "cell_type": "code",
   "execution_count": null,
   "metadata": {},
   "outputs": [],
   "source": [
    "def add_numbers(*args):\n",
    "    return sum(args)\n",
    "\n",
    "print(add_numbers(3, 5))\n",
    "print(add_numbers(4, 5, 6, 7))\n"
   ]
  },
  {
   "cell_type": "markdown",
   "metadata": {},
   "source": [
    "\n",
    "- The `*args` parameter in the `add_numbers` function collects all the positional arguments passed to the function into a tuple.\n",
    "- The `sum()` function is then used to add all the numbers in the tuple.\n",
    "- This approach makes `add_numbers` highly versatile, as it can handle any number of arguments.\n"
   ]
  },
  {
   "cell_type": "markdown",
   "metadata": {},
   "source": [
    "## Exploring **kwargs\n",
    "\n",
    "`**kwargs` works similarly to `*args`, but for keyword arguments. It allows you to handle named arguments dynamically, collecting them into a dictionary.\n"
   ]
  },
  {
   "cell_type": "code",
   "execution_count": null,
   "metadata": {},
   "outputs": [],
   "source": [
    "def introduce_yourself(**kwargs):\n",
    "    for key, value in kwargs.items():\n",
    "        print(f\"{key}: {value}\")\n",
    "\n",
    "introduce_yourself(name=\"Tanya\", age=20, hobby=\"coding\")\n"
   ]
  },
  {
   "cell_type": "markdown",
   "metadata": {},
   "source": [
    "\n",
    "- The `**kwargs` parameter collects all the keyword arguments into a dictionary.\n",
    "- The function iterates over the dictionary, printing out each key-value pair.\n",
    "- This method is useful for functions that require a flexible number of named parameters.\n"
   ]
  },
  {
   "cell_type": "markdown",
   "metadata": {},
   "source": [
    "\n",
    "## Try it out\n",
    "\n",
    "Now, it's your turn to practice! Write a function called `create_profile` that accepts a name and any number of additional keyword arguments. The function should print out the name and then any of the additional information received (like age, profession, and hobbies).\n"
   ]
  },
  {
   "cell_type": "code",
   "execution_count": null,
   "metadata": {},
   "outputs": [],
   "source": [
    "def create_profile(name, **kwargs):\n",
    "    # Your code here. Print the name and any other information provided.\n",
    "    pass"
   ]
  },
  {
   "cell_type": "markdown",
   "metadata": {},
   "source": [
    "\n",
    "Try calling your function with various combinations of information to see how it handles different amounts of keyword arguments."
   ]
  },
  {
   "cell_type": "markdown",
   "metadata": {},
   "source": [
    "## Combining *args and **kwargs in Functions\n",
    "\n",
    "Python allows for even greater flexibility by combining `*args` and `**kwargs` in a single function definition. This enables the function to accept an arbitrary number of both positional and keyword arguments. The key to using them together is to ensure `*args` comes before `**kwargs` in the function definition.\n"
   ]
  },
  {
   "cell_type": "markdown",
   "metadata": {},
   "source": [
    "\n",
    "### Handling Both *args and **kwargs\n",
    "\n",
    "When you combine `*args` and `**kwargs`, `*args` captures unspecified positional arguments as a tuple, and `**kwargs` captures unspecified keyword arguments as a dictionary. This combination allows a function to accept virtually any form of arguments passed to it.\n"
   ]
  },
  {
   "cell_type": "code",
   "execution_count": null,
   "metadata": {},
   "outputs": [],
   "source": [
    "def register_participant(*args, **kwargs):\n",
    "    print(\"Participant Details:\")\n",
    "    for arg in args:\n",
    "        print(arg)\n",
    "    print(\"\\nAdditional Information:\")\n",
    "    for key in kwargs:\n",
    "        print(f\"{key}: {kwargs[key]}\")\n",
    "\n",
    "register_participant(\"Tony\", \"Stark\", age=45, nickname=\"ironman\")\n"
   ]
  },
  {
   "cell_type": "markdown",
   "metadata": {},
   "source": [
    "\n",
    "- This example showcases a `register_participant` function that can take multiple types of data about a participant.\n",
    "- The positional arguments (`*args`) might represent essential participant information, like name and skill level.\n",
    "- The keyword arguments (`**kwargs`) can include any additional details provided upon registration.\n"
   ]
  },
  {
   "cell_type": "markdown",
   "metadata": {},
   "source": [
    "\n",
    "### Guidelines for Using *args and **kwargs Together\n",
    "\n",
    "- **Order Matters**: Always put `*args` before `**kwargs` in the function definition to avoid syntax errors.\n",
    "- **Clarity is Key**: Use these features to make your functions flexible, but avoid overcomplicating function signatures.\n",
    "- **Documentation**: Always document what kinds of positional and keyword arguments your function expects. This makes your code more readable and user-friendly.\n"
   ]
  },
  {
   "cell_type": "markdown",
   "metadata": {},
   "source": [
    "\n",
    "### Try it out\n",
    "\n",
    "Create a function `plan_event` that accepts a title and a date as positional arguments, and any number of additional keyword arguments representing other details about the event (like location, time, and the name of the guest speaker). Use `*args` for the title and date, and `**kwargs` for the additional details. Print out all the information in an organized format.\n"
   ]
  },
  {
   "cell_type": "code",
   "execution_count": null,
   "metadata": {},
   "outputs": [],
   "source": [
    "\n",
    "def plan_event(*args, **kwargs):\n",
    "    # Your code here to print event details.\n",
    "    pass\n"
   ]
  },
  {
   "cell_type": "markdown",
   "metadata": {},
   "source": [
    "\n",
    "Experiment with calling `plan_event` using different combinations of arguments to see how it handles them. This exercise will give you a practical understanding of how to leverage the power of both `*args` and `**kwargs` in Python."
   ]
  }
 ],
 "metadata": {
  "language_info": {
   "name": "python"
  }
 },
 "nbformat": 4,
 "nbformat_minor": 2
}
