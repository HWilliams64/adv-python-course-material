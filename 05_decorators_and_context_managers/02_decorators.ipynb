{
 "cells": [
  {
   "cell_type": "markdown",
   "metadata": {},
   "source": [
    "# Creating Custom Decorators in Python\n",
    "\n",
    "In this notebook, we'll explore how to create custom decorators in Python. Decorators are a significant part of Python, allowing you to modify the behavior of a function or method. They provide a simple syntax for calling higher-order functions. By the end of this section, you will understand the basics of decorators, how they work, and how to create your own decorators, both with and without arguments.\n"
   ]
  },
  {
   "cell_type": "markdown",
   "metadata": {},
   "source": [
    "## What is a Decorator?\n",
    "\n",
    "A decorator in Python is a function that takes another function as its argument and extends or modifies its behavior without permanently changing the original function. It's a powerful tool for adding functionality to existing code in a clean and concise way.\n"
   ]
  },
  {
   "cell_type": "markdown",
   "metadata": {},
   "source": [
    "## How Do Decorators Work?\n",
    "\n",
    "Decorators work by taking a function, adding some functionality to it, and then returning a new function. When you decorate a function, you're essentially telling Python to call the decorator function first and then pass the original function to it, allowing you to wrap additional code around the original function.\n"
   ]
  },
  {
   "cell_type": "markdown",
   "metadata": {},
   "source": [
    "## When to Use Decorators\n",
    "\n",
    "Decorators are useful when you need to add the same functionality to multiple functions or methods. Common use cases include:\n",
    "\n",
    "- Logging function calls\n",
    "- Measuring execution time\n",
    "- Access control and authentication\n",
    "- Caching the results of expensive operations\n",
    "- Enforcing type checking or other pre-conditions\n"
   ]
  },
  {
   "cell_type": "markdown",
   "metadata": {},
   "source": [
    "## How to Create a Decorator Without Arguments\n",
    "\n",
    "Creating a basic decorator without arguments is straightforward, let's break\n",
    "down the steps and examine how the decorator interacts with the function it\n",
    "decorates. We'll use a simple example to illustrate this: a decorator that\n",
    "prints messages before and after a function call.\n",
    "\n",
    "A decorator is essentially a function that takes another function as its input\n",
    "and returns a new function that alters or enhances the behavior of the original\n",
    "function. This process does not modify the original function's code; instead, it\n",
    "extends its behavior dynamically. \n",
    "\n",
    "Here's our example decorator and function: \n"
   ]
  },
  {
   "cell_type": "code",
   "execution_count": null,
   "metadata": {},
   "outputs": [],
   "source": [
    "def my_decorator(func):\n",
    "    def wrapper():\n",
    "        print(\"Something is happening before the function is called.\")\n",
    "        func()\n",
    "        print(\"Something is happening after the function is called.\")\n",
    "    return wrapper\n",
    "\n",
    "@my_decorator\n",
    "def say_hello():\n",
    "    print(\"Hello!\")\n"
   ]
  },
  {
   "cell_type": "markdown",
   "metadata": {},
   "source": [
    "### Step-by-Step Explanation\n",
    "\n",
    "1. **Defining the Decorator**: \n",
    "\n",
    "- `my_decorator` is our decorator function. It takes another function `func` as an argument. This `func` is the function we intend to decorate.\n",
    "\n",
    "2. **Creating the Wrapper Function**: \n",
    "\n",
    "- Inside `my_decorator`, we define another function named `wrapper`. This function is where we add the new functionality we want to introduce. \n",
    "- In this example, `wrapper` adds two print statements to run before and after `func` is called.\n",
    "- Note that `wrapper` calls `func` directly, meaning it executes the original function passed to `my_decorator`.\n",
    "\n",
    "3. **Returning the New Function**:\n",
    "\n",
    "- `my_decorator` returns `wrapper` as its result. The returned `wrapper` function is now a decorated version of the original `func`, enhanced with additional functionality.\n",
    "\n",
    "4. **Applying the Decorator**:\n",
    "\n",
    "- The `@my_decorator` syntax is syntactic sugar for `say_hello = my_decorator(say_hello)`.\n",
    "- This line applies our decorator to the `say_hello` function. Instead of calling `say_hello` directly, calls to `say_hello` now execute the `wrapper` function.\n"
   ]
  },
  {
   "cell_type": "markdown",
   "metadata": {},
   "source": [
    "\n",
    "### How It Works Internally\n",
    "\n",
    "When you invoke `say_hello()`, you're not calling the original `say_hello` function anymore. Instead, you're calling `wrapper`, the function returned by `my_decorator`. `wrapper` does its pre- and post-function call actions and then calls the original `say_hello` function in between.\n"
   ]
  },
  {
   "cell_type": "markdown",
   "metadata": {},
   "source": [
    "\n",
    "### Extending the Concept\n",
    "\n",
    "Although our example uses a decorator without parameters, Python's flexibility allows decorators to be much more powerful. They can:\n",
    "\n",
    "- Accept arguments themselves (creating decorators with arguments).\n",
    "- Decorate functions that take arguments by using `*args` and `**kwargs` in the `wrapper` function.\n",
    "- Be applied to methods in classes, with a slight modification to handle the `self` argument.\n"
   ]
  },
  {
   "cell_type": "markdown",
   "metadata": {},
   "source": [
    "## How to Create a Decorator With Arguments\n",
    "\n",
    "Creating a decorator with arguments in Python adds an additional layer of flexibility, allowing you to customize the behavior of the decorator itself. This involves a slightly more complex structure than decorators without arguments because you need to introduce an outer function that accepts the arguments for the decorator. Let's explore this concept with a detailed breakdown using an example.\n",
    "\n",
    "### The Structure of a Decorator With Arguments\n",
    "\n",
    "A decorator with arguments is essentially a function that returns a decorator, which in turn returns a wrapper function. The outer function takes the arguments for the decorator, the middle function takes the function to be decorated, and the innermost function (the wrapper) adds functionality around the decorated function.\n",
    "\n",
    "Here's an example that demonstrates a decorator with arguments:\n",
    "\n"
   ]
  },
  {
   "cell_type": "code",
   "execution_count": null,
   "metadata": {},
   "outputs": [],
   "source": [
    "def repeat(num_times):\n",
    "    def decorator_repeat(func):\n",
    "        def wrapper(*args, **kwargs):\n",
    "            for _ in range(num_times):\n",
    "                result = func(*args, **kwargs)\n",
    "            return result\n",
    "        return wrapper\n",
    "    return decorator_repeat\n",
    "\n",
    "@repeat(num_times=3)\n",
    "def greet(name):\n",
    "    print(f\"Hello {name}\")\n"
   ]
  },
  {
   "cell_type": "markdown",
   "metadata": {},
   "source": [
    "\n",
    "### Breaking Down the Example\n",
    "\n",
    "1. **Defining the Decorator Factory**:\n",
    "\n",
    "- The outermost function `repeat(num_times)` is not the decorator itself but a decorator factory that accepts arguments for the decorator. In this case, `num_times` specifies how many times the decorated function should be repeated.\n",
    "\n",
    "2. **Creating the Decorator**:\n",
    "\n",
    "- Inside `repeat`, the `decorator_repeat(func)` function is the actual decorator. It takes a function `func` to be decorated. This layer is necessary to accept and preserve the decorator arguments (`num_times`).\n",
    "\n",
    "3. **Adding the Wrapper Function**:\n",
    "\n",
    "- The innermost function, `wrapper(*args, **kwargs)`, is where the additional functionality is applied. It allows the decorated function to accept any number of positional and keyword arguments (`*args` and `**kwargs`), making the decorator applicable to functions with various signatures.\n",
    "- Inside `wrapper`, the decorated function `func` is called `num_times`, each time passing along any arguments it received.\n",
    "\n",
    "4. **Applying the Decorator with Arguments**:\n",
    "\n",
    "- To use the decorator, you prepend the function definition with `@repeat(num_times=3)`. This applies `repeat` to `greet`, causing `greet` to be called three times whenever it is invoked.\n"
   ]
  },
  {
   "cell_type": "markdown",
   "metadata": {},
   "source": [
    "### How It Works Internally\n",
    "\n",
    "- When Python encounters `@repeat(num_times=3)`, it calls `repeat(3)`. This returns the `decorator_repeat` function.\n",
    "- `decorator_repeat` is then applied to `greet`, returning the `wrapper` function, which replaces `greet`.\n",
    "- Now, when `greet` is called, it actually executes `wrapper`, which runs `greet` three times.\n"
   ]
  },
  {
   "cell_type": "markdown",
   "metadata": {},
   "source": [
    "### Advantages of Decorators With Arguments\n",
    "\n",
    "- **Customizability**: They allow the behavior of the decorator to be customized each time it's applied to a function.\n",
    "- **Reusability**: The same decorator can be applied in different ways to different functions, enhancing code reusability.\n",
    "- **Clarity**: They can make the intention behind the use of a decorator clearer by explicitly specifying arguments.\n"
   ]
  },
  {
   "cell_type": "markdown",
   "metadata": {},
   "source": [
    "### Extending the Concept\n",
    "\n",
    "Decorators with arguments can be used to implement a wide variety of functionalities, such as:\n",
    "\n",
    "- Logging with configurable log levels.\n",
    "- Access control with customizable permissions.\n",
    "- Rate limiting or caching with tunable parameters.\n"
   ]
  },
  {
   "cell_type": "markdown",
   "metadata": {},
   "source": [
    "\n",
    "### Try it out\n",
    "\n",
    "Now it's your turn to experiment:\n",
    "\n",
    "1. Create a decorator `check_positive` that takes an argument. The decorator\n",
    "   should check if all arguments provided to the decorated function are positive\n",
    "   numbers. \n",
    "\n"
   ]
  },
  {
   "cell_type": "code",
   "execution_count": null,
   "metadata": {},
   "outputs": [],
   "source": [
    "# Write you code here"
   ]
  },
  {
   "cell_type": "markdown",
   "metadata": {},
   "source": [
    "\n",
    "\n",
    "This exercise will help you understand how to create and apply custom decorators\n",
    "in Python, enhancing your functions with reusable components.\n",
    "\n",
    "### Conclusion\n",
    "\n",
    "Understanding how to create and use decorators with arguments significantly enhances your ability to write clean, efficient, and reusable Python code. This mechanism provides a powerful way to add behavior to functions and methods dynamically, based on customizable parameters, opening up endless possibilities for automating and abstracting functionality in your programs.\n"
   ]
  }
 ],
 "metadata": {
  "language_info": {
   "name": "python"
  }
 },
 "nbformat": 4,
 "nbformat_minor": 2
}
