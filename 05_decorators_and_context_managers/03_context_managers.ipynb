{
 "cells": [
  {
   "attachments": {},
   "cell_type": "markdown",
   "metadata": {},
   "source": [
    "# Python Context Managers and Cleanup\n",
    "\n",
    "As we venture deeper into the fascinating world of Python, we stumble upon a powerful feature known as context managers. Context managers allow us to properly manage resources so we can avoid leaving open connections or having locked resources. They're ideal for handling setup and cleanup procedures, which might be difficult to manage due to exceptions or multiple return paths.\n",
    "\n",
    "Let's delve in!\n"
   ]
  },
  {
   "attachments": {},
   "cell_type": "markdown",
   "metadata": {},
   "source": [
    "\n",
    "## Understanding Context Managers and the `with` Statement\n",
    "\n",
    "In Python, context managers are typically used with the `with` keyword. You may have already seen this when reading or writing to files:\n"
   ]
  },
  {
   "cell_type": "code",
   "execution_count": null,
   "metadata": {},
   "outputs": [],
   "source": [
    "with open('example.txt', 'r') as my_file:\n",
    "    content = my_file.read()\n"
   ]
  },
  {
   "attachments": {},
   "cell_type": "markdown",
   "metadata": {},
   "source": [
    "\n",
    "In this code, `open('example.txt', 'r')` is a context manager that handles the opening and closing of the file. We don't need to remember to close the file — it's taken care of us automatically!\n"
   ]
  },
  {
   "attachments": {},
   "cell_type": "markdown",
   "metadata": {},
   "source": [
    "\n",
    "## How Context Managers Work\n",
    "\n",
    "The magic of context managers is in two special methods: `__enter__` and `__exit__`.\n",
    "\n",
    "The `__enter__` method is executed at the beginning of the `with` block. In the file example above, this method opens the file and returns it.\n",
    "\n",
    "The `__exit__` method is executed at the end of the `with` block — even if the block is exited due to an exception. This method takes care of the cleanup. In the file example, it closes the file.\n"
   ]
  },
  {
   "attachments": {},
   "cell_type": "markdown",
   "metadata": {},
   "source": [
    "\n",
    "## Creating Your Own Context Managers\n",
    "\n",
    "We aren't limited to using built-in context managers. Python gives us the power to create our own!\n"
   ]
  },
  {
   "attachments": {},
   "cell_type": "markdown",
   "metadata": {},
   "source": [
    "\n",
    "### Using Classes\n",
    "\n",
    "We can create a context manager by defining a class with `__enter__` and `__exit__` methods. For example, let's create a simple context manager that logs the entering and exiting of a code block:\n"
   ]
  },
  {
   "cell_type": "code",
   "execution_count": null,
   "metadata": {},
   "outputs": [],
   "source": [
    "class LogContext:\n",
    "    def __enter__(self):\n",
    "        print(\"Entering the block\")\n",
    "\n",
    "    def __exit__(self, exc_type, exc_val, exc_tb):\n",
    "        print(\"Exiting the block\")\n",
    "\n",
    "with LogContext():\n",
    "    print(\"Hello, World!\")\n"
   ]
  },
  {
   "attachments": {},
   "cell_type": "markdown",
   "metadata": {},
   "source": [
    "### `__exit__` arguments \n",
    "\n",
    "Let's break down what each of these arguments to the `__exit__` method mean:\n",
    "\n",
    "- `exc_type`: The type of the exception that was raised. If no exception was raised, it will be `None`.\n",
    "\n",
    "- `exc_val`: An instance of the exception that was raised. Its value is typically an error message. If no exception was raised, it will be `None`.\n",
    "\n",
    "- `exc_tb`: A traceback object encapsulating the call stack at the point where the exception was raised. If no exception was raised, it will be `None`.\n",
    "\n",
    "These arguments give you information about any exception that might have happened inside the `with` block. They allow your `__exit__` method to respond differently to different kinds of exceptions, if you want it to.\n",
    "\n",
    "For example, you might want to log different messages for different types of exceptions, or you might want to re-raise the exception after logging it. Here's an example:\n"
   ]
  },
  {
   "cell_type": "code",
   "execution_count": null,
   "metadata": {},
   "outputs": [],
   "source": [
    "class LogContext:\n",
    "    def __enter__(self):\n",
    "        print(\"Entering the block\")\n",
    "\n",
    "    def __exit__(self, exc_type, exc_val, exc_tb):\n",
    "        print(\"Exiting the block\")\n",
    "\n",
    "        if exc_type is not None:\n",
    "            print(f\"Exception has been handled, {exc_val}\")\n",
    "            \n",
    "        return True  # Exception has been handled\n"
   ]
  },
  {
   "cell_type": "markdown",
   "metadata": {},
   "source": [
    "\n",
    "In this version of the `ManagedFile` class, the `__exit__` method logs a message if an exception was raised, and then returns `True` to indicate that it has handled the exception. This will prevent the exception from being propagated further."
   ]
  },
  {
   "attachments": {},
   "cell_type": "markdown",
   "metadata": {},
   "source": [
    "### Using Generators\n",
    "\n",
    "Python also allows us to create a context manager using generators and the `@contextlib.contextmanager` decorator from the `contextlib` module. This can be a simpler way to create a context manager:\n"
   ]
  },
  {
   "cell_type": "code",
   "execution_count": null,
   "metadata": {},
   "outputs": [],
   "source": [
    "from contextlib import contextmanager\n",
    "\n",
    "@contextmanager\n",
    "def log_context():\n",
    "    print(\"Entering the block\")\n",
    "    yield\n",
    "    print(\"Exiting the block\")\n",
    "\n",
    "with log_context():\n",
    "    print(\"Hello, World!\")\n"
   ]
  },
  {
   "attachments": {},
   "cell_type": "markdown",
   "metadata": {},
   "source": [
    "This will output the same as before.\n"
   ]
  },
  {
   "attachments": {},
   "cell_type": "markdown",
   "metadata": {},
   "source": [
    "## Using arguments in a context manager\n",
    "\n",
    "Let's make a context manager using a class that accepts arguments. \n",
    "\n",
    "Let's design a context manager called `ManagedFile` that will open a file, perform operations, and then ensure that the file is closed. This context manager will accept the filename and the mode of opening as arguments.\n",
    "\n",
    "Here's how we might implement it:\n"
   ]
  },
  {
   "cell_type": "code",
   "execution_count": null,
   "metadata": {},
   "outputs": [],
   "source": [
    "class ManagedFile:\n",
    "    def __init__(self, filename, mode):\n",
    "        self.filename = filename\n",
    "        self.mode = mode\n",
    "\n",
    "    def __enter__(self):\n",
    "        self.file = open(self.filename, self.mode)\n",
    "        return self.file\n",
    "\n",
    "    def __exit__(self, exc_type, exc_val, exc_tb):\n",
    "        if self.file:\n",
    "            self.file.close()\n",
    "\n",
    "# Usage:\n",
    "with ManagedFile('hello.txt', 'w') as f:\n",
    "    f.write('Hello, world!')\n",
    "    f.write('Python context manager is great!')"
   ]
  },
  {
   "cell_type": "markdown",
   "metadata": {},
   "source": [
    "\n",
    "In the `__init__` method, we store the filename and mode. Then, in the `__enter__` method, we open the file with the given mode and return it. In the `__exit__` method, we close the file.\n",
    "\n",
    "Within the `with` block, we can do whatever we want with `f`. When the `with` block is exited (either normally or due to an exception), the `__exit__` method is called, and the file is closed."
   ]
  },
  {
   "cell_type": "markdown",
   "metadata": {},
   "source": [
    "\n",
    "## Practice!\n",
    "\n",
    "Context managers are everywhere in Python, not just with file operations. They're used with thread locking, changing the current directory, and more. Try to use context managers whenever you need to manage resources or change some global state temporarily. You can also practice creating your own context managers with classes or generators!\n",
    "\n",
    "That wraps up our overview of context managers in Python. They're a powerful tool that can help us write cleaner and more efficient code by handling setup and cleanup automatically. Happy coding!"
   ]
  }
 ],
 "metadata": {
  "kernelspec": {
   "display_name": ".venv",
   "language": "python",
   "name": "python3"
  },
  "language_info": {
   "name": "python",
   "version": "3.8.10 (default, Nov 14 2022, 12:59:47) \n[GCC 9.4.0]"
  },
  "orig_nbformat": 4,
  "vscode": {
   "interpreter": {
    "hash": "65d994a2586566578e6f5f03c290bfd0b2867c7905a9622796af24a8a04596a2"
   }
  }
 },
 "nbformat": 4,
 "nbformat_minor": 2
}
